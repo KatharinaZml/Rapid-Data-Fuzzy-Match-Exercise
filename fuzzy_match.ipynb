{
 "cells": [
  {
   "cell_type": "markdown",
   "metadata": {},
   "source": [
    "### Kunden Match <a class=\"anchor\" id=\"chapter1\"></a>"
   ]
  },
  {
   "cell_type": "code",
   "execution_count": 1,
   "metadata": {},
   "outputs": [],
   "source": [
    "import pandas as pd\n",
    "import numpy as np\n",
    "\n",
    "from fuzzywuzzy import fuzz\n",
    "from fuzzywuzzy import process"
   ]
  },
  {
   "cell_type": "markdown",
   "metadata": {},
   "source": [
    "Questions to understand both datasets' structure, quality and the insights.\n",
    "\n",
    "Data Quality\n",
    "\n",
    "1) Data Completeness:\n",
    "\n",
    "- Are there missing values in the DS? If so, how many and in which columns?\n",
    "- What is the proportion of missing values?\n",
    "\n",
    "(2) Data Consistency\n",
    "\n",
    "- Are there any inconsistencies in the data entries, such as different formats for the same type of data?\n",
    "- Are there duplicate rows in the dataset?\n",
    "\n",
    "(3) Data Types\n",
    "\n",
    "- What are the data types of each column? Are they appropriate for the type of data they hold?\n",
    "- Do any columns need to be converted to different data types for analysis (e.g., integer columns might be stored as a string)?\n"
   ]
  },
  {
   "cell_type": "code",
   "execution_count": 2,
   "metadata": {},
   "outputs": [
    {
     "data": {
      "text/html": [
       "<div>\n",
       "<style scoped>\n",
       "    .dataframe tbody tr th:only-of-type {\n",
       "        vertical-align: middle;\n",
       "    }\n",
       "\n",
       "    .dataframe tbody tr th {\n",
       "        vertical-align: top;\n",
       "    }\n",
       "\n",
       "    .dataframe thead th {\n",
       "        text-align: right;\n",
       "    }\n",
       "</style>\n",
       "<table border=\"1\" class=\"dataframe\">\n",
       "  <thead>\n",
       "    <tr style=\"text-align: right;\">\n",
       "      <th></th>\n",
       "      <th>Salesforce ID</th>\n",
       "      <th>Account Name</th>\n",
       "      <th>Account Owner</th>\n",
       "      <th>Parent Account ID</th>\n",
       "      <th>Parent Account</th>\n",
       "      <th>Rating - Number Of Funerals p.a.</th>\n",
       "      <th>Steps ID</th>\n",
       "      <th>Billing Country</th>\n",
       "      <th>Billing City</th>\n",
       "      <th>Billing ZIP</th>\n",
       "      <th>Billing Street</th>\n",
       "      <th>Street Number</th>\n",
       "      <th>Phone</th>\n",
       "      <th>Steps ID.1</th>\n",
       "    </tr>\n",
       "  </thead>\n",
       "  <tbody>\n",
       "    <tr>\n",
       "      <th>0</th>\n",
       "      <td>0010X000045oU62QAE</td>\n",
       "      <td>Bestattungen Gredler</td>\n",
       "      <td>Maximilian Witt</td>\n",
       "      <td>NaN</td>\n",
       "      <td>NaN</td>\n",
       "      <td>700.0</td>\n",
       "      <td>NaN</td>\n",
       "      <td>Germany</td>\n",
       "      <td>Leutkirch</td>\n",
       "      <td>88299</td>\n",
       "      <td>Storchenstraße</td>\n",
       "      <td>15/1</td>\n",
       "      <td>07561 / 5009</td>\n",
       "      <td>NaN</td>\n",
       "    </tr>\n",
       "    <tr>\n",
       "      <th>1</th>\n",
       "      <td>0010X000045okZGQAY</td>\n",
       "      <td>Toussaint Bestattungen</td>\n",
       "      <td>Jasmin Ouali Turki</td>\n",
       "      <td>NaN</td>\n",
       "      <td>NaN</td>\n",
       "      <td>100.0</td>\n",
       "      <td>330860.0</td>\n",
       "      <td>Germany</td>\n",
       "      <td>Blieskastel</td>\n",
       "      <td>66440</td>\n",
       "      <td>Alte Pfarrgasse</td>\n",
       "      <td>17</td>\n",
       "      <td>+49 6842 4563</td>\n",
       "      <td>NaN</td>\n",
       "    </tr>\n",
       "    <tr>\n",
       "      <th>2</th>\n",
       "      <td>0010X000045om5rQAA</td>\n",
       "      <td>Hermann Janßen KG</td>\n",
       "      <td>Christian Leppert</td>\n",
       "      <td>NaN</td>\n",
       "      <td>NaN</td>\n",
       "      <td>150.0</td>\n",
       "      <td>NaN</td>\n",
       "      <td>Germany</td>\n",
       "      <td>Schortens Heidmühle</td>\n",
       "      <td>26419</td>\n",
       "      <td>Oldenburger Straße</td>\n",
       "      <td>32</td>\n",
       "      <td>+49 4461 8802</td>\n",
       "      <td>NaN</td>\n",
       "    </tr>\n",
       "    <tr>\n",
       "      <th>3</th>\n",
       "      <td>0010X000045peOdQAI</td>\n",
       "      <td>Wonnemann e.K. Bestattungen</td>\n",
       "      <td>Florian Walzer</td>\n",
       "      <td>NaN</td>\n",
       "      <td>NaN</td>\n",
       "      <td>200.0</td>\n",
       "      <td>NaN</td>\n",
       "      <td>Germany</td>\n",
       "      <td>Ennigerloh</td>\n",
       "      <td>59320</td>\n",
       "      <td>Elmstraße</td>\n",
       "      <td>12</td>\n",
       "      <td>+49 2524 93310</td>\n",
       "      <td>NaN</td>\n",
       "    </tr>\n",
       "    <tr>\n",
       "      <th>4</th>\n",
       "      <td>0010X000045piDPQAY</td>\n",
       "      <td>Müther e. K. Bestattungen</td>\n",
       "      <td>Maximilian Witt</td>\n",
       "      <td>NaN</td>\n",
       "      <td>NaN</td>\n",
       "      <td>80.0</td>\n",
       "      <td>NaN</td>\n",
       "      <td>Germany</td>\n",
       "      <td>Gütersloh</td>\n",
       "      <td>33335</td>\n",
       "      <td>Hirschweg</td>\n",
       "      <td>11-13</td>\n",
       "      <td>+49 5241 78033</td>\n",
       "      <td>NaN</td>\n",
       "    </tr>\n",
       "  </tbody>\n",
       "</table>\n",
       "</div>"
      ],
      "text/plain": [
       "        Salesforce ID                 Account Name       Account Owner  \\\n",
       "0  0010X000045oU62QAE         Bestattungen Gredler     Maximilian Witt   \n",
       "1  0010X000045okZGQAY       Toussaint Bestattungen  Jasmin Ouali Turki   \n",
       "2  0010X000045om5rQAA            Hermann Janßen KG   Christian Leppert   \n",
       "3  0010X000045peOdQAI  Wonnemann e.K. Bestattungen      Florian Walzer   \n",
       "4  0010X000045piDPQAY    Müther e. K. Bestattungen     Maximilian Witt   \n",
       "\n",
       "  Parent Account ID Parent Account  Rating - Number Of Funerals p.a.  \\\n",
       "0               NaN            NaN                             700.0   \n",
       "1               NaN            NaN                             100.0   \n",
       "2               NaN            NaN                             150.0   \n",
       "3               NaN            NaN                             200.0   \n",
       "4               NaN            NaN                              80.0   \n",
       "\n",
       "   Steps ID Billing Country         Billing City Billing ZIP  \\\n",
       "0       NaN         Germany            Leutkirch       88299   \n",
       "1  330860.0         Germany          Blieskastel       66440   \n",
       "2       NaN         Germany  Schortens Heidmühle       26419   \n",
       "3       NaN         Germany           Ennigerloh       59320   \n",
       "4       NaN         Germany            Gütersloh       33335   \n",
       "\n",
       "       Billing Street Street Number           Phone  Steps ID.1  \n",
       "0      Storchenstraße          15/1    07561 / 5009         NaN  \n",
       "1     Alte Pfarrgasse            17   +49 6842 4563         NaN  \n",
       "2  Oldenburger Straße            32   +49 4461 8802         NaN  \n",
       "3           Elmstraße            12  +49 2524 93310         NaN  \n",
       "4           Hirschweg         11-13  +49 5241 78033         NaN  "
      ]
     },
     "execution_count": 2,
     "metadata": {},
     "output_type": "execute_result"
    }
   ],
   "source": [
    "file_path = 'Fuzzy Match.xlsx'\n",
    "\n",
    "#Salesforce Data\n",
    "\n",
    "df_salesforce = pd.read_excel(file_path, sheet_name = 'Salesforce')\n",
    "\n",
    "df_salesforce.head()\n"
   ]
  },
  {
   "cell_type": "code",
   "execution_count": 3,
   "metadata": {},
   "outputs": [
    {
     "name": "stdout",
     "output_type": "stream",
     "text": [
      "<class 'pandas.core.frame.DataFrame'>\n",
      "RangeIndex: 4469 entries, 0 to 4468\n",
      "Data columns (total 14 columns):\n",
      " #   Column                            Non-Null Count  Dtype  \n",
      "---  ------                            --------------  -----  \n",
      " 0   Salesforce ID                     4469 non-null   object \n",
      " 1   Account Name                      4469 non-null   object \n",
      " 2   Account Owner                     4469 non-null   object \n",
      " 3   Parent Account ID                 286 non-null    object \n",
      " 4   Parent Account                    286 non-null    object \n",
      " 5   Rating - Number Of Funerals p.a.  2774 non-null   float64\n",
      " 6   Steps ID                          1067 non-null   float64\n",
      " 7   Billing Country                   4469 non-null   object \n",
      " 8   Billing City                      4423 non-null   object \n",
      " 9   Billing ZIP                       4413 non-null   object \n",
      " 10  Billing Street                    4411 non-null   object \n",
      " 11  Street Number                     4306 non-null   object \n",
      " 12  Phone                             4298 non-null   object \n",
      " 13  Steps ID.1                        0 non-null      float64\n",
      "dtypes: float64(3), object(11)\n",
      "memory usage: 488.9+ KB\n"
     ]
    }
   ],
   "source": [
    "df_salesforce.info()"
   ]
  },
  {
   "cell_type": "code",
   "execution_count": null,
   "metadata": {},
   "outputs": [],
   "source": []
  },
  {
   "cell_type": "markdown",
   "metadata": {},
   "source": [
    "### Data Manipulation: Salesforce <a class=\"anchor\" id=\"chapter1\"></a>"
   ]
  },
  {
   "cell_type": "code",
   "execution_count": 4,
   "metadata": {},
   "outputs": [
    {
     "name": "stdout",
     "output_type": "stream",
     "text": [
      "<class 'pandas.core.frame.DataFrame'>\n",
      "RangeIndex: 4469 entries, 0 to 4468\n",
      "Data columns (total 15 columns):\n",
      " #   Column                            Non-Null Count  Dtype  \n",
      "---  ------                            --------------  -----  \n",
      " 0   Salesforce ID                     4469 non-null   object \n",
      " 1   Account Name                      4469 non-null   object \n",
      " 2   Account Owner                     4469 non-null   object \n",
      " 3   Parent Account ID                 286 non-null    object \n",
      " 4   Parent Account                    286 non-null    object \n",
      " 5   Rating - Number Of Funerals p.a.  2774 non-null   float64\n",
      " 6   Steps ID                          4469 non-null   int64  \n",
      " 7   Billing Country                   4469 non-null   object \n",
      " 8   Billing City                      4423 non-null   object \n",
      " 9   Billing ZIP                       4413 non-null   object \n",
      " 10  Billing Street                    4411 non-null   object \n",
      " 11  Street Number                     4306 non-null   object \n",
      " 12  Phone                             4298 non-null   object \n",
      " 13  Steps ID.1                        0 non-null      float64\n",
      " 14  Rating Number Of Funerals p.a.    4469 non-null   int64  \n",
      "dtypes: float64(2), int64(2), object(11)\n",
      "memory usage: 523.8+ KB\n"
     ]
    }
   ],
   "source": [
    "# 1) Data types are objects, coverting three into integers accordingly.\n",
    "\n",
    "df_salesforce['Rating Number Of Funerals p.a.'] = pd.to_numeric(df_salesforce['Rating - Number Of Funerals p.a.'], errors='coerce').fillna(0).astype(int)\n",
    "df_salesforce['Steps ID'] = pd.to_numeric(df_salesforce['Steps ID'], errors='coerce').fillna(0).astype(int)\n",
    "#df_salesforce['Billing ZIP'] = pd.to_numeric(df_salesforce['Billing ZIP'], errors='coerce').fillna(0).astype(int)\n",
    "\n",
    "df_salesforce.info()"
   ]
  },
  {
   "cell_type": "code",
   "execution_count": 5,
   "metadata": {},
   "outputs": [],
   "source": [
    "#df_salesforce['Billing ZIP'] = df_salesforce['Billing ZIP'].astype(int)\n",
    "\n",
    "#df_salesforce['Billing ZIP'].dtype()\n",
    "#-> invalid literal for int() with base 10: 'W1F 7LP'\n"
   ]
  },
  {
   "cell_type": "code",
   "execution_count": 6,
   "metadata": {},
   "outputs": [],
   "source": [
    "#2) Einige wenige Kunden wurden bereits zwischen den Systemen gematcht, d.h. einer Salesforce-ID wurde eine Steps-ID zugewiesen. \n",
    "#-> Renaming column Steps ID to 'Manual_StepsID' to separate from column N.\n",
    "\n",
    "df_salesforce.rename(columns={'Steps ID': 'Manual_StepsID'},inplace=True)\n",
    "#df_salesforce['Manual_StepsID']\n"
   ]
  },
  {
   "cell_type": "markdown",
   "metadata": {},
   "source": [
    "Handling null values"
   ]
  },
  {
   "cell_type": "code",
   "execution_count": 7,
   "metadata": {},
   "outputs": [
    {
     "name": "stdout",
     "output_type": "stream",
     "text": [
      "Null value counts for each column:\n",
      "Salesforce ID                          0\n",
      "Account Name                           0\n",
      "Account Owner                          0\n",
      "Parent Account ID                   4183\n",
      "Parent Account                      4183\n",
      "Rating - Number Of Funerals p.a.    1695\n",
      "Manual_StepsID                         0\n",
      "Billing Country                        0\n",
      "Billing City                          46\n",
      "Billing ZIP                           56\n",
      "Billing Street                        58\n",
      "Street Number                        163\n",
      "Phone                                171\n",
      "Steps ID.1                          4469\n",
      "Rating Number Of Funerals p.a.         0\n",
      "dtype: int64\n",
      "\n",
      "Empty value counts for each column:\n",
      "Salesforce ID                       0\n",
      "Account Name                        0\n",
      "Account Owner                       0\n",
      "Parent Account ID                   0\n",
      "Parent Account                      0\n",
      "Rating - Number Of Funerals p.a.    0\n",
      "Manual_StepsID                      0\n",
      "Billing Country                     0\n",
      "Billing City                        0\n",
      "Billing ZIP                         0\n",
      "Billing Street                      0\n",
      "Street Number                       0\n",
      "Phone                               0\n",
      "Steps ID.1                          0\n",
      "Rating Number Of Funerals p.a.      0\n",
      "dtype: int64\n",
      "\n",
      "Zero value counts for each column:\n",
      "Salesforce ID                          0\n",
      "Account Name                           0\n",
      "Account Owner                          0\n",
      "Parent Account ID                      0\n",
      "Parent Account                         0\n",
      "Rating - Number Of Funerals p.a.       1\n",
      "Manual_StepsID                      3402\n",
      "Billing Country                        0\n",
      "Billing City                           0\n",
      "Billing ZIP                            0\n",
      "Billing Street                         0\n",
      "Street Number                          0\n",
      "Phone                                  0\n",
      "Steps ID.1                             0\n",
      "Rating Number Of Funerals p.a.      1696\n",
      "dtype: int64\n",
      "\n",
      "Blank value counts for each column:\n",
      "Salesforce ID                       0\n",
      "Account Name                        0\n",
      "Account Owner                       0\n",
      "Parent Account ID                   0\n",
      "Parent Account                      0\n",
      "Rating - Number Of Funerals p.a.    0\n",
      "Manual_StepsID                      0\n",
      "Billing Country                     0\n",
      "Billing City                        0\n",
      "Billing ZIP                         0\n",
      "Billing Street                      0\n",
      "Street Number                       0\n",
      "Phone                               0\n",
      "Steps ID.1                          0\n",
      "Rating Number Of Funerals p.a.      0\n",
      "dtype: int64\n"
     ]
    }
   ],
   "source": [
    "# Function to count null values in a DataFrame column\n",
    "def count_null(column):\n",
    "    return column.isnull().sum()\n",
    "\n",
    "# Function to count empty values in a DataFrame column\n",
    "def count_empty(column):\n",
    "    return (column == '').sum()\n",
    "\n",
    "# Function to count zero values in a DataFrame column\n",
    "def count_zeros(column):\n",
    "    # Check if the column is numeric to avoid type errors\n",
    "    if pd.api.types.is_numeric_dtype(column):\n",
    "        return (column == 0).sum()\n",
    "    return 0\n",
    "\n",
    "# Function to count blank (whitespace-only) values in a DataFrame column\n",
    "def count_blank(column):\n",
    "    return column.apply(lambda x: isinstance(x, str) and x.strip() == '').sum()\n",
    "\n",
    "# Apply the functions to each column and create Series with the results\n",
    "null_counts = df_salesforce.apply(count_null)\n",
    "empty_counts = df_salesforce.apply(count_empty)\n",
    "zero_counts = df_salesforce.apply(count_zeros)\n",
    "blank_counts = df_salesforce.apply(count_blank)\n",
    "\n",
    "# Display the counts\n",
    "print(\"Null value counts for each column:\")\n",
    "print(null_counts)\n",
    "\n",
    "print(\"\\nEmpty value counts for each column:\")\n",
    "print(empty_counts)\n",
    "\n",
    "print(\"\\nZero value counts for each column:\")\n",
    "print(zero_counts)\n",
    "\n",
    "print(\"\\nBlank value counts for each column:\")\n",
    "print(blank_counts)"
   ]
  },
  {
   "cell_type": "code",
   "execution_count": 8,
   "metadata": {},
   "outputs": [
    {
     "data": {
      "text/html": [
       "<div>\n",
       "<style scoped>\n",
       "    .dataframe tbody tr th:only-of-type {\n",
       "        vertical-align: middle;\n",
       "    }\n",
       "\n",
       "    .dataframe tbody tr th {\n",
       "        vertical-align: top;\n",
       "    }\n",
       "\n",
       "    .dataframe thead th {\n",
       "        text-align: right;\n",
       "    }\n",
       "</style>\n",
       "<table border=\"1\" class=\"dataframe\">\n",
       "  <thead>\n",
       "    <tr style=\"text-align: right;\">\n",
       "      <th></th>\n",
       "      <th>Null Count</th>\n",
       "      <th>Null Percentage</th>\n",
       "    </tr>\n",
       "  </thead>\n",
       "  <tbody>\n",
       "    <tr>\n",
       "      <th>Salesforce ID</th>\n",
       "      <td>0</td>\n",
       "      <td>0.000000</td>\n",
       "    </tr>\n",
       "    <tr>\n",
       "      <th>Account Name</th>\n",
       "      <td>0</td>\n",
       "      <td>0.000000</td>\n",
       "    </tr>\n",
       "    <tr>\n",
       "      <th>Account Owner</th>\n",
       "      <td>0</td>\n",
       "      <td>0.000000</td>\n",
       "    </tr>\n",
       "    <tr>\n",
       "      <th>Parent Account ID</th>\n",
       "      <td>4183</td>\n",
       "      <td>93.600358</td>\n",
       "    </tr>\n",
       "    <tr>\n",
       "      <th>Parent Account</th>\n",
       "      <td>4183</td>\n",
       "      <td>93.600358</td>\n",
       "    </tr>\n",
       "    <tr>\n",
       "      <th>Rating - Number Of Funerals p.a.</th>\n",
       "      <td>1695</td>\n",
       "      <td>37.927948</td>\n",
       "    </tr>\n",
       "    <tr>\n",
       "      <th>Manual_StepsID</th>\n",
       "      <td>0</td>\n",
       "      <td>0.000000</td>\n",
       "    </tr>\n",
       "    <tr>\n",
       "      <th>Billing Country</th>\n",
       "      <td>0</td>\n",
       "      <td>0.000000</td>\n",
       "    </tr>\n",
       "    <tr>\n",
       "      <th>Billing City</th>\n",
       "      <td>46</td>\n",
       "      <td>1.029313</td>\n",
       "    </tr>\n",
       "    <tr>\n",
       "      <th>Billing ZIP</th>\n",
       "      <td>56</td>\n",
       "      <td>1.253077</td>\n",
       "    </tr>\n",
       "    <tr>\n",
       "      <th>Billing Street</th>\n",
       "      <td>58</td>\n",
       "      <td>1.297829</td>\n",
       "    </tr>\n",
       "    <tr>\n",
       "      <th>Street Number</th>\n",
       "      <td>163</td>\n",
       "      <td>3.647348</td>\n",
       "    </tr>\n",
       "    <tr>\n",
       "      <th>Phone</th>\n",
       "      <td>171</td>\n",
       "      <td>3.826359</td>\n",
       "    </tr>\n",
       "    <tr>\n",
       "      <th>Steps ID.1</th>\n",
       "      <td>4469</td>\n",
       "      <td>100.000000</td>\n",
       "    </tr>\n",
       "    <tr>\n",
       "      <th>Rating Number Of Funerals p.a.</th>\n",
       "      <td>0</td>\n",
       "      <td>0.000000</td>\n",
       "    </tr>\n",
       "  </tbody>\n",
       "</table>\n",
       "</div>"
      ],
      "text/plain": [
       "                                  Null Count  Null Percentage\n",
       "Salesforce ID                              0         0.000000\n",
       "Account Name                               0         0.000000\n",
       "Account Owner                              0         0.000000\n",
       "Parent Account ID                       4183        93.600358\n",
       "Parent Account                          4183        93.600358\n",
       "Rating - Number Of Funerals p.a.        1695        37.927948\n",
       "Manual_StepsID                             0         0.000000\n",
       "Billing Country                            0         0.000000\n",
       "Billing City                              46         1.029313\n",
       "Billing ZIP                               56         1.253077\n",
       "Billing Street                            58         1.297829\n",
       "Street Number                            163         3.647348\n",
       "Phone                                    171         3.826359\n",
       "Steps ID.1                              4469       100.000000\n",
       "Rating Number Of Funerals p.a.             0         0.000000"
      ]
     },
     "execution_count": 8,
     "metadata": {},
     "output_type": "execute_result"
    }
   ],
   "source": [
    "# Calculating the percentage of null values in each column\n",
    "total_rows = df_salesforce.shape[0]\n",
    "null_percentage = (null_counts / total_rows) * 100\n",
    "\t\n",
    "\n",
    "# Combine both counts and percentages into a single DataFrame for better readability\n",
    "null_summary = pd.DataFrame({'Null Count': null_counts, 'Null Percentage': null_percentage})\n",
    "null_summary\n"
   ]
  },
  {
   "cell_type": "code",
   "execution_count": 9,
   "metadata": {},
   "outputs": [
    {
     "data": {
      "text/plain": [
       "np.float64(0.0)"
      ]
     },
     "execution_count": 9,
     "metadata": {},
     "output_type": "execute_result"
    }
   ],
   "source": [
    "#How many matches do we already have?\n",
    "\n",
    "# Counting the non-null and integer values in 'Manual_StepsID'\n",
    "matches_count = df_salesforce['Manual_StepsID'].apply(lambda x: pd.notna(x) and isinstance(x, (int, np.integer))).sum()\n",
    "matches_count\n",
    "\n",
    "# Total number of rows in the DataFrame\n",
    "total_rows = df_salesforce.shape[0]\n",
    "total_rows\n",
    "# Calculate percentages\n",
    "matches_percentage = (matches_count / total_rows) * 100\n",
    "non_matches_percentage = 100 - matches_percentage\n",
    "\n",
    "matches_percentage\n",
    "non_matches_percentage\n",
    "\n",
    "#Conclusion: Counting for non-null values, non-empty values didn't work -> I figured values were zero.\n"
   ]
  },
  {
   "cell_type": "code",
   "execution_count": 10,
   "metadata": {},
   "outputs": [
    {
     "data": {
      "text/plain": [
       "0         0\n",
       "1    330860\n",
       "2         0\n",
       "3         0\n",
       "4         0\n",
       "Name: Manual_StepsID, dtype: int64"
      ]
     },
     "execution_count": 10,
     "metadata": {},
     "output_type": "execute_result"
    }
   ],
   "source": [
    "#Encountered the issue that Manual_StepsID is showing 4469 total entries and all are non-null and non-empty.\n",
    "\n",
    "df_salesforce['Manual_StepsID'].head()"
   ]
  },
  {
   "cell_type": "code",
   "execution_count": 11,
   "metadata": {},
   "outputs": [
    {
     "name": "stdout",
     "output_type": "stream",
     "text": [
      "Total entries: 4469\n",
      "Number of zero values in 'Manual StepsID': 3402\n",
      "Number of non-zero values in 'Manual StepsID': 1067\n",
      "Percentage of zero values: 76.12%\n",
      "Percentage of non-zero values: 23.88%\n"
     ]
    }
   ],
   "source": [
    "# Counting zero and non-zero values in 'Manual_StepsID'\n",
    "\n",
    "zero_count = (df_salesforce['Manual_StepsID'] == 0).sum()\n",
    "non_zero_count = (df_salesforce['Manual_StepsID'] != 0).sum()\n",
    "\n",
    "# What is the total number of rows in the DF?\n",
    "total_rows = df_salesforce.shape[0]\n",
    "\n",
    "# Calculating percentages\n",
    "zero_percentage = (zero_count / total_rows) * 100\n",
    "non_zero_percentage = (non_zero_count / total_rows) * 100\n",
    "\n",
    "#Printing results\n",
    "print(f\"Total entries: {total_rows}\")\n",
    "print(f\"Number of zero values in 'Manual StepsID': {zero_count}\")\n",
    "print(f\"Number of non-zero values in 'Manual StepsID': {non_zero_count}\")\n",
    "print(f\"Percentage of zero values: {zero_percentage:.2f}%\")\n",
    "print(f\"Percentage of non-zero values: {non_zero_percentage:.2f}%\")\n"
   ]
  },
  {
   "cell_type": "code",
   "execution_count": 12,
   "metadata": {},
   "outputs": [
    {
     "name": "stdout",
     "output_type": "stream",
     "text": [
      "Number of unique non-zero values in 'Manual_StepsID': 1067\n"
     ]
    }
   ],
   "source": [
    "# Filter non-zero values in 'Manual_StepsID'\n",
    "non_zero_values = df_salesforce[df_salesforce['Manual_StepsID'] != 0]\n",
    "\n",
    "# Count unique non-zero values\n",
    "unique_non_zero_count = non_zero_values['Manual_StepsID'].nunique()\n",
    "\n",
    "# Print results\n",
    "print(f\"Number of unique non-zero values in 'Manual_StepsID': {unique_non_zero_count}\")"
   ]
  },
  {
   "cell_type": "markdown",
   "metadata": {},
   "source": [
    "Conclusion: \n",
    "- About 1/4 of the column ‘Manual_StepsID’ have matched values of StepsID. \n",
    "- The Total entries, both Number of (non) - zero values in ‘Manual_StepsID’ were matched manually in the .xlsx file."
   ]
  },
  {
   "cell_type": "code",
   "execution_count": 13,
   "metadata": {},
   "outputs": [
    {
     "data": {
      "text/plain": [
       "0            0\n",
       "1       330860\n",
       "2            0\n",
       "3            0\n",
       "4            0\n",
       "         ...  \n",
       "4464    330520\n",
       "4465         0\n",
       "4466    330242\n",
       "4467    326215\n",
       "4468         0\n",
       "Name: Manual_StepsID, Length: 4469, dtype: int64"
      ]
     },
     "execution_count": 13,
     "metadata": {},
     "output_type": "execute_result"
    }
   ],
   "source": [
    "df_salesforce['Manual_StepsID']"
   ]
  },
  {
   "cell_type": "markdown",
   "metadata": {},
   "source": [
    "Checking for duplicates in Salesforce"
   ]
  },
  {
   "cell_type": "code",
   "execution_count": 14,
   "metadata": {},
   "outputs": [
    {
     "name": "stdout",
     "output_type": "stream",
     "text": [
      "Total number of values in 'Account Name': 4469\n",
      "Number of unique values in 'Account Name': 4269\n"
     ]
    }
   ],
   "source": [
    "total_values = df_salesforce['Account Name'].count()\n",
    "\n",
    "\n",
    "unique_Account_Name = df_salesforce['Account Name'].nunique()\n",
    "\n",
    "print(f\"Total number of values in 'Account Name': {total_values}\")\n",
    "print(f\"Number of unique values in 'Account Name': {unique_Account_Name}\")"
   ]
  },
  {
   "cell_type": "code",
   "execution_count": 15,
   "metadata": {},
   "outputs": [
    {
     "name": "stdout",
     "output_type": "stream",
     "text": [
      "Total number of values in 'Account Name': 4469\n",
      "Number of unique values in 'Account Name': 4269\n",
      "\n",
      "Duplicate values in 'Account Name':\n",
      "                                  Account Name\n",
      "7                      Grieneisen Bestattungen\n",
      "69                           Bestattungen Rien\n",
      "71              Asgard Bestattungshaus Rostock\n",
      "79                    Bestattungen Stangl GmbH\n",
      "148   Deutsche Bestattungsvorsorge Treuhand AG\n",
      "...                                        ...\n",
      "3654                 Erich Müller Bestattungen\n",
      "3670        Bestattungsinstitut Hans von Holdt\n",
      "3677               Helmut Schmidt Bestattungen\n",
      "3689                           Volksbestattung\n",
      "3695                 Pietät Halle Bestattungen\n",
      "\n",
      "[75 rows x 1 columns]\n"
     ]
    }
   ],
   "source": [
    "# Count total values and unique values in 'Account Name'\n",
    "total_values = df_salesforce['Account Name'].count()\n",
    "unique_Account_Name = df_salesforce['Account Name'].nunique()\n",
    "\n",
    "# Identify duplicate values in 'Account Name'\n",
    "duplicate_Account_Names = df_salesforce[df_salesforce.duplicated(subset=['Account Name'], keep=False)]\n",
    "\n",
    "# Print results\n",
    "print(f\"Total number of values in 'Account Name': {total_values}\")\n",
    "print(f\"Number of unique values in 'Account Name': {unique_Account_Name}\")\n",
    "\n",
    "print(\"\\nDuplicate values in 'Account Name':\")\n",
    "print(duplicate_Account_Names[['Account Name']].drop_duplicates())"
   ]
  },
  {
   "cell_type": "markdown",
   "metadata": {},
   "source": [
    "-> check if duplicates have same address for consistency"
   ]
  },
  {
   "cell_type": "markdown",
   "metadata": {},
   "source": [
    "### Data Manipulation: Steps <a class=\"anchor\" id=\"chapter1\"></a>"
   ]
  },
  {
   "cell_type": "code",
   "execution_count": 16,
   "metadata": {},
   "outputs": [
    {
     "data": {
      "text/html": [
       "<div>\n",
       "<style scoped>\n",
       "    .dataframe tbody tr th:only-of-type {\n",
       "        vertical-align: middle;\n",
       "    }\n",
       "\n",
       "    .dataframe tbody tr th {\n",
       "        vertical-align: top;\n",
       "    }\n",
       "\n",
       "    .dataframe thead th {\n",
       "        text-align: right;\n",
       "    }\n",
       "</style>\n",
       "<table border=\"1\" class=\"dataframe\">\n",
       "  <thead>\n",
       "    <tr style=\"text-align: right;\">\n",
       "      <th></th>\n",
       "      <th>Group ID</th>\n",
       "      <th>Group Name</th>\n",
       "      <th>Steps ID</th>\n",
       "      <th>Customer Name</th>\n",
       "      <th>Zip Code</th>\n",
       "      <th>City</th>\n",
       "      <th>Street</th>\n",
       "      <th>Phone</th>\n",
       "      <th>E-Mail</th>\n",
       "      <th>Cases</th>\n",
       "    </tr>\n",
       "  </thead>\n",
       "  <tbody>\n",
       "    <tr>\n",
       "      <th>0</th>\n",
       "      <td>132</td>\n",
       "      <td>Keine</td>\n",
       "      <td>329984</td>\n",
       "      <td>DBU Bestattungs-Union GmbH</td>\n",
       "      <td>NaN</td>\n",
       "      <td>NaN</td>\n",
       "      <td>NaN</td>\n",
       "      <td>NaN</td>\n",
       "      <td>NaN</td>\n",
       "      <td>NaN</td>\n",
       "    </tr>\n",
       "    <tr>\n",
       "      <th>1</th>\n",
       "      <td>132</td>\n",
       "      <td>Keine</td>\n",
       "      <td>329358</td>\n",
       "      <td>?Bestattungen Potthoff</td>\n",
       "      <td>48703.0</td>\n",
       "      <td>Stadtlohn</td>\n",
       "      <td>Vredener Straße 41</td>\n",
       "      <td>+49 2563 7933</td>\n",
       "      <td>info@bestattungen-potthoff.de</td>\n",
       "      <td>NaN</td>\n",
       "    </tr>\n",
       "    <tr>\n",
       "      <th>2</th>\n",
       "      <td>132</td>\n",
       "      <td>Keine</td>\n",
       "      <td>501395</td>\n",
       "      <td>„Pietät“ Berthold Wiesel</td>\n",
       "      <td>60311.0</td>\n",
       "      <td>Frankfurt am Main</td>\n",
       "      <td>Kirchnerstraße 4</td>\n",
       "      <td>+49 (69) 9207160</td>\n",
       "      <td>info@bestattungen-wiesel.de</td>\n",
       "      <td>100.0</td>\n",
       "    </tr>\n",
       "    <tr>\n",
       "      <th>3</th>\n",
       "      <td>132</td>\n",
       "      <td>Keine</td>\n",
       "      <td>501076</td>\n",
       "      <td>1. Brühler Bestattungsinstitut</td>\n",
       "      <td>68782.0</td>\n",
       "      <td>Brühl</td>\n",
       "      <td>Stuttgarter Straße 26</td>\n",
       "      <td>+49 (6202) 71528</td>\n",
       "      <td>info@bestattungsinstitut-gredel.de</td>\n",
       "      <td>0.0</td>\n",
       "    </tr>\n",
       "    <tr>\n",
       "      <th>4</th>\n",
       "      <td>297</td>\n",
       "      <td>ASV</td>\n",
       "      <td>326034</td>\n",
       "      <td>ASV Deutschland GmbH</td>\n",
       "      <td>22089.0</td>\n",
       "      <td>Hamburg</td>\n",
       "      <td>Eilbeker Weg 16</td>\n",
       "      <td>+49 (40) 258055</td>\n",
       "      <td>info@asv-deutschland.de</td>\n",
       "      <td>NaN</td>\n",
       "    </tr>\n",
       "  </tbody>\n",
       "</table>\n",
       "</div>"
      ],
      "text/plain": [
       "   Group ID Group Name  Steps ID                   Customer Name  Zip Code  \\\n",
       "0       132      Keine    329984      DBU Bestattungs-Union GmbH       NaN   \n",
       "1       132      Keine    329358          ?Bestattungen Potthoff   48703.0   \n",
       "2       132      Keine    501395        „Pietät“ Berthold Wiesel   60311.0   \n",
       "3       132      Keine    501076  1. Brühler Bestattungsinstitut   68782.0   \n",
       "4       297        ASV    326034            ASV Deutschland GmbH   22089.0   \n",
       "\n",
       "                City                 Street             Phone  \\\n",
       "0                NaN                    NaN               NaN   \n",
       "1          Stadtlohn     Vredener Straße 41     +49 2563 7933   \n",
       "2  Frankfurt am Main       Kirchnerstraße 4  +49 (69) 9207160   \n",
       "3              Brühl  Stuttgarter Straße 26  +49 (6202) 71528   \n",
       "4            Hamburg        Eilbeker Weg 16   +49 (40) 258055   \n",
       "\n",
       "                               E-Mail  Cases  \n",
       "0                                 NaN    NaN  \n",
       "1      info@bestattungen-potthoff.de     NaN  \n",
       "2         info@bestattungen-wiesel.de  100.0  \n",
       "3  info@bestattungsinstitut-gredel.de    0.0  \n",
       "4             info@asv-deutschland.de    NaN  "
      ]
     },
     "execution_count": 16,
     "metadata": {},
     "output_type": "execute_result"
    }
   ],
   "source": [
    "df_steps = pd.read_excel(file_path, sheet_name = 'Steps')\n",
    "\n",
    "df_steps.head()"
   ]
  },
  {
   "cell_type": "code",
   "execution_count": 17,
   "metadata": {},
   "outputs": [
    {
     "name": "stdout",
     "output_type": "stream",
     "text": [
      "<class 'pandas.core.frame.DataFrame'>\n",
      "RangeIndex: 6593 entries, 0 to 6592\n",
      "Data columns (total 10 columns):\n",
      " #   Column         Non-Null Count  Dtype  \n",
      "---  ------         --------------  -----  \n",
      " 0   Group ID       6593 non-null   int64  \n",
      " 1   Group Name     6593 non-null   object \n",
      " 2   Steps ID       6593 non-null   int64  \n",
      " 3   Customer Name  6593 non-null   object \n",
      " 4   Zip Code       6538 non-null   float64\n",
      " 5   City           6542 non-null   object \n",
      " 6   Street         6521 non-null   object \n",
      " 7   Phone          6385 non-null   object \n",
      " 8   E-Mail         4583 non-null   object \n",
      " 9   Cases          4357 non-null   float64\n",
      "dtypes: float64(2), int64(2), object(6)\n",
      "memory usage: 515.2+ KB\n"
     ]
    }
   ],
   "source": [
    "df_steps.info()"
   ]
  },
  {
   "cell_type": "markdown",
   "metadata": {},
   "source": [
    "Conclusion: Steps has 6593 entries, whereas Salesforce has 4469 (Steps has 2124 more entries)"
   ]
  },
  {
   "cell_type": "code",
   "execution_count": 18,
   "metadata": {},
   "outputs": [
    {
     "name": "stdout",
     "output_type": "stream",
     "text": [
      "Entries in Steps: 6593\n",
      "Entries in Salesforce: 4469\n",
      "Difference in entries: 2124\n",
      "Percentage difference: 47.53%\n"
     ]
    }
   ],
   "source": [
    "#Conclusion: Steps has 6593 entries, whereas Salesforce has 4469 (Steps has 2124 more entries)\n",
    "\n",
    "# Number of entries in each DataFrame\n",
    "entries_steps = 6593\n",
    "entries_salesforce = 4469\n",
    "\n",
    "# Calculate the difference in entries\n",
    "difference = entries_steps - entries_salesforce\n",
    "\n",
    "# Calculate the percentage difference\n",
    "percentage_difference = (difference / entries_salesforce) * 100\n",
    "\n",
    "# Print the results\n",
    "print(f\"Entries in Steps: {entries_steps}\")\n",
    "print(f\"Entries in Salesforce: {entries_salesforce}\")\n",
    "print(f\"Difference in entries: {difference}\")\n",
    "print(f\"Percentage difference: {percentage_difference:.2f}%\")"
   ]
  },
  {
   "cell_type": "code",
   "execution_count": 19,
   "metadata": {},
   "outputs": [],
   "source": [
    "# 1) Data types are objects, coverting Zip Code into an integer accordingly.\n",
    "#df_steps['Zip Code'] = pd.to_numeric(df_steps['Zip Code'], errors='coerce').fillna(0).astype(int)\n",
    "#df_steps['Zip Code']"
   ]
  },
  {
   "cell_type": "code",
   "execution_count": 20,
   "metadata": {},
   "outputs": [
    {
     "name": "stdout",
     "output_type": "stream",
     "text": [
      "Null value counts for each column in df_steps:\n",
      "Group ID            0\n",
      "Group Name          0\n",
      "Steps ID            0\n",
      "Customer Name       0\n",
      "Zip Code           55\n",
      "City               51\n",
      "Street             72\n",
      "Phone             208\n",
      "E-Mail           2010\n",
      "Cases            2236\n",
      "dtype: int64\n",
      "\n",
      "Empty value counts for each column in df_steps:\n",
      "Group ID         0\n",
      "Group Name       0\n",
      "Steps ID         0\n",
      "Customer Name    0\n",
      "Zip Code         0\n",
      "City             0\n",
      "Street           0\n",
      "Phone            0\n",
      "E-Mail           0\n",
      "Cases            0\n",
      "dtype: int64\n",
      "\n",
      "Zero value counts for each column in df_steps:\n",
      "Group ID            0\n",
      "Group Name          0\n",
      "Steps ID            0\n",
      "Customer Name       0\n",
      "Zip Code            0\n",
      "City                0\n",
      "Street              0\n",
      "Phone               0\n",
      "E-Mail              0\n",
      "Cases            1006\n",
      "dtype: int64\n",
      "\n",
      "Blank value counts for each column in df_steps:\n",
      "Group ID         0\n",
      "Group Name       0\n",
      "Steps ID         0\n",
      "Customer Name    0\n",
      "Zip Code         0\n",
      "City             0\n",
      "Street           0\n",
      "Phone            0\n",
      "E-Mail           0\n",
      "Cases            0\n",
      "dtype: int64\n",
      "\n",
      "'NULL' string value counts for each column in df_steps:\n",
      "Group ID         0\n",
      "Group Name       0\n",
      "Steps ID         0\n",
      "Customer Name    0\n",
      "Zip Code         0\n",
      "City             0\n",
      "Street           0\n",
      "Phone            0\n",
      "E-Mail           0\n",
      "Cases            0\n",
      "dtype: int64\n"
     ]
    }
   ],
   "source": [
    "# Counting null values in each column\n",
    "null_counts = df_steps.isnull().sum()\n",
    "\n",
    "\n",
    "# Function to count null values in a DataFrame column\n",
    "def count_null(column):\n",
    "    return column.isnull().sum()\n",
    "\n",
    "# Function to count empty values in a DataFrame column\n",
    "def count_empty(column):\n",
    "    return (column == '').sum()\n",
    "\n",
    "# Function to count zero values in a DataFrame column\n",
    "def count_zeros(column):\n",
    "    # Check if the column is numeric to avoid type errors\n",
    "    if pd.api.types.is_numeric_dtype(column):\n",
    "        return (column == 0).sum()\n",
    "    return 0\n",
    "\n",
    "# Function to count blank (whitespace-only) values in a DataFrame column\n",
    "def count_blank(column):\n",
    "    return column.apply(lambda x: isinstance(x, str) and x.strip() == '').sum()\n",
    "\n",
    "# Function to count 'NULL' string values in a DataFrame column\n",
    "def count_null_string(column):\n",
    "    return (column == 'NULL').sum()\n",
    "\n",
    "# Apply the functions to each column and create Series with the results\n",
    "null_counts_steps = df_steps.apply(count_null)\n",
    "empty_counts_steps = df_steps.apply(count_empty)\n",
    "zero_counts_steps = df_steps.apply(count_zeros)\n",
    "blank_counts_steps = df_steps.apply(count_blank)\n",
    "null_string_counts_steps = df_steps.apply(count_null_string)\n",
    "\n",
    "# Display the counts\n",
    "print(\"Null value counts for each column in df_steps:\")\n",
    "print(null_counts_steps)\n",
    "\n",
    "print(\"\\nEmpty value counts for each column in df_steps:\")\n",
    "print(empty_counts_steps)\n",
    "\n",
    "print(\"\\nZero value counts for each column in df_steps:\")\n",
    "print(zero_counts_steps)\n",
    "\n",
    "print(\"\\nBlank value counts for each column in df_steps:\")\n",
    "print(blank_counts_steps)\n",
    "\n",
    "print(\"\\n'NULL' string value counts for each column in df_steps:\")\n",
    "print(null_string_counts_steps)"
   ]
  },
  {
   "cell_type": "code",
   "execution_count": 21,
   "metadata": {},
   "outputs": [
    {
     "data": {
      "text/html": [
       "<div>\n",
       "<style scoped>\n",
       "    .dataframe tbody tr th:only-of-type {\n",
       "        vertical-align: middle;\n",
       "    }\n",
       "\n",
       "    .dataframe tbody tr th {\n",
       "        vertical-align: top;\n",
       "    }\n",
       "\n",
       "    .dataframe thead th {\n",
       "        text-align: right;\n",
       "    }\n",
       "</style>\n",
       "<table border=\"1\" class=\"dataframe\">\n",
       "  <thead>\n",
       "    <tr style=\"text-align: right;\">\n",
       "      <th></th>\n",
       "      <th>Null Count</th>\n",
       "      <th>Null Percentage</th>\n",
       "    </tr>\n",
       "  </thead>\n",
       "  <tbody>\n",
       "    <tr>\n",
       "      <th>Group ID</th>\n",
       "      <td>0</td>\n",
       "      <td>0.000000</td>\n",
       "    </tr>\n",
       "    <tr>\n",
       "      <th>Group Name</th>\n",
       "      <td>0</td>\n",
       "      <td>0.000000</td>\n",
       "    </tr>\n",
       "    <tr>\n",
       "      <th>Steps ID</th>\n",
       "      <td>0</td>\n",
       "      <td>0.000000</td>\n",
       "    </tr>\n",
       "    <tr>\n",
       "      <th>Customer Name</th>\n",
       "      <td>0</td>\n",
       "      <td>0.000000</td>\n",
       "    </tr>\n",
       "    <tr>\n",
       "      <th>Zip Code</th>\n",
       "      <td>55</td>\n",
       "      <td>0.834218</td>\n",
       "    </tr>\n",
       "    <tr>\n",
       "      <th>City</th>\n",
       "      <td>51</td>\n",
       "      <td>0.773548</td>\n",
       "    </tr>\n",
       "    <tr>\n",
       "      <th>Street</th>\n",
       "      <td>72</td>\n",
       "      <td>1.092067</td>\n",
       "    </tr>\n",
       "    <tr>\n",
       "      <th>Phone</th>\n",
       "      <td>208</td>\n",
       "      <td>3.154861</td>\n",
       "    </tr>\n",
       "    <tr>\n",
       "      <th>E-Mail</th>\n",
       "      <td>2010</td>\n",
       "      <td>30.486880</td>\n",
       "    </tr>\n",
       "    <tr>\n",
       "      <th>Cases</th>\n",
       "      <td>2236</td>\n",
       "      <td>33.914758</td>\n",
       "    </tr>\n",
       "  </tbody>\n",
       "</table>\n",
       "</div>"
      ],
      "text/plain": [
       "               Null Count  Null Percentage\n",
       "Group ID                0         0.000000\n",
       "Group Name              0         0.000000\n",
       "Steps ID                0         0.000000\n",
       "Customer Name           0         0.000000\n",
       "Zip Code               55         0.834218\n",
       "City                   51         0.773548\n",
       "Street                 72         1.092067\n",
       "Phone                 208         3.154861\n",
       "E-Mail               2010        30.486880\n",
       "Cases                2236        33.914758"
      ]
     },
     "execution_count": 21,
     "metadata": {},
     "output_type": "execute_result"
    }
   ],
   "source": [
    "# Calculating the percentage of null values in each column\n",
    "total_rows = df_steps.shape[0]\n",
    "null_percentage = (null_counts / total_rows) * 100\n",
    "\t\n",
    "\n",
    "# Combine both counts and percentages into a single DataFrame for better readability\n",
    "null_summary = pd.DataFrame({'Null Count': null_counts, 'Null Percentage': null_percentage})\n",
    "null_summary"
   ]
  },
  {
   "cell_type": "markdown",
   "metadata": {},
   "source": [
    "Fuzzy String Matching "
   ]
  },
  {
   "cell_type": "markdown",
   "metadata": {},
   "source": [
    "1) Creating a new column \"Address\" for both Salesforce and Steps"
   ]
  },
  {
   "cell_type": "code",
   "execution_count": 22,
   "metadata": {},
   "outputs": [
    {
     "name": "stdout",
     "output_type": "stream",
     "text": [
      "object\n",
      "object\n",
      "object\n"
     ]
    }
   ],
   "source": [
    "df_steps['Street'] = df_steps['Street'].astype(str)\n",
    "df_steps['Zip Code'] = df_steps['Zip Code'].astype(str)\n",
    "df_steps['City'] = df_steps['City'].astype(str)\n",
    "\n",
    "# Verify the conversion\n",
    "print(df_steps['Street'].dtype)\n",
    "print(df_steps['Zip Code'].dtype)\n",
    "print(df_steps['City'].dtype)"
   ]
  },
  {
   "cell_type": "code",
   "execution_count": 23,
   "metadata": {},
   "outputs": [
    {
     "data": {
      "text/plain": [
       "0                                       nannannan\n",
       "1              Vredener Straße 4148703.0Stadtlohn\n",
       "2        Kirchnerstraße 460311.0Frankfurt am Main\n",
       "3               Stuttgarter Straße 2668782.0Brühl\n",
       "4                   Eilbeker Weg 1622089.0Hamburg\n",
       "                          ...                    \n",
       "6588    Mannheimer Straße 22955543.0Bad Kreuznach\n",
       "6589                   Lindenstr. 3917389.0Anklam\n",
       "6590                      Worthweg 529693.0Ahlden\n",
       "6591          Donnerburgweg 4038106.0Braunschweig\n",
       "6592                    Liebenau 364252.0Liebenau\n",
       "Name: Steps_Address, Length: 6593, dtype: object"
      ]
     },
     "execution_count": 23,
     "metadata": {},
     "output_type": "execute_result"
    }
   ],
   "source": [
    "# (1) Create a concatenated address field to prepare the fuzzy string match. Therefore, the three columns Street, Zip Code, and City are combined in the new column 'Address' \n",
    "#Spaces are ignored - In this analysis, they don't add value\n",
    "df_steps['Steps_Address'] = df_steps['Street'] + df_steps['Zip Code'] + df_steps['City']\n",
    "df_steps['Steps_Address']"
   ]
  },
  {
   "cell_type": "code",
   "execution_count": 24,
   "metadata": {},
   "outputs": [
    {
     "data": {
      "text/plain": [
       "dtype('O')"
      ]
     },
     "execution_count": 24,
     "metadata": {},
     "output_type": "execute_result"
    }
   ],
   "source": [
    "steps_address_dtype = df_steps['Steps_Address'].dtype\n",
    "steps_address_dtype"
   ]
  },
  {
   "cell_type": "code",
   "execution_count": 25,
   "metadata": {},
   "outputs": [],
   "source": [
    "#df_salesforce['Billing ZIP'] = df_salesforce['Billing ZIP'].astype(int)"
   ]
  },
  {
   "cell_type": "code",
   "execution_count": 26,
   "metadata": {},
   "outputs": [
    {
     "data": {
      "text/plain": [
       "<bound method NDFrame.head of 0        15/1\n",
       "1          17\n",
       "2          32\n",
       "3          12\n",
       "4       11-13\n",
       "        ...  \n",
       "4464       21\n",
       "4465       83\n",
       "4466        6\n",
       "4467       35\n",
       "4468       2a\n",
       "Name: Street Number, Length: 4469, dtype: object>"
      ]
     },
     "execution_count": 26,
     "metadata": {},
     "output_type": "execute_result"
    }
   ],
   "source": [
    "df_salesforce['Street Number'].dtype\n",
    "df_salesforce['Street Number'].head"
   ]
  },
  {
   "cell_type": "code",
   "execution_count": 27,
   "metadata": {},
   "outputs": [
    {
     "data": {
      "text/plain": [
       "0        Storchenstraße\n",
       "1       Alte Pfarrgasse\n",
       "2    Oldenburger Straße\n",
       "3             Elmstraße\n",
       "4             Hirschweg\n",
       "Name: Billing Street, dtype: object"
      ]
     },
     "execution_count": 27,
     "metadata": {},
     "output_type": "execute_result"
    }
   ],
   "source": [
    "df_salesforce['Billing Street'].dtype\n",
    "df_salesforce['Billing Street'].head()"
   ]
  },
  {
   "cell_type": "code",
   "execution_count": 28,
   "metadata": {},
   "outputs": [
    {
     "data": {
      "text/plain": [
       "0    88299\n",
       "1    66440\n",
       "2    26419\n",
       "3    59320\n",
       "4    33335\n",
       "Name: Billing ZIP, dtype: object"
      ]
     },
     "execution_count": 28,
     "metadata": {},
     "output_type": "execute_result"
    }
   ],
   "source": [
    "df_salesforce['Billing ZIP'].dtype\n",
    "df_salesforce['Billing ZIP'].head()"
   ]
  },
  {
   "cell_type": "code",
   "execution_count": 29,
   "metadata": {},
   "outputs": [
    {
     "data": {
      "text/plain": [
       "0              Leutkirch\n",
       "1            Blieskastel\n",
       "2    Schortens Heidmühle\n",
       "3             Ennigerloh\n",
       "4              Gütersloh\n",
       "Name: Billing City, dtype: object"
      ]
     },
     "execution_count": 29,
     "metadata": {},
     "output_type": "execute_result"
    }
   ],
   "source": [
    "df_salesforce['Billing City'].dtype\n",
    "df_salesforce['Billing City'].head()"
   ]
  },
  {
   "cell_type": "code",
   "execution_count": 30,
   "metadata": {},
   "outputs": [
    {
     "data": {
      "text/plain": [
       "0    Germany\n",
       "1    Germany\n",
       "2    Germany\n",
       "3    Germany\n",
       "4    Germany\n",
       "Name: Billing Country, dtype: object"
      ]
     },
     "execution_count": 30,
     "metadata": {},
     "output_type": "execute_result"
    }
   ],
   "source": [
    "df_salesforce['Billing Country'].dtype\n",
    "df_salesforce['Billing Country'].head()"
   ]
  },
  {
   "cell_type": "markdown",
   "metadata": {},
   "source": []
  },
  {
   "cell_type": "markdown",
   "metadata": {},
   "source": [
    "Transforming Salesforce address into objects"
   ]
  },
  {
   "cell_type": "code",
   "execution_count": 31,
   "metadata": {},
   "outputs": [
    {
     "name": "stdout",
     "output_type": "stream",
     "text": [
      "object\n",
      "object\n",
      "object\n",
      "object\n",
      "<bound method NDFrame.head of 0           Storchenstraße\n",
      "1          Alte Pfarrgasse\n",
      "2       Oldenburger Straße\n",
      "3                Elmstraße\n",
      "4                Hirschweg\n",
      "               ...        \n",
      "4464       Immermannstraße\n",
      "4465         Prinzenstraße\n",
      "4466        Weinbergstraße\n",
      "4467      Große Paaschburg\n",
      "4468             Stadtfeld\n",
      "Name: Billing Street, Length: 4469, dtype: object>\n",
      "<bound method NDFrame.head of 0        15/1\n",
      "1          17\n",
      "2          32\n",
      "3          12\n",
      "4       11-13\n",
      "        ...  \n",
      "4464       21\n",
      "4465       83\n",
      "4466        6\n",
      "4467       35\n",
      "4468       2a\n",
      "Name: Street Number, Length: 4469, dtype: object>\n",
      "<bound method NDFrame.head of 0       88299\n",
      "1       66440\n",
      "2       26419\n",
      "3       59320\n",
      "4       33335\n",
      "        ...  \n",
      "4464    39108\n",
      "4465    47198\n",
      "4466    17192\n",
      "4467    25524\n",
      "4468    24837\n",
      "Name: Billing ZIP, Length: 4469, dtype: object>\n",
      "<bound method NDFrame.head of 0                 Leutkirch\n",
      "1               Blieskastel\n",
      "2       Schortens Heidmühle\n",
      "3                Ennigerloh\n",
      "4                 Gütersloh\n",
      "               ...         \n",
      "4464              Magdeburg\n",
      "4465               Duisburg\n",
      "4466         Waren (Müritz)\n",
      "4467                Itzehoe\n",
      "4468              Schleswig\n",
      "Name: Billing City, Length: 4469, dtype: object>\n"
     ]
    }
   ],
   "source": [
    "df_salesforce['Billing Street'] = df_salesforce['Billing Street'].astype(str)\n",
    "df_salesforce['Street Number'] = df_salesforce['Street Number'].astype(str)\n",
    "df_salesforce['Billing ZIP'] = df_salesforce['Billing ZIP'].astype(str)\n",
    "df_salesforce['Billing City'] = df_salesforce['Billing City'].astype(str)\n",
    "# Verify the conversion\n",
    "print(df_salesforce['Billing Street'].dtype)\n",
    "print(df_salesforce['Street Number'].dtype)\n",
    "print(df_salesforce['Billing ZIP'].dtype)\n",
    "print(df_salesforce['Billing City'].dtype)\n",
    "#.head()\n",
    "print(df_salesforce['Billing Street'].head)\n",
    "print(df_salesforce['Street Number'].head)\n",
    "print(df_salesforce['Billing ZIP'].head)\n",
    "print(df_salesforce['Billing City'].head)"
   ]
  },
  {
   "cell_type": "code",
   "execution_count": 32,
   "metadata": {},
   "outputs": [
    {
     "data": {
      "text/plain": [
       "0              Leutkirch\n",
       "1            Blieskastel\n",
       "2    Schortens Heidmühle\n",
       "3             Ennigerloh\n",
       "4              Gütersloh\n",
       "Name: Billing City, dtype: object"
      ]
     },
     "execution_count": 32,
     "metadata": {},
     "output_type": "execute_result"
    }
   ],
   "source": [
    "df_salesforce['Billing Street'].head()\n",
    "df_salesforce['Street Number'].head()\n",
    "df_salesforce['Billing ZIP'].head()\n",
    "df_salesforce['Billing City'].head()"
   ]
  },
  {
   "cell_type": "code",
   "execution_count": 33,
   "metadata": {},
   "outputs": [
    {
     "data": {
      "text/plain": [
       "0        Storchenstraße\n",
       "1       Alte Pfarrgasse\n",
       "2    Oldenburger Straße\n",
       "3             Elmstraße\n",
       "4             Hirschweg\n",
       "Name: Billing Street, dtype: object"
      ]
     },
     "execution_count": 33,
     "metadata": {},
     "output_type": "execute_result"
    }
   ],
   "source": [
    "df_salesforce['Billing Street'].head()"
   ]
  },
  {
   "cell_type": "code",
   "execution_count": 34,
   "metadata": {},
   "outputs": [
    {
     "data": {
      "text/plain": [
       "0                Storchenstraße15/188299Leutkirch\n",
       "1               Alte Pfarrgasse1766440Blieskastel\n",
       "2    Oldenburger Straße3226419Schortens Heidmühle\n",
       "3                      Elmstraße1259320Ennigerloh\n",
       "4                    Hirschweg11-1333335Gütersloh\n",
       "Name: Salesforce_Address, dtype: object"
      ]
     },
     "execution_count": 34,
     "metadata": {},
     "output_type": "execute_result"
    }
   ],
   "source": [
    "df_salesforce['Salesforce_Address'] = df_salesforce['Billing Street'] + df_salesforce['Street Number'] + df_salesforce['Billing ZIP'] + df_salesforce['Billing City'] \n",
    "df_salesforce['Salesforce_Address'].head()"
   ]
  },
  {
   "cell_type": "markdown",
   "metadata": {},
   "source": [
    "What is known: \n",
    "\n",
    "(1) Some Steps IDs were added to Salesforce already. \n",
    "Conclusion: These \"prefilled\" rows need to be excluded in Python.\n",
    "\n",
    "-> if steps id in salesforce = steps then filter out"
   ]
  },
  {
   "cell_type": "code",
   "execution_count": 35,
   "metadata": {},
   "outputs": [],
   "source": [
    "# Excluding Steps ID in Salesforce that are filled \n",
    "\n",
    "#df_salesforce_filtered = df_salesforce[df_salesforce['Manual_StepsID'] == 0]\n",
    "\n",
    "#print(\"Filtered Salesforce DataFrame (excluding filled 'Manual_StepsID'):\")\n",
    "#print(df_salesforce_filtered)"
   ]
  },
  {
   "cell_type": "markdown",
   "metadata": {},
   "source": [
    "Approach Outline\n"
   ]
  },
  {
   "cell_type": "markdown",
   "metadata": {},
   "source": [
    "(1) What is known: Some Steps IDs were added to Salesforce already. Conclusion: These \"prefilled\" rows need to be excluded in Python.\n",
    "\n",
    "-> if steps id in salesforce = steps then filter out\n",
    "\n",
    "(2) Load both sheets -> compare names and addresses of both sheets -> check technqiues\n",
    "-  potential ones: highest probability (Levenstein distance ; Fuzzywuzzy)\n",
    "Check the highest ratio for:\n",
    "- Name\n",
    "- zip code (group them)\n",
    "- Street\n",
    "\n",
    "Filter ratio : 95% / 90% \n",
    "\n",
    "-> create a df for each and compare both df\n",
    "-> check each row of Steps with rows from Salesforce\n",
    "\n",
    "- Remove empty spaces\n",
    "\n",
    "Further steps:\n",
    "- Remove common token, e.g. \n",
    "\n",
    "\n",
    "Limitation: it's not NLP, there is no \"intelligence\" behind this , it just looks at tokens\n",
    "\n",
    "process.extract()\n"
   ]
  },
  {
   "cell_type": "markdown",
   "metadata": {},
   "source": [
    "Transforming Billing ZIP into Python object"
   ]
  },
  {
   "cell_type": "code",
   "execution_count": 36,
   "metadata": {},
   "outputs": [
    {
     "data": {
      "text/plain": [
       "dtype('O')"
      ]
     },
     "execution_count": 36,
     "metadata": {},
     "output_type": "execute_result"
    }
   ],
   "source": [
    "df_salesforce['Billing ZIP'].dtype"
   ]
  },
  {
   "cell_type": "code",
   "execution_count": 37,
   "metadata": {},
   "outputs": [
    {
     "name": "stdout",
     "output_type": "stream",
     "text": [
      "object\n"
     ]
    }
   ],
   "source": [
    "df_salesforce['Billing ZIP'] = df_salesforce['Billing ZIP'].astype(str)\n",
    "\n",
    "# Verify the conversion\n",
    "print(df_salesforce['Billing ZIP'].dtype)\n",
    "\n"
   ]
  },
  {
   "cell_type": "markdown",
   "metadata": {},
   "source": [
    "Finding the best match for each Salesforce address in Steps DataFrame"
   ]
  },
  {
   "cell_type": "code",
   "execution_count": null,
   "metadata": {},
   "outputs": [],
   "source": []
  },
  {
   "cell_type": "markdown",
   "metadata": {},
   "source": [
    "Snippet 1: Issue with this code: Figured there are missing and non-string (e.g. ZIP code) values. Elements used to create both Salesforce_Address or Steps_Address have non-string values and contain NaN values. There was a TypeError as process.extractOne() expected a strings or byte-like object."
   ]
  },
  {
   "cell_type": "code",
   "execution_count": 38,
   "metadata": {},
   "outputs": [],
   "source": [
    "\n",
    "# Function to find the best match for each Salesforce address in Steps DataFrame\n",
    "#def find_best_match(salesforce_address, steps_addresses):\n",
    " #   best_match = process.extractOne(salesforce_address, steps_addresses, scorer=fuzz.token_sort_ratio)\n",
    "  #  return best_match\n",
    "\n",
    "# Apply the function to find matches\n",
    "#matches = df_salesforce['Salesforce_Address'].apply(find_best_match, steps_addresses=df_steps['Steps_Address'])\n",
    "\n",
    "# Extract matched addresses and scores\n",
    "#df_salesforce['Best Match Address'] = matches.apply(lambda x: x[0] if x[1] >= 95 else None)\n",
    "#df_salesforce['Match Score'] = matches.apply(lambda x: x[1])\n",
    "\n",
    "# Filter rows with matches having at least 95% match score\n",
    "#matched_rows = df_salesforce[df_salesforce['Match Score'] >= 95]\n",
    "\n",
    "# Display the DataFrame with matched addresses\n",
    "#print(\"Salesforce DataFrame with best matches:\")\n",
    "#print(df_salesforce)\n",
    "\n",
    "\n",
    "#-> TypeError: expected string or bytes-like object, got 'float'\n",
    "\n",
    "#Some Salesforce_Address or Steps_Address columns have NaN or non-string values \n",
    "\n",
    "#Issue with this code: Figured there are missing and non-string (e.g. ZIP code) values. Elements used to create both Salesforce_Address or Steps_Address have non-string values and contain NaN values. There was a TypeError as process.extractOne() expected a strings or byte-like object."
   ]
  },
  {
   "cell_type": "markdown",
   "metadata": {},
   "source": [
    "What is the added value of this code compared to Snippet 1?\n",
    "- It can handle missing or None values by checking that x isn't None before accessing  x[0] and x[1]. It ensues that Not a Number and non-string values don't cause issues during the extraction process."
   ]
  },
  {
   "cell_type": "markdown",
   "metadata": {},
   "source": [
    "Attempt 1"
   ]
  },
  {
   "cell_type": "code",
   "execution_count": 39,
   "metadata": {},
   "outputs": [
    {
     "name": "stdout",
     "output_type": "stream",
     "text": [
      "Salesforce DataFrame with best matches:\n",
      "           Salesforce ID                             Account Name  \\\n",
      "0     0010X000045oU62QAE                     Bestattungen Gredler   \n",
      "1     0010X000045okZGQAY                   Toussaint Bestattungen   \n",
      "2     0010X000045om5rQAA                        Hermann Janßen KG   \n",
      "3     0010X000045peOdQAI              Wonnemann e.K. Bestattungen   \n",
      "4     0010X000045piDPQAY                Müther e. K. Bestattungen   \n",
      "...                  ...                                      ...   \n",
      "4464  001b0000044cAQgAAM  Vergissmeinnicht® Abschied & Bestattung   \n",
      "4465  001b0000044cmhlAAA                    Bestattungshaus Dunas   \n",
      "4466  001b0000044dG3zAAE               Bestattungshaus Engelhardt   \n",
      "4467  001b0000044dac3AAA          Bestattungsinstitut Hans Müller   \n",
      "4468  001b0000044ddYjAAI        Bestattungshaus Michael Jürgensen   \n",
      "\n",
      "           Account Owner Parent Account ID  \\\n",
      "0        Maximilian Witt               NaN   \n",
      "1     Jasmin Ouali Turki               NaN   \n",
      "2      Christian Leppert               NaN   \n",
      "3         Florian Walzer               NaN   \n",
      "4        Maximilian Witt               NaN   \n",
      "...                  ...               ...   \n",
      "4464        André Reisch               NaN   \n",
      "4465     Maximilian Witt               NaN   \n",
      "4466   Christian Leppert               NaN   \n",
      "4467   Christian Leppert   0019W000004GR8n   \n",
      "4468     Maximilian Witt               NaN   \n",
      "\n",
      "                           Parent Account  Rating - Number Of Funerals p.a.  \\\n",
      "0                                     NaN                             700.0   \n",
      "1                                     NaN                             100.0   \n",
      "2                                     NaN                             150.0   \n",
      "3                                     NaN                             200.0   \n",
      "4                                     NaN                              80.0   \n",
      "...                                   ...                               ...   \n",
      "4464                                  NaN                             100.0   \n",
      "4465                                  NaN                             130.0   \n",
      "4466                                  NaN                             400.0   \n",
      "4467  Norddeutsche Bestattungs Union GmbH                             120.0   \n",
      "4468                                  NaN                             500.0   \n",
      "\n",
      "      Manual_StepsID Billing Country         Billing City Billing ZIP  \\\n",
      "0                  0         Germany            Leutkirch       88299   \n",
      "1             330860         Germany          Blieskastel       66440   \n",
      "2                  0         Germany  Schortens Heidmühle       26419   \n",
      "3                  0         Germany           Ennigerloh       59320   \n",
      "4                  0         Germany            Gütersloh       33335   \n",
      "...              ...             ...                  ...         ...   \n",
      "4464          330520         Germany            Magdeburg       39108   \n",
      "4465               0         Germany             Duisburg       47198   \n",
      "4466          330242         Germany       Waren (Müritz)       17192   \n",
      "4467          326215         Germany              Itzehoe       25524   \n",
      "4468               0         Germany            Schleswig       24837   \n",
      "\n",
      "          Billing Street Street Number             Phone  Steps ID.1  \\\n",
      "0         Storchenstraße          15/1      07561 / 5009         NaN   \n",
      "1        Alte Pfarrgasse            17     +49 6842 4563         NaN   \n",
      "2     Oldenburger Straße            32     +49 4461 8802         NaN   \n",
      "3              Elmstraße            12    +49 2524 93310         NaN   \n",
      "4              Hirschweg         11-13    +49 5241 78033         NaN   \n",
      "...                  ...           ...               ...         ...   \n",
      "4464     Immermannstraße            21  +49 391 55991636         NaN   \n",
      "4465       Prinzenstraße            83  +49 2066 4686993         NaN   \n",
      "4466      Weinbergstraße             6   +49 3991 665547         NaN   \n",
      "4467    Große Paaschburg            35   0 48 21 - 30 33         NaN   \n",
      "4468           Stadtfeld            2a    +49 4621 23308         NaN   \n",
      "\n",
      "      Rating Number Of Funerals p.a.  \\\n",
      "0                                700   \n",
      "1                                100   \n",
      "2                                150   \n",
      "3                                200   \n",
      "4                                 80   \n",
      "...                              ...   \n",
      "4464                             100   \n",
      "4465                             130   \n",
      "4466                             400   \n",
      "4467                             120   \n",
      "4468                             500   \n",
      "\n",
      "                                Salesforce_Address Best Match Address  \\\n",
      "0                 Storchenstraße15/188299Leutkirch               None   \n",
      "1                Alte Pfarrgasse1766440Blieskastel               None   \n",
      "2     Oldenburger Straße3226419Schortens Heidmühle               None   \n",
      "3                       Elmstraße1259320Ennigerloh               None   \n",
      "4                     Hirschweg11-1333335Gütersloh               None   \n",
      "...                                            ...                ...   \n",
      "4464               Immermannstraße2139108Magdeburg               None   \n",
      "4465                  Prinzenstraße8347198Duisburg               None   \n",
      "4466            Weinbergstraße617192Waren (Müritz)               None   \n",
      "4467                Große Paaschburg3525524Itzehoe               None   \n",
      "4468                     Stadtfeld2a24837Schleswig               None   \n",
      "\n",
      "      Match Score  \n",
      "0              71  \n",
      "1              51  \n",
      "2              51  \n",
      "3              57  \n",
      "4              67  \n",
      "...           ...  \n",
      "4464           48  \n",
      "4465           47  \n",
      "4466           53  \n",
      "4467           49  \n",
      "4468           54  \n",
      "\n",
      "[4469 rows x 18 columns]\n"
     ]
    }
   ],
   "source": [
    "def find_best_match(salesforce_address, steps_addresses):\n",
    "    best_match = process.extractOne(salesforce_address, steps_addresses, scorer=fuzz.token_sort_ratio)\n",
    "    return best_match\n",
    "# Apply the function to find matches\n",
    "matches = df_salesforce['Salesforce_Address'].apply(find_best_match, steps_addresses=df_steps['Steps_Address'])\n",
    "\n",
    "# Extract matched addresses and scores\n",
    "df_salesforce['Best Match Address'] = matches.apply(lambda x: x[0] if x and x[1] >= 95 else None)\n",
    "df_salesforce['Match Score'] = matches.apply(lambda x: x[1] if x else None)\n",
    "\n",
    "# Filter rows with matches having at least 95% match score\n",
    "matched_rows = df_salesforce[df_salesforce['Match Score'] >= 95]\n",
    "\n",
    "# Display the DataFrame with matched addresses\n",
    "print(\"Salesforce DataFrame with best matches:\")\n",
    "print(df_salesforce)"
   ]
  },
  {
   "cell_type": "markdown",
   "metadata": {},
   "source": [
    "Best Match Address column df_salesforce DataFrame is empty. \n",
    "This indicates there weren't matches with a score of 95% or higher."
   ]
  },
  {
   "cell_type": "markdown",
   "metadata": {},
   "source": [
    "Troubleshooting"
   ]
  },
  {
   "cell_type": "code",
   "execution_count": 40,
   "metadata": {},
   "outputs": [
    {
     "name": "stdout",
     "output_type": "stream",
     "text": [
      "Mode of Match Scores:\n",
      "0    51\n",
      "Name: Match Score, dtype: int64\n"
     ]
    }
   ],
   "source": [
    "match_score_mode = df_salesforce['Match Score'].mode()\n",
    "\n",
    "print(\"Mode of Match Scores:\")\n",
    "print(match_score_mode)"
   ]
  },
  {
   "cell_type": "code",
   "execution_count": 41,
   "metadata": {},
   "outputs": [
    {
     "name": "stdout",
     "output_type": "stream",
     "text": [
      "Frequency table of Match Scores:\n",
      "Match Score\n",
      "34      3\n",
      "40      3\n",
      "41      2\n",
      "42      4\n",
      "43     17\n",
      "44     34\n",
      "45     48\n",
      "46     88\n",
      "47    187\n",
      "48    270\n",
      "49    314\n",
      "50    235\n",
      "51    357\n",
      "52    352\n",
      "53    261\n",
      "54    216\n",
      "55    247\n",
      "56    154\n",
      "57    137\n",
      "58    121\n",
      "59     82\n",
      "60     90\n",
      "61     79\n",
      "62     77\n",
      "63     60\n",
      "64     56\n",
      "65     58\n",
      "66     38\n",
      "67     69\n",
      "68     75\n",
      "69     51\n",
      "70     72\n",
      "71     71\n",
      "72     62\n",
      "73     56\n",
      "74     53\n",
      "75     64\n",
      "76     53\n",
      "77     46\n",
      "78     33\n",
      "79     40\n",
      "80     19\n",
      "81     16\n",
      "82     13\n",
      "83     11\n",
      "84      8\n",
      "85      3\n",
      "86     47\n",
      "87      3\n",
      "88      6\n",
      "89      2\n",
      "90      3\n",
      "91      2\n",
      "95      1\n",
      "Name: count, dtype: int64\n"
     ]
    }
   ],
   "source": [
    "frequency_table = df_salesforce['Match Score'].value_counts().sort_index()\n",
    "\n",
    "# Display the frequency table\n",
    "print(\"Frequency table of Match Scores:\")\n",
    "print(frequency_table)\n"
   ]
  },
  {
   "cell_type": "markdown",
   "metadata": {},
   "source": [
    "Attempt 2: Using Pandas to remove spaces, hyphens, periods, and slashes."
   ]
  },
  {
   "cell_type": "markdown",
   "metadata": {},
   "source": [
    "Attempt 2: Steps"
   ]
  },
  {
   "cell_type": "code",
   "execution_count": 42,
   "metadata": {},
   "outputs": [
    {
     "name": "stdout",
     "output_type": "stream",
     "text": [
      "0                       nan\n",
      "1          VredenerStraße41\n",
      "2           Kirchnerstraße4\n",
      "3       StuttgarterStraße26\n",
      "4             EilbekerWeg16\n",
      "               ...         \n",
      "6588    MannheimerStraße229\n",
      "6589            Lindenstr39\n",
      "6590              Worthweg5\n",
      "6591        Donnerburgweg40\n",
      "6592             Liebenau36\n",
      "Name: Street_without_special_characters, Length: 6593, dtype: object\n"
     ]
    }
   ],
   "source": [
    "def remove_special_characters(street_name):\n",
    "    return street_name.replace(\" \", \"\").replace(\"-\", \"\").replace(\".\", \"\").replace(\"/\", \"\")\n",
    "\n",
    "# Apply the function to the 'Street' column and create a new column 'Street_without_special_characters'\n",
    "df_steps['Street_without_special_characters'] = df_steps['Street'].apply(remove_special_characters)\n",
    "\n",
    "# Display the DataFrame\n",
    "print(df_steps['Street_without_special_characters'])"
   ]
  },
  {
   "cell_type": "markdown",
   "metadata": {},
   "source": [
    "Attempt 2: Salesforce"
   ]
  },
  {
   "cell_type": "code",
   "execution_count": 43,
   "metadata": {},
   "outputs": [
    {
     "data": {
      "text/plain": [
       "0       Storchenstraße\n",
       "1       AltePfarrgasse\n",
       "2    OldenburgerStraße\n",
       "3            Elmstraße\n",
       "4            Hirschweg\n",
       "Name: Billing_Street_without_special_characters, dtype: object"
      ]
     },
     "execution_count": 43,
     "metadata": {},
     "output_type": "execute_result"
    }
   ],
   "source": [
    "df_salesforce['Billing_Street_without_special_characters'] = df_salesforce['Billing Street'].str.replace(r'[ \\-./]', '', regex=True)\n",
    "\n",
    "# Display the DataFrame\n",
    "df_salesforce['Billing_Street_without_special_characters'].head()"
   ]
  },
  {
   "cell_type": "code",
   "execution_count": 44,
   "metadata": {},
   "outputs": [
    {
     "data": {
      "text/plain": [
       "0                    nan\n",
       "1       VredenerStraße41\n",
       "2        Kirchnerstraße4\n",
       "3    StuttgarterStraße26\n",
       "4          EilbekerWeg16\n",
       "Name: Street_without_special_characters, dtype: object"
      ]
     },
     "execution_count": 44,
     "metadata": {},
     "output_type": "execute_result"
    }
   ],
   "source": [
    "# (1)\n",
    "df_steps['Steps_Address_without_special_characters'] = df_steps['Street_without_special_characters'] + df_steps['Zip Code'] + df_steps['City']\n",
    "df_steps['Street_without_special_characters'].head()"
   ]
  },
  {
   "cell_type": "code",
   "execution_count": 45,
   "metadata": {},
   "outputs": [
    {
     "data": {
      "text/plain": [
       "0               Storchenstraße15/188299Leutkirch\n",
       "1               AltePfarrgasse1766440Blieskastel\n",
       "2    OldenburgerStraße3226419Schortens Heidmühle\n",
       "3                     Elmstraße1259320Ennigerloh\n",
       "4                   Hirschweg11-1333335Gütersloh\n",
       "Name: Billing_Street_without_special_characters, dtype: object"
      ]
     },
     "execution_count": 45,
     "metadata": {},
     "output_type": "execute_result"
    }
   ],
   "source": [
    "#(2)\n",
    "df_salesforce['Billing_Street_without_special_characters'] = df_salesforce['Billing_Street_without_special_characters'] + df_salesforce['Street Number'] + df_salesforce['Billing ZIP'] + df_salesforce['Billing City'] \n",
    "df_salesforce['Billing_Street_without_special_characters'].head()"
   ]
  },
  {
   "cell_type": "markdown",
   "metadata": {},
   "source": [
    "2: Matching Function Using the cleaned Addresses"
   ]
  },
  {
   "cell_type": "markdown",
   "metadata": {},
   "source": [
    " Function Using Cleaned Addresses"
   ]
  },
  {
   "cell_type": "code",
   "execution_count": 46,
   "metadata": {},
   "outputs": [],
   "source": [
    "def find_best_match(cleaned_salesforce_address, cleaned_steps_addresses):\n",
    "    # Find the best match for the cleaned Salesforce address\n",
    "    best_match = process.extractOne(cleaned_salesforce_address, cleaned_steps_addresses, scorer=fuzz.token_sort_ratio)\n",
    "    return best_match\n"
   ]
  },
  {
   "cell_type": "markdown",
   "metadata": {},
   "source": [
    "2: Apply the Matching Function to Find Matches"
   ]
  },
  {
   "cell_type": "code",
   "execution_count": 47,
   "metadata": {},
   "outputs": [
    {
     "name": "stdout",
     "output_type": "stream",
     "text": [
      "Salesforce DataFrame with best matches:\n",
      "           Salesforce ID                             Account Name  \\\n",
      "0     0010X000045oU62QAE                     Bestattungen Gredler   \n",
      "1     0010X000045okZGQAY                   Toussaint Bestattungen   \n",
      "2     0010X000045om5rQAA                        Hermann Janßen KG   \n",
      "3     0010X000045peOdQAI              Wonnemann e.K. Bestattungen   \n",
      "4     0010X000045piDPQAY                Müther e. K. Bestattungen   \n",
      "...                  ...                                      ...   \n",
      "4464  001b0000044cAQgAAM  Vergissmeinnicht® Abschied & Bestattung   \n",
      "4465  001b0000044cmhlAAA                    Bestattungshaus Dunas   \n",
      "4466  001b0000044dG3zAAE               Bestattungshaus Engelhardt   \n",
      "4467  001b0000044dac3AAA          Bestattungsinstitut Hans Müller   \n",
      "4468  001b0000044ddYjAAI        Bestattungshaus Michael Jürgensen   \n",
      "\n",
      "           Account Owner Parent Account ID  \\\n",
      "0        Maximilian Witt               NaN   \n",
      "1     Jasmin Ouali Turki               NaN   \n",
      "2      Christian Leppert               NaN   \n",
      "3         Florian Walzer               NaN   \n",
      "4        Maximilian Witt               NaN   \n",
      "...                  ...               ...   \n",
      "4464        André Reisch               NaN   \n",
      "4465     Maximilian Witt               NaN   \n",
      "4466   Christian Leppert               NaN   \n",
      "4467   Christian Leppert   0019W000004GR8n   \n",
      "4468     Maximilian Witt               NaN   \n",
      "\n",
      "                           Parent Account  Rating - Number Of Funerals p.a.  \\\n",
      "0                                     NaN                             700.0   \n",
      "1                                     NaN                             100.0   \n",
      "2                                     NaN                             150.0   \n",
      "3                                     NaN                             200.0   \n",
      "4                                     NaN                              80.0   \n",
      "...                                   ...                               ...   \n",
      "4464                                  NaN                             100.0   \n",
      "4465                                  NaN                             130.0   \n",
      "4466                                  NaN                             400.0   \n",
      "4467  Norddeutsche Bestattungs Union GmbH                             120.0   \n",
      "4468                                  NaN                             500.0   \n",
      "\n",
      "      Manual_StepsID Billing Country         Billing City Billing ZIP  ...  \\\n",
      "0                  0         Germany            Leutkirch       88299  ...   \n",
      "1             330860         Germany          Blieskastel       66440  ...   \n",
      "2                  0         Germany  Schortens Heidmühle       26419  ...   \n",
      "3                  0         Germany           Ennigerloh       59320  ...   \n",
      "4                  0         Germany            Gütersloh       33335  ...   \n",
      "...              ...             ...                  ...         ...  ...   \n",
      "4464          330520         Germany            Magdeburg       39108  ...   \n",
      "4465               0         Germany             Duisburg       47198  ...   \n",
      "4466          330242         Germany       Waren (Müritz)       17192  ...   \n",
      "4467          326215         Germany              Itzehoe       25524  ...   \n",
      "4468               0         Germany            Schleswig       24837  ...   \n",
      "\n",
      "     Street Number             Phone Steps ID.1  \\\n",
      "0             15/1      07561 / 5009        NaN   \n",
      "1               17     +49 6842 4563        NaN   \n",
      "2               32     +49 4461 8802        NaN   \n",
      "3               12    +49 2524 93310        NaN   \n",
      "4            11-13    +49 5241 78033        NaN   \n",
      "...            ...               ...        ...   \n",
      "4464            21  +49 391 55991636        NaN   \n",
      "4465            83  +49 2066 4686993        NaN   \n",
      "4466             6   +49 3991 665547        NaN   \n",
      "4467            35   0 48 21 - 30 33        NaN   \n",
      "4468            2a    +49 4621 23308        NaN   \n",
      "\n",
      "      Rating Number Of Funerals p.a.  \\\n",
      "0                                700   \n",
      "1                                100   \n",
      "2                                150   \n",
      "3                                200   \n",
      "4                                 80   \n",
      "...                              ...   \n",
      "4464                             100   \n",
      "4465                             130   \n",
      "4466                             400   \n",
      "4467                             120   \n",
      "4468                             500   \n",
      "\n",
      "                                Salesforce_Address Best Match Address  \\\n",
      "0                 Storchenstraße15/188299Leutkirch               None   \n",
      "1                Alte Pfarrgasse1766440Blieskastel               None   \n",
      "2     Oldenburger Straße3226419Schortens Heidmühle               None   \n",
      "3                       Elmstraße1259320Ennigerloh               None   \n",
      "4                     Hirschweg11-1333335Gütersloh               None   \n",
      "...                                            ...                ...   \n",
      "4464               Immermannstraße2139108Magdeburg               None   \n",
      "4465                  Prinzenstraße8347198Duisburg               None   \n",
      "4466            Weinbergstraße617192Waren (Müritz)               None   \n",
      "4467                Große Paaschburg3525524Itzehoe               None   \n",
      "4468                     Stadtfeld2a24837Schleswig               None   \n",
      "\n",
      "     Match Score    Billing_Street_without_special_characters  \\\n",
      "0             71             Storchenstraße15/188299Leutkirch   \n",
      "1             51             AltePfarrgasse1766440Blieskastel   \n",
      "2             51  OldenburgerStraße3226419Schortens Heidmühle   \n",
      "3             57                   Elmstraße1259320Ennigerloh   \n",
      "4             67                 Hirschweg11-1333335Gütersloh   \n",
      "...          ...                                          ...   \n",
      "4464          48              Immermannstraße2139108Magdeburg   \n",
      "4465          47                 Prinzenstraße8347198Duisburg   \n",
      "4466          53           Weinbergstraße617192Waren (Müritz)   \n",
      "4467          49                GroßePaaschburg3525524Itzehoe   \n",
      "4468          54                    Stadtfeld2a24837Schleswig   \n",
      "\n",
      "     Second_Best_Match_Address Second_Match_Score  \n",
      "0                         None                 79  \n",
      "1                         None                 64  \n",
      "2                         None                 64  \n",
      "3                         None                 58  \n",
      "4                         None                 72  \n",
      "...                        ...                ...  \n",
      "4464                      None                 63  \n",
      "4465                      None                 57  \n",
      "4466                      None                 75  \n",
      "4467                      None                 72  \n",
      "4468                      None                 62  \n",
      "\n",
      "[4469 rows x 21 columns]\n"
     ]
    }
   ],
   "source": [
    "# Apply the function to find matches\n",
    "matches = df_salesforce['Billing_Street_without_special_characters'].apply(find_best_match, cleaned_steps_addresses=df_steps['Steps_Address_without_special_characters'])\n",
    "\n",
    "# Extract matched addresses and scores\n",
    "df_salesforce['Second_Best_Match_Address'] = matches.apply(lambda x: x[0] if x and x[1] >= 95 else None)\n",
    "df_salesforce['Second_Match_Score'] = matches.apply(lambda x: x[1] if x else None)\n",
    "\n",
    "# Filter rows with matches having at least 95% match score\n",
    "matched_rows = df_salesforce[df_salesforce['Second_Match_Score'] >= 95]\n",
    "\n",
    "# Display the DataFrame with matched addresses\n",
    "print(\"Salesforce DataFrame with best matches:\")\n",
    "print(df_salesforce)\n"
   ]
  },
  {
   "cell_type": "code",
   "execution_count": 48,
   "metadata": {},
   "outputs": [
    {
     "name": "stdout",
     "output_type": "stream",
     "text": [
      "Second_Match_Score:\n",
      "0    62\n",
      "Name: Second_Match_Score, dtype: int64\n"
     ]
    }
   ],
   "source": [
    "match_score_mode = df_salesforce['Second_Match_Score'].mode()\n",
    "\n",
    "print(\"Second_Match_Score:\")\n",
    "print(match_score_mode)"
   ]
  },
  {
   "cell_type": "markdown",
   "metadata": {},
   "source": [
    "removing the additional strings (\"str\", \"straße\", \"strasse\") from the addresses in both DataFrames and then applying the matching function."
   ]
  },
  {
   "cell_type": "code",
   "execution_count": 49,
   "metadata": {},
   "outputs": [
    {
     "name": "stdout",
     "output_type": "stream",
     "text": [
      "Salesforce DataFrame with cleaned Billing Street:\n",
      "       Billing Street                              Billing_Street3\n",
      "0      Storchenstraße                   Storchen15/188299Leutkirch\n",
      "1     Alte Pfarrgasse             AltePfarrgasse1766440Blieskastel\n",
      "2  Oldenburger Straße  OldenburgerStraße3226419Schortens Heidmühle\n",
      "3           Elmstraße                         Elm1259320Ennigerloh\n",
      "4           Hirschweg                 Hirschweg11-1333335Gütersloh\n",
      "Steps DataFrame with cleaned Street:\n",
      "                  Street                     Steps_Address3\n",
      "0                    nan                          nannannan\n",
      "1     Vredener Straße 41   VredenerStraße4148703.0Stadtlohn\n",
      "2       Kirchnerstraße 4  Kirchner460311.0Frankfurt am Main\n",
      "3  Stuttgarter Straße 26    StuttgarterStraße2668782.0Brühl\n",
      "4        Eilbeker Weg 16        EilbekerWeg1622089.0Hamburg\n"
     ]
    }
   ],
   "source": [
    "# Function to remove special characters and specified substrings\n",
    "def clean_address(text):\n",
    "    if pd.isna(text):\n",
    "        return \"\"\n",
    "    text = text.replace(\" \", \"\").replace(\"-\", \"\").replace(\".\", \"\").replace(\"/\", \"\")\n",
    "    text = text.replace(\"straße\", \"\").replace(\"strasse\", \"\").replace(\"str\", \"\")\n",
    "    return text\n",
    "\n",
    "# Apply the function to create new columns in both DataFrames\n",
    "df_salesforce['Billing_Street3'] = df_salesforce['Billing Street'].apply(clean_address)\n",
    "df_steps['Street3'] = df_steps['Street'].apply(clean_address)\n",
    "\n",
    "# Combine with other relevant columns\n",
    "df_salesforce['Billing_Street3'] += df_salesforce['Street Number'] + df_salesforce['Billing ZIP'] + df_salesforce['Billing City']\n",
    "df_steps['Steps_Address3'] = df_steps['Street3'] + df_steps['Zip Code'] + df_steps['City']\n",
    "\n",
    "# Display the DataFrames to verify\n",
    "print(\"Salesforce DataFrame with cleaned Billing Street:\")\n",
    "print(df_salesforce[['Billing Street', 'Billing_Street3']].head())\n",
    "\n",
    "print(\"Steps DataFrame with cleaned Street:\")\n",
    "print(df_steps[['Street', 'Steps_Address3']].head())"
   ]
  },
  {
   "cell_type": "code",
   "execution_count": 50,
   "metadata": {},
   "outputs": [
    {
     "name": "stdout",
     "output_type": "stream",
     "text": [
      "Salesforce DataFrame with best matches:\n",
      "           Salesforce ID                             Account Name  \\\n",
      "0     0010X000045oU62QAE                     Bestattungen Gredler   \n",
      "1     0010X000045okZGQAY                   Toussaint Bestattungen   \n",
      "2     0010X000045om5rQAA                        Hermann Janßen KG   \n",
      "3     0010X000045peOdQAI              Wonnemann e.K. Bestattungen   \n",
      "4     0010X000045piDPQAY                Müther e. K. Bestattungen   \n",
      "...                  ...                                      ...   \n",
      "4464  001b0000044cAQgAAM  Vergissmeinnicht® Abschied & Bestattung   \n",
      "4465  001b0000044cmhlAAA                    Bestattungshaus Dunas   \n",
      "4466  001b0000044dG3zAAE               Bestattungshaus Engelhardt   \n",
      "4467  001b0000044dac3AAA          Bestattungsinstitut Hans Müller   \n",
      "4468  001b0000044ddYjAAI        Bestattungshaus Michael Jürgensen   \n",
      "\n",
      "           Account Owner Parent Account ID  \\\n",
      "0        Maximilian Witt               NaN   \n",
      "1     Jasmin Ouali Turki               NaN   \n",
      "2      Christian Leppert               NaN   \n",
      "3         Florian Walzer               NaN   \n",
      "4        Maximilian Witt               NaN   \n",
      "...                  ...               ...   \n",
      "4464        André Reisch               NaN   \n",
      "4465     Maximilian Witt               NaN   \n",
      "4466   Christian Leppert               NaN   \n",
      "4467   Christian Leppert   0019W000004GR8n   \n",
      "4468     Maximilian Witt               NaN   \n",
      "\n",
      "                           Parent Account  Rating - Number Of Funerals p.a.  \\\n",
      "0                                     NaN                             700.0   \n",
      "1                                     NaN                             100.0   \n",
      "2                                     NaN                             150.0   \n",
      "3                                     NaN                             200.0   \n",
      "4                                     NaN                              80.0   \n",
      "...                                   ...                               ...   \n",
      "4464                                  NaN                             100.0   \n",
      "4465                                  NaN                             130.0   \n",
      "4466                                  NaN                             400.0   \n",
      "4467  Norddeutsche Bestattungs Union GmbH                             120.0   \n",
      "4468                                  NaN                             500.0   \n",
      "\n",
      "      Manual_StepsID Billing Country         Billing City Billing ZIP  ...  \\\n",
      "0                  0         Germany            Leutkirch       88299  ...   \n",
      "1             330860         Germany          Blieskastel       66440  ...   \n",
      "2                  0         Germany  Schortens Heidmühle       26419  ...   \n",
      "3                  0         Germany           Ennigerloh       59320  ...   \n",
      "4                  0         Germany            Gütersloh       33335  ...   \n",
      "...              ...             ...                  ...         ...  ...   \n",
      "4464          330520         Germany            Magdeburg       39108  ...   \n",
      "4465               0         Germany             Duisburg       47198  ...   \n",
      "4466          330242         Germany       Waren (Müritz)       17192  ...   \n",
      "4467          326215         Germany              Itzehoe       25524  ...   \n",
      "4468               0         Germany            Schleswig       24837  ...   \n",
      "\n",
      "     Rating Number Of Funerals p.a.  \\\n",
      "0                               700   \n",
      "1                               100   \n",
      "2                               150   \n",
      "3                               200   \n",
      "4                                80   \n",
      "...                             ...   \n",
      "4464                            100   \n",
      "4465                            130   \n",
      "4466                            400   \n",
      "4467                            120   \n",
      "4468                            500   \n",
      "\n",
      "                                Salesforce_Address Best Match Address  \\\n",
      "0                 Storchenstraße15/188299Leutkirch               None   \n",
      "1                Alte Pfarrgasse1766440Blieskastel               None   \n",
      "2     Oldenburger Straße3226419Schortens Heidmühle               None   \n",
      "3                       Elmstraße1259320Ennigerloh               None   \n",
      "4                     Hirschweg11-1333335Gütersloh               None   \n",
      "...                                            ...                ...   \n",
      "4464               Immermannstraße2139108Magdeburg               None   \n",
      "4465                  Prinzenstraße8347198Duisburg               None   \n",
      "4466            Weinbergstraße617192Waren (Müritz)               None   \n",
      "4467                Große Paaschburg3525524Itzehoe               None   \n",
      "4468                     Stadtfeld2a24837Schleswig               None   \n",
      "\n",
      "      Match Score    Billing_Street_without_special_characters  \\\n",
      "0              71             Storchenstraße15/188299Leutkirch   \n",
      "1              51             AltePfarrgasse1766440Blieskastel   \n",
      "2              51  OldenburgerStraße3226419Schortens Heidmühle   \n",
      "3              57                   Elmstraße1259320Ennigerloh   \n",
      "4              67                 Hirschweg11-1333335Gütersloh   \n",
      "...           ...                                          ...   \n",
      "4464           48              Immermannstraße2139108Magdeburg   \n",
      "4465           47                 Prinzenstraße8347198Duisburg   \n",
      "4466           53           Weinbergstraße617192Waren (Müritz)   \n",
      "4467           49                GroßePaaschburg3525524Itzehoe   \n",
      "4468           54                    Stadtfeld2a24837Schleswig   \n",
      "\n",
      "     Second_Best_Match_Address Second_Match_Score  \\\n",
      "0                         None                 79   \n",
      "1                         None                 64   \n",
      "2                         None                 64   \n",
      "3                         None                 58   \n",
      "4                         None                 72   \n",
      "...                        ...                ...   \n",
      "4464                      None                 63   \n",
      "4465                      None                 57   \n",
      "4466                      None                 75   \n",
      "4467                      None                 72   \n",
      "4468                      None                 62   \n",
      "\n",
      "                                  Billing_Street3 Third_Best_Match_Address  \\\n",
      "0                      Storchen15/188299Leutkirch                     None   \n",
      "1                AltePfarrgasse1766440Blieskastel                     None   \n",
      "2     OldenburgerStraße3226419Schortens Heidmühle                     None   \n",
      "3                            Elm1259320Ennigerloh                     None   \n",
      "4                    Hirschweg11-1333335Gütersloh                     None   \n",
      "...                                           ...                      ...   \n",
      "4464                    Immermann2139108Magdeburg                     None   \n",
      "4465                       Prinzen8347198Duisburg                     None   \n",
      "4466                 Weinberg617192Waren (Müritz)                     None   \n",
      "4467                GroßePaaschburg3525524Itzehoe                     None   \n",
      "4468                    Stadtfeld2a24837Schleswig                     None   \n",
      "\n",
      "     Third_Match_Score  \n",
      "0                   75  \n",
      "1                   64  \n",
      "2                   64  \n",
      "3                   52  \n",
      "4                   72  \n",
      "...                ...  \n",
      "4464                62  \n",
      "4465                53  \n",
      "4466                70  \n",
      "4467                72  \n",
      "4468                62  \n",
      "\n",
      "[4469 rows x 24 columns]\n"
     ]
    }
   ],
   "source": [
    "# Function to find the best match using cleaned addresses\n",
    "def find_best_match(cleaned_salesforce_address, cleaned_steps_addresses):\n",
    "    best_match = process.extractOne(cleaned_salesforce_address, cleaned_steps_addresses, scorer=fuzz.token_sort_ratio)\n",
    "    return best_match\n",
    "\n",
    "# Apply the function to find matches\n",
    "matches = df_salesforce['Billing_Street3'].apply(find_best_match, cleaned_steps_addresses=df_steps['Steps_Address3'])\n",
    "\n",
    "# Extract matched addresses and scores\n",
    "df_salesforce['Third_Best_Match_Address'] = matches.apply(lambda x: x[0] if x and x[1] >= 95 else None)\n",
    "df_salesforce['Third_Match_Score'] = matches.apply(lambda x: x[1] if x else None)\n",
    "\n",
    "# Filter rows with matches having at least 95% match score\n",
    "matched_rows = df_salesforce[df_salesforce['Third_Match_Score'] >= 95]\n",
    "\n",
    "# Display the DataFrame with matched addresses\n",
    "print(\"Salesforce DataFrame with best matches:\")\n",
    "print(df_salesforce)"
   ]
  },
  {
   "cell_type": "code",
   "execution_count": 51,
   "metadata": {},
   "outputs": [
    {
     "name": "stdout",
     "output_type": "stream",
     "text": [
      "Third_Match_Score:\n",
      "0    62\n",
      "Name: Third_Match_Score, dtype: int64\n"
     ]
    }
   ],
   "source": [
    "match_score_mode = df_salesforce['Third_Match_Score'].mode()\n",
    "\n",
    "print(\"Third_Match_Score:\")\n",
    "print(match_score_mode)"
   ]
  },
  {
   "cell_type": "markdown",
   "metadata": {},
   "source": [
    "Account Name (Salesforce) / Customer Name (Steps)\n",
    "-> clean the addresses by removing specified characters and substrings from the columns \"Account Name\" in df_salesforce and \"Customer Name\" in df_steps"
   ]
  },
  {
   "cell_type": "markdown",
   "metadata": {},
   "source": [
    "Apply the Function to Clean the Columns"
   ]
  },
  {
   "cell_type": "code",
   "execution_count": 54,
   "metadata": {},
   "outputs": [
    {
     "name": "stdout",
     "output_type": "stream",
     "text": [
      "Steps DataFrame with best matches:\n",
      "                       Customer Name        Cleaned_Customer_Name  \\\n",
      "0         DBU Bestattungs-Union GmbH      DBUBestattungsUnionGmbH   \n",
      "1             ?Bestattungen Potthoff         BestattungenPotthoff   \n",
      "2           „Pietät“ Berthold Wiesel       „Pietät“BertholdWiesel   \n",
      "3     1. Brühler Bestattungsinstitut  1BrühlerBestattungsinstitut   \n",
      "4               ASV Deutschland GmbH           ASVDeutschlandGmbH   \n",
      "...                              ...                          ...   \n",
      "6588                       Zorn GmbH                     ZornGmbH   \n",
      "6589          Zotner Bestattungshaus        ZotnerBestattungshaus   \n",
      "6590           Zur Ruhe Bestattungen          ZurRuheBestattungen   \n",
      "6591      Zur Ruhe Bestattungen GmbH      ZurRuheBestattungenGmbH   \n",
      "6592              Zwölfer, Christine            Zwölfer,Christine   \n",
      "\n",
      "     Fourth_Best_Match_Account_Name  Fourth_Match_Score  \n",
      "0                              None                  80  \n",
      "1                              None                  85  \n",
      "2                              None                  53  \n",
      "3                              None                  85  \n",
      "4                ASVDeutschlandGmbH                 100  \n",
      "...                             ...                 ...  \n",
      "6588                           None                  82  \n",
      "6589                           None                  86  \n",
      "6590                           None                  86  \n",
      "6591                           None                  88  \n",
      "6592                           None                  54  \n",
      "\n",
      "[6593 rows x 4 columns]\n"
     ]
    }
   ],
   "source": [
    "# Define the function to remove specified characters and substrings\n",
    "def clean_text(text):\n",
    "    if pd.isna(text):\n",
    "        return \"\"\n",
    "    text = text.replace(\" \", \"\").replace(\"-\", \"\").replace(\".\", \"\").replace(\"&\", \"\").replace(\"\", \"\")\n",
    "    text = text.replace(\"?\", \"\").replace(\"*\", \"\").replace(\"«\", \"\").replace(\"»\", \"\")\n",
    "    text = text.replace(\"/\", \"\").replace(\"+\", \"\").replace(\"·\", \"\").replace(\"(\", \"\").replace(\")\", \"\")\n",
    "    return text\n",
    "\n",
    "# Apply the function to clean the 'Account Name' and 'Customer Name' columns\n",
    "df_salesforce['Cleaned_Account_Name'] = df_salesforce['Account Name'].apply(clean_text)\n",
    "df_steps['Cleaned_Customer_Name'] = df_steps['Customer Name'].apply(clean_text)\n",
    "\n",
    "# Function to find the best match from df_salesforce for each cleaned df_steps address\n",
    "def find_best_match_for_steps(cleaned_customer_name, cleaned_account_names):\n",
    "    best_match = process.extractOne(cleaned_customer_name, cleaned_account_names, scorer=fuzz.token_sort_ratio)\n",
    "    return best_match\n",
    "\n",
    "# Apply the function to find matches\n",
    "matches = df_steps['Cleaned_Customer_Name'].apply(find_best_match_for_steps, cleaned_account_names=df_salesforce['Cleaned_Account_Name'])\n",
    "\n",
    "# Extract matched account names and scores\n",
    "df_steps['Fourth_Best_Match_Account_Name'] = matches.apply(lambda x: x[0] if x and x[1] >= 95 else None)\n",
    "df_steps['Fourth_Match_Score'] = matches.apply(lambda x: x[1] if x else None)\n",
    "\n",
    "# Filter rows with matches having at least 95% match score\n",
    "matched_rows = df_steps[df_steps['Fourth_Match_Score'] >= 95]\n",
    "\n",
    "# Display the DataFrame with matched names\n",
    "print(\"Steps DataFrame with best matches:\")\n",
    "print(df_steps[['Customer Name', 'Cleaned_Customer_Name', 'Fourth_Best_Match_Account_Name', 'Fourth_Match_Score']])"
   ]
  },
  {
   "cell_type": "code",
   "execution_count": 55,
   "metadata": {},
   "outputs": [
    {
     "ename": "KeyError",
     "evalue": "'Fourth_Match_Score'",
     "output_type": "error",
     "traceback": [
      "\u001b[1;31m---------------------------------------------------------------------------\u001b[0m",
      "\u001b[1;31mKeyError\u001b[0m                                  Traceback (most recent call last)",
      "File \u001b[1;32mc:\\Users\\Katha\\Rapid-Data-Fuzzy-Match-Exercise\\.venv\\Lib\\site-packages\\pandas\\core\\indexes\\base.py:3805\u001b[0m, in \u001b[0;36mIndex.get_loc\u001b[1;34m(self, key)\u001b[0m\n\u001b[0;32m   3804\u001b[0m \u001b[38;5;28;01mtry\u001b[39;00m:\n\u001b[1;32m-> 3805\u001b[0m     \u001b[38;5;28;01mreturn\u001b[39;00m \u001b[38;5;28;43mself\u001b[39;49m\u001b[38;5;241;43m.\u001b[39;49m\u001b[43m_engine\u001b[49m\u001b[38;5;241;43m.\u001b[39;49m\u001b[43mget_loc\u001b[49m\u001b[43m(\u001b[49m\u001b[43mcasted_key\u001b[49m\u001b[43m)\u001b[49m\n\u001b[0;32m   3806\u001b[0m \u001b[38;5;28;01mexcept\u001b[39;00m \u001b[38;5;167;01mKeyError\u001b[39;00m \u001b[38;5;28;01mas\u001b[39;00m err:\n",
      "File \u001b[1;32mindex.pyx:167\u001b[0m, in \u001b[0;36mpandas._libs.index.IndexEngine.get_loc\u001b[1;34m()\u001b[0m\n",
      "File \u001b[1;32mindex.pyx:196\u001b[0m, in \u001b[0;36mpandas._libs.index.IndexEngine.get_loc\u001b[1;34m()\u001b[0m\n",
      "File \u001b[1;32mpandas\\\\_libs\\\\hashtable_class_helper.pxi:7081\u001b[0m, in \u001b[0;36mpandas._libs.hashtable.PyObjectHashTable.get_item\u001b[1;34m()\u001b[0m\n",
      "File \u001b[1;32mpandas\\\\_libs\\\\hashtable_class_helper.pxi:7089\u001b[0m, in \u001b[0;36mpandas._libs.hashtable.PyObjectHashTable.get_item\u001b[1;34m()\u001b[0m\n",
      "\u001b[1;31mKeyError\u001b[0m: 'Fourth_Match_Score'",
      "\nThe above exception was the direct cause of the following exception:\n",
      "\u001b[1;31mKeyError\u001b[0m                                  Traceback (most recent call last)",
      "Cell \u001b[1;32mIn[55], line 1\u001b[0m\n\u001b[1;32m----> 1\u001b[0m match_score_mode \u001b[38;5;241m=\u001b[39m \u001b[43mdf_salesforce\u001b[49m\u001b[43m[\u001b[49m\u001b[38;5;124;43m'\u001b[39;49m\u001b[38;5;124;43mFourth_Match_Score\u001b[39;49m\u001b[38;5;124;43m'\u001b[39;49m\u001b[43m]\u001b[49m\u001b[38;5;241m.\u001b[39mmode()\n\u001b[0;32m      3\u001b[0m \u001b[38;5;28mprint\u001b[39m(\u001b[38;5;124m\"\u001b[39m\u001b[38;5;124mFourth_Match_Score:\u001b[39m\u001b[38;5;124m\"\u001b[39m)\n\u001b[0;32m      4\u001b[0m \u001b[38;5;28mprint\u001b[39m(match_score_mode)\n",
      "File \u001b[1;32mc:\\Users\\Katha\\Rapid-Data-Fuzzy-Match-Exercise\\.venv\\Lib\\site-packages\\pandas\\core\\frame.py:4102\u001b[0m, in \u001b[0;36mDataFrame.__getitem__\u001b[1;34m(self, key)\u001b[0m\n\u001b[0;32m   4100\u001b[0m \u001b[38;5;28;01mif\u001b[39;00m \u001b[38;5;28mself\u001b[39m\u001b[38;5;241m.\u001b[39mcolumns\u001b[38;5;241m.\u001b[39mnlevels \u001b[38;5;241m>\u001b[39m \u001b[38;5;241m1\u001b[39m:\n\u001b[0;32m   4101\u001b[0m     \u001b[38;5;28;01mreturn\u001b[39;00m \u001b[38;5;28mself\u001b[39m\u001b[38;5;241m.\u001b[39m_getitem_multilevel(key)\n\u001b[1;32m-> 4102\u001b[0m indexer \u001b[38;5;241m=\u001b[39m \u001b[38;5;28;43mself\u001b[39;49m\u001b[38;5;241;43m.\u001b[39;49m\u001b[43mcolumns\u001b[49m\u001b[38;5;241;43m.\u001b[39;49m\u001b[43mget_loc\u001b[49m\u001b[43m(\u001b[49m\u001b[43mkey\u001b[49m\u001b[43m)\u001b[49m\n\u001b[0;32m   4103\u001b[0m \u001b[38;5;28;01mif\u001b[39;00m is_integer(indexer):\n\u001b[0;32m   4104\u001b[0m     indexer \u001b[38;5;241m=\u001b[39m [indexer]\n",
      "File \u001b[1;32mc:\\Users\\Katha\\Rapid-Data-Fuzzy-Match-Exercise\\.venv\\Lib\\site-packages\\pandas\\core\\indexes\\base.py:3812\u001b[0m, in \u001b[0;36mIndex.get_loc\u001b[1;34m(self, key)\u001b[0m\n\u001b[0;32m   3807\u001b[0m     \u001b[38;5;28;01mif\u001b[39;00m \u001b[38;5;28misinstance\u001b[39m(casted_key, \u001b[38;5;28mslice\u001b[39m) \u001b[38;5;129;01mor\u001b[39;00m (\n\u001b[0;32m   3808\u001b[0m         \u001b[38;5;28misinstance\u001b[39m(casted_key, abc\u001b[38;5;241m.\u001b[39mIterable)\n\u001b[0;32m   3809\u001b[0m         \u001b[38;5;129;01mand\u001b[39;00m \u001b[38;5;28many\u001b[39m(\u001b[38;5;28misinstance\u001b[39m(x, \u001b[38;5;28mslice\u001b[39m) \u001b[38;5;28;01mfor\u001b[39;00m x \u001b[38;5;129;01min\u001b[39;00m casted_key)\n\u001b[0;32m   3810\u001b[0m     ):\n\u001b[0;32m   3811\u001b[0m         \u001b[38;5;28;01mraise\u001b[39;00m InvalidIndexError(key)\n\u001b[1;32m-> 3812\u001b[0m     \u001b[38;5;28;01mraise\u001b[39;00m \u001b[38;5;167;01mKeyError\u001b[39;00m(key) \u001b[38;5;28;01mfrom\u001b[39;00m \u001b[38;5;21;01merr\u001b[39;00m\n\u001b[0;32m   3813\u001b[0m \u001b[38;5;28;01mexcept\u001b[39;00m \u001b[38;5;167;01mTypeError\u001b[39;00m:\n\u001b[0;32m   3814\u001b[0m     \u001b[38;5;66;03m# If we have a listlike key, _check_indexing_error will raise\u001b[39;00m\n\u001b[0;32m   3815\u001b[0m     \u001b[38;5;66;03m#  InvalidIndexError. Otherwise we fall through and re-raise\u001b[39;00m\n\u001b[0;32m   3816\u001b[0m     \u001b[38;5;66;03m#  the TypeError.\u001b[39;00m\n\u001b[0;32m   3817\u001b[0m     \u001b[38;5;28mself\u001b[39m\u001b[38;5;241m.\u001b[39m_check_indexing_error(key)\n",
      "\u001b[1;31mKeyError\u001b[0m: 'Fourth_Match_Score'"
     ]
    }
   ],
   "source": [
    "match_score_mode = df_salesforce['Fourth_Match_Score'].mode()\n",
    "\n",
    "print(\"Fourth_Match_Score:\")\n",
    "print(match_score_mode)"
   ]
  },
  {
   "cell_type": "code",
   "execution_count": 52,
   "metadata": {},
   "outputs": [
    {
     "name": "stdout",
     "output_type": "stream",
     "text": [
      "DataFrame has been exported to C:\\Users\\Katha\\Documents\\Job application documents\\Data Analyst application\\Case Studies\\Rapid Data\\df_salesforce.xlsx\n"
     ]
    }
   ],
   "source": [
    "output_file = r'C:\\Users\\Katha\\Documents\\Job application documents\\Data Analyst application\\Case Studies\\Rapid Data\\df_salesforce.xlsx'\n",
    "\n",
    "# Export the DataFrame to an Excel file\n",
    "df_salesforce.to_excel(output_file, index=False, engine='openpyxl')\n",
    "\n",
    "print(f\"DataFrame has been exported to {output_file}\")"
   ]
  }
 ],
 "metadata": {
  "kernelspec": {
   "display_name": ".venv",
   "language": "python",
   "name": "python3"
  },
  "language_info": {
   "codemirror_mode": {
    "name": "ipython",
    "version": 3
   },
   "file_extension": ".py",
   "mimetype": "text/x-python",
   "name": "python",
   "nbconvert_exporter": "python",
   "pygments_lexer": "ipython3",
   "version": "3.11.5"
  }
 },
 "nbformat": 4,
 "nbformat_minor": 2
}
