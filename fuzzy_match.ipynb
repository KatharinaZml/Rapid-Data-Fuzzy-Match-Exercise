{
 "cells": [
  {
   "cell_type": "markdown",
   "metadata": {},
   "source": [
    "# Kunden Match <a class=\"anchor\" id=\"chapter1\"></a>"
   ]
  },
  {
   "cell_type": "code",
   "execution_count": 1,
   "metadata": {},
   "outputs": [],
   "source": [
    "import re\n",
    "import pandas as pd\n",
    "\n",
    "from fuzzywuzzy import fuzz\n",
    "from fuzzywuzzy import process"
   ]
  },
  {
   "cell_type": "markdown",
   "metadata": {},
   "source": [
    "#### 0.) b.) Loading datasets <a class=\"anchor\" id=\"section_3_1\"></a>"
   ]
  },
  {
   "cell_type": "code",
   "execution_count": 2,
   "metadata": {},
   "outputs": [],
   "source": [
    "file_path = 'Fuzzy Match.xlsx'\n",
    "\n",
    "#Salesforce Sheet\n",
    "df_salesforce = pd.read_excel(file_path, sheet_name = 'Salesforce')\n",
    "#Steps Sheet\n",
    "df_steps = pd.read_excel(file_path, sheet_name = 'Steps')\n",
    "#df_steps.head()\n",
    "#df_salesforce.head()\n"
   ]
  },
  {
   "cell_type": "markdown",
   "metadata": {},
   "source": [
    "##check this at the end when putting in the IDs"
   ]
  },
  {
   "cell_type": "code",
   "execution_count": 3,
   "metadata": {},
   "outputs": [
    {
     "name": "stdout",
     "output_type": "stream",
     "text": [
      "Difference in entries: 2124\n",
      "Percentage difference: 47.53%\n"
     ]
    }
   ],
   "source": [
    "# Number of entries in each DataFrame\n",
    "\n",
    "#coutnumer of rows\n",
    "entries_steps = 6593\n",
    "entries_salesforce = 4469\n",
    "\n",
    "# Calculate the difference in entries. \n",
    "difference = entries_steps - entries_salesforce\n",
    "percentage_difference = (difference / entries_salesforce) * 100\n",
    "print(f\"Difference in entries: {difference}\")\n",
    "print(f\"Percentage difference: {percentage_difference:.2f}%\")"
   ]
  },
  {
   "cell_type": "markdown",
   "metadata": {},
   "source": [
    "### 1.) Data manipulation for analysis<a class=\"anchor\" id=\"section_3_1\"></a>"
   ]
  },
  {
   "cell_type": "markdown",
   "metadata": {},
   "source": [
    "### 1.) a.) Creating a concatenated \"address\" column for Steps<a class=\"anchor\" id=\"section_3_1\"></a>"
   ]
  },
  {
   "cell_type": "code",
   "execution_count": 4,
   "metadata": {},
   "outputs": [],
   "source": [
    "# Check the data type of the 'Zip Code' column\n",
    "zip_code_dtype = df_steps['Zip Code'].dtype\n",
    "#'Zip Code'is a float that cannot be matched. For the string matching it will be transformed into a string\n",
    "\n",
    "# Convert 'Zip Code', 'Street' and 'City' column in df_steps to string\n",
    "df_steps['Zip Code'] = df_steps['Zip Code'].astype(str)\n",
    "df_steps['Street'] = df_steps['Street'].astype(str)\n",
    "df_steps['City'] = df_steps['City'].astype(str)"
   ]
  },
  {
   "cell_type": "markdown",
   "metadata": {},
   "source": [
    "Creating a new column \"Address\" for both Salesforce and Steps\n",
    "Create a concatenated address column to prepare the fuzzy string match. Therefore, the three columns Street, Zip Code, and City are concatenated in the new column 'Address'. Spaces are ignored - In this analysis, they don't add value"
   ]
  },
  {
   "cell_type": "code",
   "execution_count": 5,
   "metadata": {},
   "outputs": [
    {
     "data": {
      "text/plain": [
       "0                                       nannannan\n",
       "1              Vredener Straße 4148703.0Stadtlohn\n",
       "2        Kirchnerstraße 460311.0Frankfurt am Main\n",
       "3               Stuttgarter Straße 2668782.0Brühl\n",
       "4                   Eilbeker Weg 1622089.0Hamburg\n",
       "                          ...                    \n",
       "6588    Mannheimer Straße 22955543.0Bad Kreuznach\n",
       "6589                   Lindenstr. 3917389.0Anklam\n",
       "6590                      Worthweg 529693.0Ahlden\n",
       "6591          Donnerburgweg 4038106.0Braunschweig\n",
       "6592                    Liebenau 364252.0Liebenau\n",
       "Name: Steps_Address, Length: 6593, dtype: object"
      ]
     },
     "execution_count": 5,
     "metadata": {},
     "output_type": "execute_result"
    }
   ],
   "source": [
    "df_steps['Steps_Address'] = df_steps['Street'] + df_steps['Zip Code'] + df_steps['City']\n",
    "# df_steps['Steps_Address'].head()"
   ]
  },
  {
   "cell_type": "markdown",
   "metadata": {},
   "source": [
    "### 1.) b.) Creating a concatenated \"address\" column for Salesforce<a class=\"anchor\" id=\"section_3_1\"></a>"
   ]
  },
  {
   "cell_type": "code",
   "execution_count": 6,
   "metadata": {},
   "outputs": [],
   "source": [
    "#'Billing ZIP'is a float that cannot be matched. For the string matching it will be transformed into a string\n",
    "df_salesforce['Billing Street'] = df_salesforce['Billing Street'].astype(str)\n",
    "df_salesforce['Street Number'] = df_salesforce['Street Number'].astype(str)\n",
    "df_salesforce['Billing ZIP'] = df_salesforce['Billing ZIP'].astype(str)\n",
    "df_salesforce['Billing City'] = df_salesforce['Billing City'].astype(str)"
   ]
  },
  {
   "cell_type": "code",
   "execution_count": 7,
   "metadata": {},
   "outputs": [],
   "source": [
    "df_salesforce['Salesforce_Address'] = df_salesforce['Billing Street'] + df_salesforce['Street Number'] + df_salesforce['Billing ZIP'] + df_salesforce['Billing City'] \n",
    "#df_salesforce['Salesforce_Address'].head()"
   ]
  },
  {
   "cell_type": "markdown",
   "metadata": {},
   "source": [
    "### 1.) c.) Separating filled Steps ID<a class=\"anchor\" id=\"section_3_1\"></a>"
   ]
  },
  {
   "cell_type": "markdown",
   "metadata": {},
   "source": [
    "-> Check how many Salesforce IDs are assigned a Steps ID. \n",
    "\n",
    "(1) This is relevant to exclude the IDs that were filled. \"Einige wenige Kunden wurden bereits zwischen den Systemen gematcht, d.h. einer Salesforce-ID wurde eine Steps-ID zugewiesen.\"\n",
    "(2) Fuzzywuzzy library expects non-null string inputs. Keeping in mind, if a null value is encountered, it could lead to errors.\n"
   ]
  },
  {
   "cell_type": "code",
   "execution_count": 8,
   "metadata": {},
   "outputs": [
    {
     "name": "stdout",
     "output_type": "stream",
     "text": [
      "1067\n",
      "0\n"
     ]
    }
   ],
   "source": [
    "#Which Step IDs aren't filled?\n",
    "null_StepsID = df_salesforce['Steps ID'][df_salesforce['Steps ID'].isna()]\n",
    "\n",
    "# To separate them for the string match, save the filled and non-filled ones as a new columns\n",
    "df_salesforce['Filled_StepsID'] = df_salesforce['Steps ID'].where(df_salesforce['Steps ID'].notna())\n",
    "df_salesforce['Manual_StepsID'] = df_salesforce['Steps ID'].where(df_salesforce['Steps ID'].isna())\n",
    "\n",
    "# Validate the if the separation worked\n",
    "print(df_salesforce['Filled_StepsID'].count()) #1067 Step IDs are already matched\n",
    "print(df_salesforce['Manual_StepsID'].count())"
   ]
  },
  {
   "cell_type": "markdown",
   "metadata": {},
   "source": [
    "Match these back when completed the analysis"
   ]
  },
  {
   "cell_type": "markdown",
   "metadata": {},
   "source": [
    "Finding the best match for each Salesforce address in Steps DataFrame"
   ]
  },
  {
   "cell_type": "markdown",
   "metadata": {},
   "source": [
    "Snippet 1: Issue with this code: Figured there are missing and non-string (e.g. ZIP code) values. Elements used to create both Salesforce_Address or Steps_Address have non-string values and contain NaN values. There was a TypeError as process.extractOne() expected a strings or byte-like object."
   ]
  },
  {
   "cell_type": "markdown",
   "metadata": {},
   "source": [
    "### 2.) Fuzzy String Match<a class=\"anchor\" id=\"section_3_1\"></a>"
   ]
  },
  {
   "cell_type": "markdown",
   "metadata": {},
   "source": [
    "### 2.) a.) Matching Salesforce and Steps concatenated addresses<a class=\"anchor\" id=\"section_3_1\"></a>"
   ]
  },
  {
   "cell_type": "code",
   "execution_count": 9,
   "metadata": {},
   "outputs": [],
   "source": [
    "def find_best_match(salesforce_address, steps_address):\n",
    "    best_match = process.extractOne(salesforce_address, steps_address, scorer=fuzz.token_sort_ratio)\n",
    "    return best_match\n",
    "\n",
    "# Apply the function to find matches\n",
    "matches = df_salesforce['Salesforce_Address'].apply(find_best_match, steps_address = df_steps['Steps_Address'])\n",
    "\n",
    "# Extract matched addresses and scores\n",
    "df_salesforce['First_Best_Match_Address'] = matches.apply(lambda x: x[0] if x and x[1] >= 95 else None)\n",
    "df_salesforce['First_Match_Score'] = matches.apply(lambda x: x[1] if x else None)"
   ]
  },
  {
   "cell_type": "markdown",
   "metadata": {},
   "source": [
    "Best Match Address column df_salesforce DataFrame is empty. \n",
    "This indicates there weren't matches with a score of 95% or higher."
   ]
  },
  {
   "cell_type": "markdown",
   "metadata": {},
   "source": [
    "Mode for the first match"
   ]
  },
  {
   "cell_type": "code",
   "execution_count": 10,
   "metadata": {},
   "outputs": [
    {
     "name": "stdout",
     "output_type": "stream",
     "text": [
      "Mode of Match Scores: 0    51\n",
      "Name: First_Match_Score, dtype: int64\n"
     ]
    }
   ],
   "source": [
    "first_match_score_mode = df_salesforce['First_Match_Score'].mode()\n",
    "print(f\"Mode of Match Scores: {first_match_score_mode}\")\n",
    "#first_frequency_table = df_salesforce['First_Match_Score'].value_counts().sort_index()\n",
    "\n",
    "# Display the frequency table\n",
    "#print(\"Frequency table of Match Scores:\")\n",
    "#print(first_frequency_table)"
   ]
  },
  {
   "cell_type": "markdown",
   "metadata": {},
   "source": [
    "### 2.) b.) Excluding special characters<a class=\"anchor\" id=\"section_3_1\"></a>"
   ]
  },
  {
   "cell_type": "code",
   "execution_count": 11,
   "metadata": {},
   "outputs": [],
   "source": [
    "# Remove special characters using RegEx to the 'Street' column in both df\n",
    "df_steps['Steps_Address'] = df_steps['Steps_Address'].str.replace(r'[ \\-./]', '', regex = True)\n",
    "df_salesforce['Salesforce_Address'] = df_salesforce['Salesforce_Address'].str.replace(r'[ \\-./]', '', regex = True)\n",
    "\n",
    "# Display the DataFrame\n",
    "#print(df_steps['Steps_Address'])\n",
    "#print(df_salesforce['Salesforce_Address'])"
   ]
  },
  {
   "cell_type": "markdown",
   "metadata": {},
   "source": [
    "2: Apply the Matching Function to Find Matches"
   ]
  },
  {
   "cell_type": "code",
   "execution_count": 12,
   "metadata": {},
   "outputs": [],
   "source": [
    "# Apply the function to find matches\n",
    "matches = df_salesforce['Salesforce_Address'].apply(find_best_match, steps_address = df_steps['Steps_Address'])\n",
    "\n",
    "# Extract matched addresses and scores\n",
    "df_salesforce['Second_Best_Match_Address'] = matches.apply(lambda x: x[0] if x and x[1] >= 95 else None)\n",
    "df_salesforce['Second_Match_Score'] = matches.apply(lambda x: x[1] if x else None)\n"
   ]
  },
  {
   "cell_type": "markdown",
   "metadata": {},
   "source": [
    "Removing the additional strings (\"str\", \"straße\", \"strasse\") from the addresses in both DataFrames and then applying the matching function."
   ]
  },
  {
   "cell_type": "code",
   "execution_count": 14,
   "metadata": {},
   "outputs": [],
   "source": [
    "# Removing the additional strings (\"str\", \"straße\", \"strasse\") from the addresses using Regex\n",
    "names_to_remove = ['straße', 'str', 'strasse']\n",
    "pattern = '|'.join(names_to_remove)\n",
    "\n",
    "# Using Regex to remove names from columns\n",
    "df_salesforce['Salesforce_Address'] = df_salesforce['Salesforce_Address'].str.replace(pattern, '', case=False, regex=True)\n",
    "df_steps['Steps_Address'] = df_steps['Steps_Address'].str.replace(pattern, '', case=False, regex=True)"
   ]
  },
  {
   "cell_type": "code",
   "execution_count": 15,
   "metadata": {},
   "outputs": [],
   "source": [
    "# Apply the function to find matches\n",
    "matches = df_salesforce['Salesforce_Address'].apply(find_best_match, steps_address = df_steps['Steps_Address'])\n",
    "\n",
    "# Extract matched addresses and scores\n",
    "df_salesforce['Third_Best_Match_Address'] = matches.apply(lambda x: x[0] if x and x[1] >= 95 else None)\n",
    "df_salesforce['Third_Match_Score'] = matches.apply(lambda x: x[1] if x else None)\n"
   ]
  },
  {
   "cell_type": "markdown",
   "metadata": {},
   "source": [
    "Account Name (Salesforce) / Customer Name (Steps)\n",
    "-> clean the addresses by removing specified characters and substrings from the columns \"Account Name\" in df_salesforce and \"Customer Name\" in df_steps"
   ]
  },
  {
   "cell_type": "markdown",
   "metadata": {},
   "source": [
    "Apply the Function to Clean the Columns"
   ]
  },
  {
   "cell_type": "code",
   "execution_count": 17,
   "metadata": {},
   "outputs": [],
   "source": [
    "# Regex pattern for the special characters to remove\n",
    "pattern = r\"[ \\-\\.\\&\\?\\*\\«\\»\\/\\+\\·\\(\\)\\s®©!:,]\"\n",
    "\n",
    "# Remove the characters from 'Account Name' column in df_salesforce\n",
    "df_salesforce['Cleaned_Account Name'] = df_salesforce['Account Name'].str.replace(pattern, '', regex=True)\n",
    "#print(df_salesforce['Cleaned_Account Name'])\n",
    "\n",
    "# Remove the characters from 'Customer Name' column in df_steps\n",
    "df_steps['Cleaned_Customer Name'] = df_steps['Customer Name'].str.replace(pattern, '', regex=True)\n",
    "#print(df_steps['Cleaned_Customer Name'])"
   ]
  },
  {
   "cell_type": "markdown",
   "metadata": {},
   "source": [
    "Concatenate addresses with Account Name and Customer Name"
   ]
  },
  {
   "cell_type": "code",
   "execution_count": 18,
   "metadata": {},
   "outputs": [],
   "source": [
    "# Concatenate 'Cleaned_Account Name' with 'Salesforce_Address'\n",
    "df_salesforce['Salesforce_Address'] = df_salesforce['Cleaned_Account Name'] + df_salesforce['Salesforce_Address']\n",
    "#print(df_salesforce['Salesforce_Address'].head(10))\n",
    "# Concatenate 'Cleaned_Customer Name' with 'Steps_Address'\n",
    "df_steps['Steps_Address'] = df_steps['Cleaned_Customer Name'] + df_steps['Steps_Address']\n",
    "#print(df_steps['Steps_Address'].head())"
   ]
  },
  {
   "cell_type": "code",
   "execution_count": 19,
   "metadata": {},
   "outputs": [],
   "source": [
    "# Apply the function to find matches\n",
    "matches = df_salesforce['Salesforce_Address'].apply(find_best_match, steps_address = df_steps['Steps_Address'])\n",
    "\n",
    "# Extract matched addresses and scores\n",
    "df_salesforce['Fourth_Best_Match_Address'] = matches.apply(lambda x: x[0] if x and x[1] >= 95 else None)\n",
    "df_salesforce['Fourth_Match_Score'] = matches.apply(lambda x: x[1] if x else None)\n"
   ]
  },
  {
   "cell_type": "markdown",
   "metadata": {},
   "source": [
    "Removing legal forms and special characters from Account Name and Customer Name"
   ]
  },
  {
   "cell_type": "code",
   "execution_count": 21,
   "metadata": {},
   "outputs": [],
   "source": [
    "legal_forms = [\n",
    "    \"kg\", \"e. k.\", \"e.K.\", \"gmbh\", \"GmbH \\+ Co\\. KG\", \"GmbH & Co\\. KG\",\n",
    "    \"e.Kfr\\.\", \"e\\.V\\.\", \"AG\", \"ohg\", \"UG\", \"haftungsbeschränkt\",\n",
    "    \"KG\", \"SE\", \"GbR\", \"GmbH&Co\\.KG\", \"e\\.U\\.\", \"a\\.G\\.\", \"a\\. G\\.\", \n",
    "    \"m\\.b\\.H\\.\", \"Inc\\.\", \"B\\.V\\.\"\n",
    "]\n",
    "\n",
    "# Combine legal forms into a regex pattern\n",
    "legal_forms_pattern = r\"\\b(?:{})\\b\".format('|'.join(re.escape(form) for form in legal_forms))\n",
    "\n",
    "# Function to clean text by removing legal forms\n",
    "def clean_text(text, pattern):\n",
    "    if pd.isna(text):\n",
    "        return text\n",
    "    text = re.sub(pattern, '', text, flags=re.IGNORECASE)\n",
    "    return text.strip()\n",
    "\n",
    "# Clean 'Salesforce_Address' in df_salesforce\n",
    "df_salesforce['Cleaned_Salesforce_Address'] = df_salesforce['Salesforce_Address'].apply(clean_text, args=(legal_forms_pattern,))\n",
    "\n",
    "# Clean 'Steps_Address' in df_steps\n",
    "df_steps['Cleaned_Steps_Address'] = df_steps['Steps_Address'].apply(clean_text, args=(legal_forms_pattern,))"
   ]
  },
  {
   "cell_type": "code",
   "execution_count": 22,
   "metadata": {},
   "outputs": [],
   "source": [
    "# Apply the function to find matches\n",
    "matches = df_salesforce['Salesforce_Address'].apply(find_best_match, steps_address = df_steps['Steps_Address'])\n",
    "\n",
    "# Extract matched addresses and scores\n",
    "df_salesforce['Fifth_Best_Match_Address'] = matches.apply(lambda x: x[0] if x and x[1] >= 95 else None)\n",
    "df_salesforce['Fifth_Match_Score'] = matches.apply(lambda x: x[1] if x else None)\n"
   ]
  },
  {
   "cell_type": "markdown",
   "metadata": {},
   "source": [
    "Mapping "
   ]
  },
  {
   "cell_type": "code",
   "execution_count": 43,
   "metadata": {},
   "outputs": [
    {
     "name": "stdout",
     "output_type": "stream",
     "text": [
      "{'BestattungenGredlerGmbHStorchen151882990Leutkirch': 329984, 'ToussaintBestattungenAltePfarrgasse17664400Blieskastel': 329358, None: 330790, 'BestattungshausFischerJäger36b445320Lünen': 330033, 'BestattungBergerHanrieder242100Gallneukirchen': 329306, 'BestattungsinstitutFinkGmbHFranken14651830Wiesbaden': 329063, 'BestattungsInstitutAlpenLinden9255240Itzehoe': 329176, 'SeltenreichBestattungenKonradAdenauer28511490Köln': 502487, 'KarlBeltermannBestattungenWerstenerDorf53405910Düsseldorf': 501541, 'HäfnerZüfleBestattungenBreitscheid44701760Stuttgart': 327637, 'BestattungenScheweStein6331810Fürstenberg': 330264, 'DörflerBestattungenGmbHErnstSachs2732070Plochingen': 330307, 'BestattungenKlausHakerPost11181840Broderstorf': 330826, 'BestattungshausKallwaßProhner32184350alsund': 325519, 'BrobeilBestattungenGmbHNeuerWeg30724580Albstadt': 327017, 'BestattungsinstitutMöckernBahnhof6392910Möckern': 329672, 'BestattungenWadenpohleKItter38405890Düsseldorf': 325727, 'SchleicherBestattungenCarlZeiss15895470Gerstetten': 330019, 'AsgardBestattungshausRostockempelasse910180570Rostock': 329154, 'BestattungenHimmelreichSanktJohann17910560Erlangen': 330593, 'BestattungshausDippelAlbertSchweitzer19a352600Stadtallendorf': 330989, 'BestattungenStanglGmbHAmtsgericht5942090Regen': 501647, 'BestattungenJürgenWickMüncherlbach38915600Heilsbronn': 326238, 'HornungBestattungenGmbHDrGengler4973320Volkach': 502401, 'GloßmannBestattungenOHGTileBrüggeWeg1517135090Berlin': 327420, 'BestattungsinstitutRummelFischbacherHaupt185904750Nürnberg': 325955, 'BestattungenWeilandHaupt12293280Faßberg': 326024, 'BestattungsinstitutParringerGmbHLateinschulgasse13944690Deggendorf': 330625, 'PietätStUrsulaJosefKunzeKAndendreiHasen6A614400Oberursel': 329249, 'BestattungenSchwabFranken911611910RosbachvdHöhe': 325768, 'KümmelBestattungenTurn19353960Gießen': 329796, 'BestattungenPaulHornElstern8422810Wuppertal': 326306, 'BestattungsinstitutBayerHohenstaufen14877000Memmingen': 325858, 'BestattungsinstitutderStadtKarlsruheHaidundNeu3539761310Karlsruhe': 330560, 'BestattungenFriedrichNeuhausRatherKreuzweg90404720Düsseldorf': 327872, 'BestattungenWegenerSchwanen20424890Wülfrath': 326595, 'BestattungenPuhlAufderHütte1515970Morsbach': 325565, 'KuhrauBestattungenLaudenbacherTor37646460Heppenheim': 325783, 'KöppelBestattungenFranzPhilipp5764370Rastatt': 329330, 'TrauerhausKrämerNeueBerg14840360Landshut': 329331, 'BestattungenDeckElsenzer13767030Kraichtal': 329804, 'DeutscheBestattungsvorsorgeTreuhandAGCecilienallee5402210Düsseldorf': 325723, 'BestattungenamWildparkAmWildpark5644090Messel': 327632, 'WehrmannBestattungenGarten1a316750Bückeburg': 329859, 'ReithBestattungenInduie11274460Selsingen': 330024, 'SabineEllersterbenlebenThüringer9642970Darmstadt': 326428, 'BestattungshausSchlosserJohannSebastianBach3685190Viernheim': 330759, 'HamburgerBestattungsinsitutFuhlbüttler775223370Hamburg': 327289, 'AvalonBestattungenMoltke19663330Völklingen': 330379, 'MächerleBestattungenGmbHDammasse16767440WörthamRhein': 326439, 'HorizontBestattungenBremer20273270Schwarme': 327656, 'BestattungsinstitutPetermannJohannesFlintrop2408220Mettmann': 329692, 'BestattungsanstaltSelbGmbHTschirnhausweg6951000Selb': 325712, 'KommunalesBestattungshausChemnitzTheodorKörnerPlatz1291300Chemnitz': 501309, 'BartschundPfeifferBestattungenGmbHForster1531590NeißeMalxetalOTGroßKölzig': 325528, 'BestattungenGregorAlemannenweg1685260Ladenburg': 325508, 'LagesBestattungeneKBonenburger8344140Warburg': 500422, 'BestattungenPapkeWörth10970820Würzburg': 502835, 'BestattungenGerhardSpitzerHochfeld27471980Duisburg': 325512, 'LabahnBestattungenScharnweber65134050Berlin': 330649, 'GreweBestattungenGbRWiegmannsort8323510Stemwede': 327255, 'Bestattungshaus\"Friede\"DUCHENEGmbHVölklinger3335663330Völklingen': 325502, 'BestattungshausEbkeBünder72322890Rödinghausen': 325510, 'PietätSchäferBahnhof7652320TaunussteinHahn': 327239, 'BestattungshausZeitlosHerfordRadewiger2022320520Herford': 329585, 'BestattungshausHornGmbHHoholz3436532290Bonn': 329789, 'BestattungenOhleseKBahn4143538940Mechernich': 330551, 'BestattungshausBaumgartePeistrupEduardPestel3490800Osnabrück': 329061, 'SchäferRothBestattungenHaup17713940KernenimRemstal': 328562, 'BönselBestattungenWertingenGmbHCoKGZusmarshauser20866370Wertingen': 327076, 'BestattungsinstitutSchäferBethel35651990Wiesbaden': 325760, 'BestattungsinstitutSchollmannImSchlenk14470550Duisburg': 330168, 'BestattungshausJörgStiegerSteintor35391710Langenweddingen': 326179, 'BestattungenStadtfeldWagnerWald1567690Mannebach': 330783, 'BestattungshausMöseGmbHErnstThälmann23153060Falkenhagen': 501025, 'BestattungsdienstStefanWerzFriedrichMünzinger3725550Metzingen': 329320, 'BestattungshausIllgenThiele1447200Döbeln': 502300, 'BabstBestattungshausUGCoKGOesterley14301710Hannover': 330104, 'BestattungenLenartzeKKupfergasse12511450Köln': 500224, 'BestattungsdienstHempelmannBielefelderWeg3321200Hiddenhausen': 330779, 'HansMastBestattungsInstituteKFriedhof16669530Pirmasens': 325866, 'BestattungenAxelSchmitzGmbHMühlen231a474750KampLintfort': 326683, 'BestattungshausKracheletzGmbHObereKarls17341170Kassel': 326108, 'BeerdigungsinstitutZerhusenGmbHBramlage2493930Lohne': 330048, 'KlingeleBestattungeneKRoggenbach10796500Schopfheim': 327214, 'PfisterBestattungenTrauerbegleitungMarkt49768310Billigheim': 327320, 'BestattungsinstitutBorstelmannGmbHAchimer30288760Oyten': 502870, 'AlscherBestattungenGmbHCuxhavener307211490Hamburg': 500502, 'BestattungsinstitutWeineckerGörschGmbHWaisenhaus111364060Bernburg': 327692, 'BestattungenJessicaFranzkeeKFindorff14277260Worpswede': 330397, 'VerdeBestattungenIrmiPösleKBischofsheimer17654280Rüsselsheim': 329755, 'BestattungenNottebaumSchütteWasser25448030Bochum': 502704, 'BestattungshausMärzeKAltegasse55552180Ingelheim': 501086, 'BestattungsunternehmenKleinoHGGraslitzer23a825380Geretsried': 329033, 'GrünlandBestattungenGbRNeustädterPassage861220Halle': 327699, 'BestattungenJülkeMühlen2182730Güow': 327647, 'BestattungshausBensGmbHSarver48269540Nordenham': 327808, 'KönisserBestattungenOHGBrauerei10a479180Tönisvorst': 502281, 'BeerdigungsinstitutRennersGmbHDammer123410660Mönchengladbach': 329354, 'AlexanderBestattungenEdendorfer111a255240Itzehoe': 327681, 'GebhardtBestattungenGmbHFinkenweg4742430Langenbrettach': 329329, 'BestattungsinstitutJohannesHeggenFürstBismarck5471190Duisburg': 502603, 'BestattungenFrankenwaldMarktplatz4951520Selbitz': 327460, 'BestattungenBrandWiesen44517020Bergneustadt': 500574, 'JungeBestattungenGmbHPfarrgasse2712820Hemmingen': 327776, 'BerndHenschelBestattungenImRehwinkel14308270GarbsenBerenbostel': 502321, 'StelljesArmbrustBestattungenLange17277110OsterholzScharmbeck': 500465, 'AtlasBestattungenCoburgGlockenberg18964500Coburg': 326427, 'KlindertBestattungenSudeten32636950Glauburg': 326375, 'BestattungenZerfeKWormserLand23673460Speyer': 500065, 'BestattungshausGieslerErnsdorf1012572230Kreuztal': 325686, 'SchweikertMeyerBestattungenGmbHCoKGHauptasse56647110Erbach': 328317, 'BestattungenMeyerGmbHSteinbruch2384580Velpke': 326136, 'HaasBestattungenNieder77542930Trier': 326274, 'BestattungsinstitutHellmannHeinrichEhrhardt14985440ZellaMehlis': 330017, 'BestattungenSchlingmannIburger20c491960BadLaer': 501258, 'BestattungshausKirchhofMertenAltstadt19445340Lünen': 328479, 'KreuerBestattungenGmbHWalder6407240Hilden': 502349, 'BestattungshausGlenzerBahnhof44599390Olsberg': 325721, 'BestattungenUlrichHeymannOberwichterich58538810Euskirchen': 502855, 'BestattungshausAlbertStahlUnnaer21587060Menden': 328749, 'BestattungshausPaulAdolfKniepsAltenbau18534740BadNeuenahrAhrweiler': 502157, 'FerdinandBlatzheimBestattungenGmbHAachener352509330Köln': 327474, 'BestattungshausKohlmeyerBahnhof47295740Ebstorf': 328031, 'BestattungsinstitutRaufferGmbHAlbertSchweitzer15837140Miesbach': 326163, 'BestattungenHaneklausSand3497400Haselünne': 327568, 'BestattungenSandhoweKösener7141990Berlin': 326117, 'BestattungsinstitutSchmidtObergasse1014342860Spangenberg': 326003, 'BestattungshausDresdenOstSchlüter4812770Dresden': 328143, 'BestattungenRauGroßbottwarer23717200Oberstenfeld': 326284, 'BestattungshausSievernichGmbHPfarrerAlef14a523910Vettweiß': 500150, 'BestattungshausWedelBrabeck163305390Hannover': 327333, 'ErstesSchorndorferBestattungsinstitutStockerGmünder14736140Schorndorf': 327901, 'BestattungenSchirmGmbHSchul5599290Brilon': 328227, 'BestattungsinstitutAndreasScholvenHaupt69524990Baesweiler': 330358, 'BrüsewitzWegenerBestattungeneKPodbielski380306590Hannover': 325998, 'BestattungshausTröschGmbHImSangenbruch23544110Hermeskeil': 501664, 'HorizontBestattungenBahnhof641713320Waiblingen': 326572, 'BestattungenUrmetzerGmbHRöhnsgasse1560700Koblenz': 327322, 'MichelsBestattungshausBreite9333780RhedaWiedenbrück': 502907, 'PietätImPrüflingeKImPrüfling27603890FrankfurtamMain': 502729, 'MerzundWegenerGmbHHindenburg34327600Detmold': 328445, 'BestattungshausWirzHaupt116536390Königswinter': 500035, 'BestattungshausGeigerMoltke27776540Offenburg': 326573, 'BestattungsinstitutEdelgardeVogtSchustehrus17105850Berlin': 328798, 'BestattungenDunkerGmbHZwickauer12542790Leipzig': 328900, 'AlgieBestattungenSchützenweg8217450Hemmoor': 328282, 'BestattungshausBeckerGmbHDrachenburg8183531790Bonn': 328548, 'FischerJostBestattungenImGrohenstück13653960Walluf': 500160, 'BestattungenLütfringKathageeKSiekenhof1b463950Bocholt': 501155, 'BestattungenWiethoffGmbHWinterberger31573680Lennestadt': 327856, 'BestattungenTanjaWarningKirchplatz16464590Rees': 328942, 'BestattungshausAbendfriedenMerseburgerLand3262460BadLauchstädt': 327689, 'SólorBestattungenGbROlvenstedter61391080Magdeburg': 502433, 'BegemannSteinBestattungenGmbHCoKGValdorfer44326020Vlotho': 328024, 'EversGeppBestattungenDodo18481450Münster': 327306, 'KellnerBestattungenRühler17376190Bodenwerder': 326269, 'BestattungshausBerkhoffGmbHKunigunder9A387040Liebenburg': 501757, 'BestattungenPombergFuisting6486830Ahaus': 328763, 'BestattungsinstitutBöckGmbHImWiesengrund3342530Lohfelden': 326009, 'RugeBestattungenGmbHRahlstedter23221490Hamburg': 330114, 'CarlCisséeBestattungenFallersleber1415381000Braunschweig': 328898, 'BestattungenHelmutWarnseKMühlen13262150Wiefelstede': 502531, 'BestattungshausPeterBertramGmbHAdolfs1214513730Leverkusen': 326534, 'NußbaumBestattungenGmbHEich24429290Wermelskirchen': 330510, 'BestattungenPaulGmbHRingelsmorgen5575770Hamm': 500141, 'HadelerBestattungenGmbHCoKGKrüsel2125275800Bremerhaven': 330289, 'BestattungshausReinkeGmbHCoKGHeem11A277930Wildeshausen': 501930, 'BestattungsunternehmenMartinStockerLange69791830Waldkirch': 330511, 'BestattungenUdoGörresAuel11545890Stadtkyll': 325826, 'BestattungshausAssenkampKreis17593790Selm': 326359, 'BestattungenAlfredRothLudwig8428530Remscheid': 329016, 'JSchülerBestattungswesenGmbHMaxBrauerAllee150227650Hamburg': 325894, 'PietätMayerimGallusGmbHMainzerLand260603260FrankfurtamMain': 330110, 'BestattungsinstitutHeinrichJohFlachNeben1363550Grebenhain': 327216, 'BestattungsinstitutFritzFreyeKRing46722500Freudenstadt': 501559, 'BestattungenMartinaKlotzAufdemAltenBerg1357960Weinbach': 325596, 'BestattungenHartmannGrothues11483510Everswinkel': 329717, 'BestattungshausWeisweilerKlantBurg1315537570SanktAugustin': 330299, 'BestattungenSchaffrathAnFürthenrode48525110Geilenkirchen': 329625, 'BestattungLudwigGeorgSchumann32341590Leipzig': 330753, 'BestattungsinstitutHartmutSchmidtKastanienweg19213850Amelinghausen': 329240, 'BestattungCMüllerPradler2960200Innsbruck': 329173, 'BestattungsdiensteJohannesMannGmbHVerbindungs194810Scheibenberg': 330126, 'AnteaBestattungenChemnitzGmbHWartburg3091260Chemnitz': 502474, 'BestattungshausTrauerhilfeBHTGmbHTaubengasse6429290Wermelskirchen': 501427, 'BestattungenErkenGmbHAachener1285508590Köln': 330186, 'BestattungenSchwarzGmbHSchmiedhofsweg2507690Köln': 327276, 'BestattungenLoscheldersStHuberter101479060Kempen': 329596, 'BestattungsinstitutMüßleErbprinzen9793670Weisweil': 325965, 'BestattungenRuhlLinden40363410Lauterbach': 500893, 'BestattungsinstitutJensMüllerHoymer8a64690Nachterstedt': 500801, 'BestattungshausMGommlichReinbotheLindauer24392610Zerbst': 501821, 'AdolfFritzBestattungeneKKölner123426510Solingen': 325905, 'DüllBestattungeneKHeidelberger21692560Mauer': 325695, 'BestattungshausKoziolVürfelserKaule53514270BergischGladbach': 501806, 'BestattungenGimballeKTornescherWeg33254360Uetersen': 329499, 'BeutlerBestattungenGmbHCoKGDorfring2630242350Stein': 329171, 'BestattungsinstitutGehrleinGmbHNeustadter152673600Lingenfeld': 500980, 'BestattungsinstitutKrausGmbHWiesbadener1719651990Wiesbaden': 501778, 'BestattungsunternehmenDieterPrusnatOHGAmBruckwald28791830Waldkirch': 502389, 'FranzWieschhoffBeerdigungsinstituteKOnkelTom10141690Berlin': 326091, 'WickeBestattungenLärchenweg4342250Baunatal': 330277, 'BeerdigungsinstitutGöttgensSpangenbergerGmbHAltHaarener52520800Aachen': 500955, 'BestattungshausBovensmannKGRathaus26582390Schwerte': 326674, 'BestattungenWinterEhinger24884710Laupheim': 326164, 'BestattungsinstitutGerkeBrink25494060Barnstorf': 327146, 'BestattungenPohlHermannMetzger14880450Friedrichshafen': 330903, 'BestattungenTrauerhilfeStierNeustadteKLandauer88674340NeustadtWein': 502476, 'BestattungshausSpeckWilhelmshöherAllee167341210Kassel': 501939, 'BestattungshausEngelkeNeumannNeuerWeg69265060Norden': 327244, 'LeoKuckelkornBestattungenGmbHLuxemburger294509390Köln': 500941, 'BestattungsinstitutStoßeKSigmaringer27886300Pfullendorf': 500083, 'BestattungenBergRohrweg13376710Höxter': 329540, 'BestattungenMondorfBuchenweg10538440Troisdorf': 326338, 'VemmerBestattungenSauerland12336470Bielefeld': 326089, 'BestattungsinstitutPaulPetersenSohneKWiesen1258210Bredstedt': 327946, 'AbelBestattungenGmbHObereKarls17341170Kassel': 326113, 'BestattungenWickertGmbHJüden6343460HannMünden': 329062, 'LückeBestattungenGalland22343850BadKarlshafen': 330467, 'BestattungsinstitutLÄSSERGbRHaupt53868250BadWörishofen': 501810, 'BESTATTERINNUNGHamburgAlsterdorferasse512223370Hamburg': 327294, 'BestattungsunternehmenVerenaReimersFrankfurter263a341340Kassel': 500981, 'OstlerBestattungenoHGZoeppritz10824670GarmischPartenkirchen': 330782, 'BestattungenMayerLesnickGbRPaffendorferWeg24501260Bergheim': 501820, 'ConersBestattungenAtenserAllee56269540Nordenham': 501775, 'BestattungenSchwarzAmWiegestein5und6346210Frielendorf': 501788, 'BestattungshausKuhfußLippertMeiersfelder2a326990Extertal': 330080, 'BestattungenFrankBosoldKeuloser21360930Künzell': 326303, 'BestattungsinsitutLuceHagenbreite25371240Rosdorf': 501824, 'PietätBestattungenManfredBeerPrüfeninger78930490Regensburg': 501053, 'BestattungsinstitutSchollGmbHAmHain2350660Frankenberg': 500675, 'BestattungenHolzwardGerolfinger5a850490Ingolstadt': 329704, 'BestattungenWernerLangHuppichterother2515880Nümbrecht': 329068, 'BestattungsunternehmenFriedeCastell69904510Nürnberg': 500906, 'KremerBestattungenoHGJakob24506780Köln': 329419, 'BestattungenPinnekampNeu46593480Lüdinghausen': 501815, 'PietätJosefMüllerLudwig51632630NeuIsenburg': 502485, 'SchwartzSträterBestattungenoHGRathaus2527215020Geesthacht': 501430, 'BestattungsinstitutCarlBechtSchwalbacher99651830Wiesbaden': 500928, 'RenkeBestattungenHützeler4296460Bispingen': 501580, 'BeerdigungsinstitutLüftBachgasse47646250Bensheim': 327396, 'MartinaWaigandBestattungeneKHagener98586420Iserlohn': 326443, 'Glitsch•NeckeBestattungenGmbHBeethovenallee812531730Bonn': 500863, 'UteSchaderBestattungenGmbHHeidelberger36646250Bensheim': 329611, 'BestattungsinstitutHofmannMartinsgasse18639270Bürgstadt': 329643, 'Bestattungshaus\"Pietät\"KoeppeneKDresdener3230500Cottbus': 500905, 'HelmsGmbHCoKGBestattungenBreite54326570Lemgo': 501420, 'BestattungenStefanWortmannAlterOrlerWeg2652320Taunusstein': 501795, 'BehrensBestattungshausFunkeGmbHDiekweg48261600BadZwischenahn': 330712, 'BestattungenZeheHaupt49974370Haßfurt': 325956, 'HerrigBestattungeneKRockelsgasse31363410Lauterbach': 501848, 'NovisBestattungenRhein42551160Mainz': 502912, 'BestattungsinstitutMANNBerg15635890Linsengericht': 328778, 'BeerdigungsinstitutAverbeckWarendorfer76481450Münster': 330564, 'SüßmannBestattungenOHGGoschen51311340Hildesheim': 328840, 'BestattungsinstitutGannBadtor181712630WeilderStadt': 502847, 'BestattungenLorchGbRObdemKieserstal93724610Albstadt': 328363, 'RolfWehrmannBestattungenGrille1324230Minden': 329454, 'AugusteHeineBestattungswesenGmbHOstertorwall24317850Hameln': 327245, 'TrauerhilfeDrabekHirschberg14328050HornBadMeinberg': 327639, 'BestattungenWernerGeorgGmbHSehnder3305590Hannover': 502552, 'BestattungshausHansGWedemeierLangerKrummerBruch19375200OsterodeamHarz': 500039, 'BestattungshausMarksHundsmühler174261310Oldenburg': 330461, 'NOVISBestattungenKielKirchhofallee40241140Kiel': 500615, 'BestattungsinstitutMBrehmVordererFloßanger13964500Coburg': 502407, 'BestattungshausHeinkeChemnitzer583930Meerane': 500090, 'BestattungshilfeDevianGmbHHildesheimer108301730Hannover': 328591, 'KerathBestattungenHohner44247870Fockbek': 328312, 'AndreasDüvelBestattungenOberkasseler90405450Düsseldorf': 502545, 'BestattungshausDrägerGmbHNoeser11a29290RothenburgOL': 329482, 'HeinrichZöllerBestattungenGmbHMarien96478070Krefeld': 327547, 'JosefSchmitzBestattungenGmbHHülser482478030Krefeld': 501486, 'PfahlBestattungshauseKWeiher15533590Rheinbach': 327838, 'BestattungenLiebePlöner20243210Lütjenburg': 327113, 'EngelmannBestattungshausRing33509960Köln': 501931, 'BestattungsintitutBischofGmbHKlostergasse2b73180Saalfeld': 327361, 'BestattungenTimmHaupt26b248520Eggebek': 325724, 'BestattungenKaldekerkeneKAch24891290Langenau': 328109, 'BestattungDetlefBauerReichs1984680Reichenbach': 327997, 'BestattungenHWittWandsbekerChaussee172B220890Hamburg': 327440, 'FuchsBestattungeneUHauptplatz231330Traismauer': 330169, 'KleinMölderBestattungenVürfels50514270BergischGladbach': 330459, 'BestattungsinstitutKollereKGarten3783150Radolfzell': 329083, 'BestattungsinstitutKyritzAmBahnhofGmbHBahnhof18168660Kyritz': 500418, 'BeerdigungsinstitutHEIMKEHRTurm16408780Ratingen': 501852, 'BestattungshausMathesEisengreinAdalbertStifter2694340Hirschhorn': 327702, 'BestattungenWellersGmbHJosefBaumann46448050Bochum': 325829, 'BestattungshausWillmenAmHammerwerk14A415150Grevenbroich': 327329, 'HarwaldBestattungenAmMarkt10146560Brieselang': 330807, 'BestattungenVolkmannGmbHWallgarten38313030Burgdorf': 500374, 'AnhaltinerBestattungshausundTrauerhilfeKöthener968470Dessau': 501140, 'ArgentumBestattungenSteinheimer24704390Stuttgart': 327713, 'DerfaireBestatterEnglerthasse4044522490Eschweiler': 327714, 'BestattungsInstitutWellborgGmbHObern85288320Achim': 502177, 'BestattungenSprengerFrohlinder66443790Dortmund': 330876, 'BestattungenFriedrichHeinerOst19422770Wuppertal': 327952, 'BestattungsinstitutvonRönnSohnSchleswiger61a243920Süderbrarup': 326535, 'BestattungshilfePFGGmbHFriedrichEngelsAllee366422830Wuppertal': 330238, 'BestattungshausWundAWeberViersener44410610Mönchengladbach': 502737, 'BestattungshausKammererSchloß932050Calau': 326102, 'SarrahsBestattungenBahnhofs27242170Schönberg': 502539, 'BeerdigungsinstitutRainerLanitzoHGSand7272320Sulingen': 326219, 'NorbertNaetheBestattungeneKHarzweg2a308510Langenhagen': 501273, 'BestattungenTrauerhilfeSchadeeKClaraZetkinPlatz248080Wurzen': 326545, 'BestattungsinstitutSiemersFeindtMattentwiete26216350Jork': 329151, 'BrenneckeBestattungenEichenweg12381760Wendeburg': 329256, 'BeerdigungsinstitutJohannOetkenAmGlockenstein12277770Ganderkesee': 325664, 'BestattungsinstitutSchenkeKLudwigJahn527790Großschönau': 502691, 'InstitutFarthmannBornemann8296140Soltau': 501114, 'BestattungshausPietätFriesGmbHAlterFrankenthalerWeg51670710Ludwigshafen': 327758, 'BestattungshausUteSchöderGmbHFriedrich1a31300Spremberg': 501579, 'SchröderBestattungenGmbHCoKGPetersilien5328390Steinheim': 327771, 'BestattungsdienstSigridOßwaldGmbHSeelowErnstThälmann69153060Seelow': 326220, 'BestattungenKellnerGmbHKloster35162780Angermünde': 329219, 'BestattungsunternehmenFranzPohlmannNorder55257460Heide': 502789, 'BestattungsinstitutMichelOHGMeixler27551200Mainz': 327598, 'BestattungshausHeckGmbHHaupt5765710Gaggenau': 326191, 'HofmannBestattungenNeupforte18353050Grünberg': 330777, 'TrauerhilfeHansDannreutherStGeorgen13954480Bayreuth': 329408, 'BestattungEvaMariaHinzAugustBebelPlatz1126270Weißenberg': 327021, 'BestattungenEversRosen29460490Oberhausen': 502894, 'SchulteSohnNachfGmbHRathaus39215020Geesthacht': 329425, 'BestattungsinstitutPietätSpuckGmbHBahnhof9a350370Marburg': 500543, 'RohdeRohlfesBestattungenRonnenberger29309890Gehrden': 501324, 'BestattungshausGarnjostSchlehdornweg6328050HornBadMeinberg': 329271, 'GrimmerBestattungenGmbHKlosterplatz262950LutherstadtEisleben': 330134, 'BestattungshausBonitzPechWarthaerWeg529990LohsaOTKoblenz': 326255, 'BestattungshausJuckelFreienwalder41163560Werneuchen': 326668, 'BestattungsInstitutEdgarBergSöhneBoltenhagener17239480Klütz': 325986, 'BestattungsinstitutBudelmannFeld34288160Stuhr': 328780, 'BestattungenHauckBrunsbüttelerDamm258135910Berlin': 502298, 'BestattungsinstitutRungeGroßenhoferWeg19167920Zehdenick': 327832, 'DawartzBestattungenPlan25258130Husum': 327174, 'BestattungenJanIngwersenHerrweg73258560Hattstedtermarsch': 327839, 'BestattungenMarioSchumacherLipschitzallee69123530Berlin': 325914, 'BestattungenHummelKrämer64778660Rheinau': 325947, 'BestattungsinstitutApoldaGmbHUtenbacher66995100Apolda': 328487, 'BestattungshausHohenwindenGeranienweg34990870Erfurt': 502262, 'BestattungshausKARRIESBadebornerWeg664840Quedlinburg': 330946, 'BestattungshausCramerVirchow40168160Neuruppin': 330251, 'BestattungenSchloßmacherGbRAmLöken60408850Ratingen': 329483, 'BestattungsinstitutMartinNowaczykKarlMarx11159260Luckau': 501228, 'BestattungenKüstermannVilsendorfer7337390Bielefeld': 501528, 'MahlmannBestattungenSchul9383120Börßum': 330765, 'KlotzBestattungsinstitutHöhlenweg24386420Goslar': 500914, 'BaurBestattungenUlmer18895840Ehingen': 327884, 'BestattungsinstitutFirusOranien45651850Wiesbaden': 327399, 'FuneriaTrauerhilfeGmbHKatzbach6109650Berlin': 502503, 'BestattungenThomasBeckBismarck21248370Schleswig': 327529, 'StädtischesBestattungswesenMeißenGmbHNossener3816620Meißen': 328226, 'BeerdigungsinstitutRudolfEckelAmOttoturm1575480Kirchen': 500607, 'JanuarBestattungenSee93a133470Berlin': 328390, 'DreschkeBestattungenFromageotGmbHOranienburger205134370Berlin': 327861, 'AmorisBestattungenGbRFallersleber44381000Braunschweig': 326459, 'SeißlerBestattungenSandweg6357450Herborn': 330842, 'WildangerGmbHCoKGPost11557740Baumholder': 330308, 'BestattungsinstitutStresowNauener27146120Falkensee': 326068, 'BestattungsinstitutBenschCharlotten15144670Potsdam': 330284, 'EFalkeBeerdigungsinstitutGmbHManhagenerAllee16229260Ahrensburg': 329264, 'BestattungenSchüßlerHaupt64357940Mengerskirchen': 326473, 'BestattungshausGellerGmbHFriedrichEngels26158900Eisenhüttenstadt': 327522, 'AustermühlBestattungenKGBelchen18a791890BadKrozingen': 326355, 'BischofBestattungenGleimaßé4388200Halberstadt': 501776, 'BestattungshausHerrfurthReißiger21148060BadBelzig': 327924, 'RitaRiepeBestattungenAnderKirche2344340Borgentreich': 328074, 'PietätHiebelerGmbHMittermaier9691150Heidelberg': 502909, 'BESTATTUNGSHAUSBentzinBrocksiepeMengeder28445360Lünen': 326054, 'BestattungenPeschoHGRasselnerKirchweg15411690Mönchengladbach': 330259, 'BestattungsinstitutWolfIlsenburger12388550Wernigerode': 325820, 'BestattungshausHeidelbergBergheimer114691150Heidelberg': 501617, 'BestattungsinstitutMuschterRadeberger514580OttendorfOkrilla': 328713, 'BonnerBestattungshausFalkensteinBurg81531770Bonn': 327926, 'FischerBestattungenReichenbacherHaupt17779330Lahr,Schwarzwald': 330981, 'WittenbergerBeerdigungsinstitutMarstall91068860LutherstadtWittenberg': 325943, 'BestattungenGeiderBernhardus41687890StLeonRot': 327930, 'RosenboomBestattungenBahnhof82464990Hamminkeln': 329556, 'TheodorPoeschkeBestattungeneKAltReinickendorf29d134070Berlin': 502869, 'BestattungshausDeufrainsGmbHRatzeburg12162250Eberswalde': 327920, 'BestattungsinstitutJochenKrebsPost10345370BadWildungen': 501449, 'HeinzeBestattungenArnstedt91392400Calbe': 327810, 'BestattungshausBramannGera18153660Neuenhagen': 502357, 'UtheBestattungshausFurtweg2372690Eschwege': 328545, 'BestattungsinstitutVolkerTimmSohnWriezener14162590BadFreienwalde': 502180, 'BestattungsinstitutSteffenWernerZakGbRBerg43157450Wildau': 329685, 'BestattungshausSabineMüllerDonnersberg87676570Kaiserslautern': 327610, 'FördeBestattungenSophienblatt57241140Kiel': 327965, 'PietätBestattungshausOttweilerGmbHWilhelmHeinrich6665640Ottweiler': 500737, 'OSIRISBestattungenGmbHMainzer41661210Saarbrücken': 326366, 'BestattungshausSchiefferOHGRosenhügel23502590PulheimBrauweiler': 328014, 'BestattungenRichterLudwigTeleky25590710Hamm': 500419, 'OestreichBestattungenZumAtzmannstein2361370Großenlüder': 501546, 'BestattungenLantauMühlenweg19242170Stakendorf': 500382, 'TrauerhilfeLohelHolzweg66465090Xanten': 327982, 'BestattungshausUngerGmbHGroße114149130Jüterbog': 327989, 'AlbrechtGbRBestattungenGarten1239090Ratzeburg': 327914, 'DillschneiderBestattungenGmbHHasen4666630Merzig': 328552, 'BestattungsinstitutGubeZittauer2019040Neukirch,Lausitz': 329059, 'BeerdigungsinstitutAdolfDwengerAlteLand32229410Bargteheide': 328003, 'BestattungshausHoffmannGmbHHaslacherWeg23d510630Köln': 329470, 'BestattungenScheiderGbRLieberoserWeg231850Drehnow': 329279, 'AnterniaGmbHOtto4c533320Bornheim': 327448, 'BestattungsinstitutLHeldWölferstädter1866500Wemding': 329547, 'BestattungenFabriZumOstenfeld3587390Wickede': 328789, 'TrauerhilfeKrausGmbHMaximilian1A637390Aschaffenburg': 327988, 'VonthienBestattungFeld6180570Rostock': 501495, 'BestattungshausHeinkeGmbHAmSchlachthof2192880Ludwigslust': 330391, 'BestattungsinstitutRalfHeinrichHubertusallee108165480Glienicke': 328033, 'BestattungsinstitutHennigArsenal1921190530Schwerin': 326452, 'BestattungshausRegenbogenFeldberg1761990Karlsruhe': 502914, 'BestattungsinstitutEdmundDietrichGmbHCoKGRappenhalde15736350Rudersberg': 330326, 'KemperBestattungeneKKirch33582850Gevelsberg': 327486, 'mementomoriBestatterinnenOHGMozart19220830Hamburg': 502258, 'BestattungsinstitutAlfredLassenSchmiede38243760Kappeln': 328650, 'BestattungshausMemoriaGmbHDoberaner38180570Rostock': 328740, 'BestattungsinstitutSchmedekeKirchwinkel1317890Hameln': 330737, 'BestattungshausGüthAmRain12635710Gelnhausen': 327433, 'NordlandBestattungshausPuschkin7173260Brüssow': 328415, 'VetterBestattungenLeipziger3644200Markranstädt': 330406, 'BestattungshausPfenderBerkenbrückerChaussee6a149430Luckenwalde': 502862, 'BestattungWillamMoosmahd568500Dornbirn': 502129, 'BestattungenAllweierAltheimer3886990Frickingen': 501019, 'BestattungenAbendröteReichenbacher19911260Schwabach': 329698, 'BestattungenKramerSchüler2224321080BadSalzuflen': 502765, 'BockwoldtBestattungenGmbHAmFleth31253480Glückstadt': 326307, 'BestattungenStratmannGmbHCoKGHackfurth5462440BottropKirchhellen': 328056, 'BeerdigungsInstitutHehlGmbHDom6272830Verden': 330150, 'BestattungshausKönigCrengeldanz34584550Witten': 326446, 'BestattungsinstitutWilhelmundJuttaStührkGbRÖster17257090Marne': 328080, 'HolmBestattungenDorf19245940Nindorf': 328206, 'BestattungsinstitutOttoJornsOHGWinkel18318120BadPyrmont': 326325, 'BestattungshausKlausSchülzchenHerren449360Schlieben': 501971, 'WolfgangJLenzBestattungeneKPinnebergerChaussee18a225230Hamburg': 328851, 'TRAUERHILFEWOLTERSSchuler11751800PforzheimBüchenbronn': 326140, 'BestattungshausSchlöppingeKRudolfBreitscheid38167750Gransee': 500664, 'BestattungsinstitutSommererSindelfinger20710690Sindelfingen': 501869, 'BestattungshausHaferbeckTöpperFriedrichEbert128327600Detmold': 327784, 'BestattungGerhardHauserPuchheimer4048000AttnangPuchheim': 329069, 'BestattungshausKoenenKreuz3268260Weener': 328235, 'BestattungenSilkeEbermannGausFeld1312260Peine': 502397, 'BestattungshausKlemmerKarolingerring26506780Köln': 327786, 'KriewaldBestattungenCalenberger31308230Garbsen': 328117, 'HeinrichsmeierBestattungenHolzweg2324230Minden': 502160, 'BestattungshausBurchardtBau21174380Wolgast': 502460, 'BestattungenKrumtüngerDiesel19593290Wadersloh': 329583, 'TrauerLichtungBestattungeninFrauenhändenAlteHolsten84210290Hamburg': 328130, 'LohmannBestattungenGerichts44453550Essen': 327679, 'BestattungenLindebaumZumBahnhof5485990GronauEpe': 330874, 'BestattungsinstitutJäckleGmbHOstend8767070Hambrücken': 500757, 'BestattungenFrankFöllmerHaar4596020Rüthen': 329697, 'BestattungshausSteinkampZiegelei2214830Krüzen': 500342, 'BohlmannBestattungenGmbHUelzener2214060Melbeck': 326103, 'FreiraumBestattungenUGAmDelf35261600BadZwischenahn': 328099, 'ElztalBestattungenHaupt80792150Elzach': 327454, 'BestattungenVogelNeugasse16655890Hadamar': 328679, 'BirkmannBestattungenHersbrucker3335912070Lauf': 329357, 'BestattungenUNGEReKSaumarkt10917810Weißenburg': 330403, 'BestattungsinstitutUweSchusterRathaus419000Großröhrsdorf': 327552, 'BestattungshausSchusterGrieteNeumarkt718770Bischofswerda': 330365, 'FreiseBestattungenSoest18595550Lippstadt': 325880, 'PietätDaumFahrgasse1632250Langen': 328159, 'BestattungenPlätschkeGmbHFriedrichLau22404740Düsseldorf': 500786, 'MichaelWeinzierlBestattungenHaupt76596090Anröchte': 326363, 'BestattungenTrauerbegleitungDiehlRothMittel18356140Aßlar': 330949, 'HelbigBestattungenGmbHHermannIlgen4414450Radebeul': 502515, 'FritzscheBestattungenGmbHiGAmFuchsbau16153450Eggersdorf': 328168, 'KrügerBestattungenArnsdorfer2269170Jessen': 329197, 'ThomasAltnerBestattungswesenGarten4146830Naunhof': 325550, 'RolfPaulsenBestattungenKGHamburger145238430BadOldesloe': 329733, 'BestattungenVorsorgeberatungWirtzObereKaiser118663860StIngbert': 327658, 'BestattungenGommerGommerstiege1498280Veldhausen': 326279, 'BestattungenTölleWillyBrandt22343690Hofgeismar': 500392, 'KurthBestattungenHoch15538790Euskirchen': 330932, 'BestattungsunternehmenSeppichGmbHDossenheimerLand79691210Heidelberg': 327899, 'BestattungshausWelschoffLütgendortmunderHellweg113443880Dortmund': 501539, 'BestattungenHörnerKammerrathsfeld22405930Düsseldorf': 325774, 'BertelteKBestattungenOrtlohn35586380Iserlohn': 327696, 'BestattungenMichaelWieschebrockAmRykenberg4594570Werl': 329809, 'BestattungenHopsterOsnabrücker32484290Rheine': 329776, 'ÅsgardBestattungsGmbHImMediaPark4D506700Köln': 329774, 'BestattungenBiermannSelbecker34326830Barntrup': 500752, 'NordheideBestattungenMeyerKlischeHarburger46212660Jesteburg': 329486, 'TSHannoverUGLangeFeld35a305590Hannover': 326224, 'FischerBestattungenGrabmaleeKDonaueschinger8781830Hüfingen': 326549, 'BestattungenSuttmeyerZumHauptfriedhof3458940Gelsenkirchen': 327944, 'HermaBestattungenGmbHZeppelin14743570Bönnigheim': 328083, 'BestattungenKrässeWiesmühle4963420Stockheim': 330215, 'BestattungshausFranzkeGmbHDorf1277260Worpswede': 502081, 'OttenBestattungenGmbHBahnhof74b277110OsterholzScharmbeck': 502326, 'DahmenBestattungenGmbHBohlweg10382590Salzgitter': 329247, 'BestattungJosefMaierKastl39925260Oberviechtach': 327012, 'HAASBestattungenAlteJülicher4044523530Düren': 328211, 'BestattungshausPetschackBreite1163590Biesenthal': 500602, 'MatthiasErnstBestattungenUnnaer75587300Fröndenberg': 328952, 'BestattungenWistubaAnderUlm1653850RüdesheimamRhein': 502107, 'BestattungsinstitutErikSelzerReimsbacher84667010BeckingenReimsbach': 502338, 'GüldeBestattungeneKLohe32229410Bargteheide': 328269, 'BestattungsinstitutKrauseGbRWald30257120Burg': 329276, 'BestattungenHüsgenGoethe3d415390Dormagen': 329294, 'BestattungskulturBuitingUGCoKGBorbecker223453550Essen': 502664, 'BestattungshausBuchholzCoGmbHLilienthal3586380Iserlohn': 326037, 'BestattungshausWelterothGarten14537830Eitorf': 330614, 'StichtenothBestattungenGerland5371270Dransfeld': 501708, 'BestattungenWüllereKKammerbruch4521520Simmerath': 330213, 'BestattungenKeusenÜlfe4424770Radevormwald': 327836, 'BestattungendeTempleGbRAufderSchulenburg43a333780RhedaWiedenbrück': 502354, 'RübBestattungenKirch18566450Nickenich': 326553, 'AuschekBestattungeneKHeinrich3675450Gera': 325732, 'WolfgangHuhnBestattungeneKRahmer31443690Dortmund': 328325, 'BestattungenHansPohrenCharlotten49560770Koblenz': 325982, 'BestattungenSchiebelGmbHBahnhof7630460Cottbus': 328263, 'BestattungshausReinholdWilhelmPieck3619790Lauchhammer': 501089, 'BestattungsinstitutLeßmannGremminer34a67730Gräfenhainichen': 330635, 'FranzSchlüterBestattungenBahnhof181471370Duisburg': 329797, 'BestattungenHendrikFlügelJacobsplatz3348080Wurzen': 328270, 'BestattungsinstitutGeyerDachsgrube15a975260Sennfeld': 500553, 'BestattungenBleibinhausRegendorfer2a931380Lappersdorf': 326107, 'BestattungshausEulitzLiebersee1648740BelgernSchildau': 328289, 'BestattungenAlfonsGlögglerLuitpoldBaumann12973370Dettelbach': 502088, 'BestattungshausPenselerAngerberg58997520Bleicherode': 327346, 'BestattungErnstSchöflHaupt11925390Schönsee': 328921, 'BestattungSchöpkewitzWilhelm2b452190EssenKettwig': 500754, 'SuchlandBestattungenBreite30141990Berlin': 328314, 'BKGBestattungKärntenGmbHStVeiter3190200KlagenfurtamWörthersee': 329121, 'GEORGEBestattungenGmbHCoKGKarlBartelmann4245640Böhlen': 502036, 'BestattungenRalfHackenbrachteKHerrenwiese4573190BadBerleburg': 329108, 'BestattungenMichaelSchulzeEwald148457390OerErkenschwick': 328949, 'BestattungsinstitutSchinnerGmbHWaldershofer11956150Marktredwitz': 328890, 'BestattungshausLilianMeinerLapp7294620Wuow(Wendland)Niedersachsen': 328328, 'DreesBestattungenBodelschwingher216443570Dortmund': 500389, 'BestattungenHossFömpeHermannEhlers48538400Troisdorf': 502710, 'BestattungshausPetraPaulGroßerKuhlenweg71261250Oldenburg': 326658, 'BestattungshausHenningMüllerDorfplatz1295820Hanstedt1': 502279, 'BestattungGabrieleBrixnereULauriacum44700Enns': 325734, 'SchmidtBestattungenGmbHBerliner133277510Delmenhorst': 330127, 'BestattungshausFockeKüstergang1173580Torgelow': 327794, 'WunstorferBestattungswesenGeorgHaakeAmAltenMarkt22315150Wunstorf': 328556, 'BestattungshausBenstemGmbHRote32370730Göttingen': 329436, 'MohrBestattungenMühlenkamp11384420Wolfsburg': 500729, 'TiesteBestattungenAmBreitenGraben24315580Hagenburg': 326621, 'BodoDobbratzBestattungenLangelohe123253370Elmshorn': 329026, 'BestattungenPeterSchmitzeKGladbacher417417480Viersen': 330131, 'StädtischeBestattungBadenNeustiftgasse625000Baden': 330426, 'UllrichBestattungenObermarkt1528260Görlitz': 502301, 'CalwerBestattungsdienstGmbHCoKGGottlobBauknecht24753650Calw': 329999, 'CharletBestattungenGbRKur1147760BrandenburgadHavel': 327857, 'EbermannBestattungenGmbHCoKGKant34312240Peine': 328950, 'BestattungsinstitutAugustHoldorfoHGKieler14245680Kaltenkirchen': 327176, 'BestattungshausNettebrockoHGGoethe20590650Hamm': 502640, 'ValentinBeekenBestattungenFuhlsbüttler731223370Hamburg': 330939, 'BestattungenRNeumannGmbHGleviner15182730Güow': 501261, 'BestattungsinstitutTrauerhilfeDietrichSchweriner15239700Wismar': 327212, 'BestattungenMaikKivelipNeu68a478770Willich': 501482, 'BestattungsdienstePatriciaTüchsenSonnenwend3441490Dortmund': 330490, 'BestattungsdienstPhilippFriedhof23766460Bruchsal': 329175, 'LUMENBestattungenHaraldWölfleeKGrünten17875270Sonthofen': 327801, 'MullBestattungenJäger8383040Wolfenbüttel': 328422, 'PrignitzerBestattungshausElfreichGmbHLinden4193480Perleberg': 328426, 'BestattungsinstitutLudwigDanziger15754330Maulbronn': 502609, 'andersbestattenHaupt43486190HeekNienborg': 329626, 'BestattungshausTillUGGeist2561080HalleSaale': 328452, 'JöcksBestattungenMarslaTour3301750Hannover': 325784, 'BestattungshausAnitaMärtinGmbHKarl26712290Leonberg': 330716, 'KarlHeinzWeberSohnGmbHHasenrech12665390Neunkirchen': 500572, 'BestattungshausPützGmbHKirch44538400Troisdorf': 326070, 'BestattungshausLacrimareBahnhof40276120Loxstedt': 327984, 'PietätKötherBestattungenGmbHNeustadt96372690Eschwege': 328690, 'BestattungshausKarcherGmbHAmFriedhof33681670Mannheim': 329270, 'BestattungsinstitutBrückmannGmbHKirch12273560Rotenburg': 326468, 'BestattungshausNaetheGmbHWalsroder89a308510Langenhagen': 501467, 'BestattungsinstitutBlasiusProvinzial122667400Saarlouis': 329335, 'BestattungsinstitutHoffmannWein42768890Klingenmünster': 327057, 'BestattungshausJungGmbHCoKGGraben101103470570Duisburg': 328484, 'BestattungenFloristikStrunkGmbHBahnhof32457010Herten': 501966, 'BestattungenKönigFranzStahlmeckePlatz5598720Meschede': 329356, 'BestattungenKippNevigeser86421130Wuppertal': 327505, 'BestattungenPützOHGHöningerWeg241509690Köln': 328240, 'BestattungenWittstammBochumer140a456610Recklinghausen': 330583, 'TüllmannBestattungenAmMühlenbruch2595810Warstein': 328486, 'BeerdigungsinstitutHansMolitoreKRheinberger212474450Moers': 502409, 'BestattungsinstitutGünzelGmbHLicht31402350Düsseldorf': 328647, 'BestattungsdienstinSchwabenGmbHCoKGHirblinger38861540Augsburg': 328139, 'BestattungenNorbertEssereKNievenheimer7414690Neuss': 328853, 'BeerdigungsinstitutFlabbeKDüsseldorfer2427810Haan': 328493, 'BestattungshausHeimeshoffSohlstätten36b408800Ratingen': 328362, 'HausdesAbschiedsStrangBruchgasse34538940Mechernich': 502422, 'BestattungshausKlöppereKAlteSchul8324270Minden': 501296, 'PietaBestattungsinstitutGmbHHarteneck40716400Ludwigsburg': 328118, 'LüttmannBestattungenPöstenweg42326570Lemgo': 328460, 'MussBestattungshausGmbHIndenDauen2531170Bonn': 500974, 'BestattungenBeiningPost2327580DetmoldKlüt': 326058, 'BestattungBärbelSchwaigerKardinalKönigPlatz132030RabensteinadPielach': 326682, 'BestattungHackleUHaupt17673610FrankenaubLutzmannsburg': 501684, 'BeerdigungsinstitutBeinhauerAmLandenberg9572580Freudenberg': 502000, 'EugenZieglerBestattungshilfeGmbHUnterländer16704350Stuttgart': 325575, 'GreifBestattungenAmKrappen8a350370Marburg': 328513, 'BestattungshausMattnerGroßeWasserpfort9264410Jever': 327616, 'GöbelBestattungenLahn10572500Netphen': 326622, 'TrauerzentrumSeidlitzLahn23573340BadLaasphe': 502221, 'KariusBestattungenDechantBuddeWeg12334280Harsewinkel': 327916, 'BestattungenHerbertsHahnerberger262423490Wuppertal': 327046, 'BestattungsinstitutKeufgensHeideasse29521460Würselen': 326076, 'BandleBestattungsInstitutVillingenGmbHGerber59780500VillingenSchwenningen': 330788, 'BestattungenImhoffMarktplatz29855670GrafingbeiMünchen': 501452, 'BestattungsinstitutPetraFischingerStuttgarter2753650Calw': 329145, 'PietätMüllerGmbHOffenbacher17633030Dreieich': 501759, 'BestattungshausKoboldAmFriedhof1192050Gadebusch': 330021, 'SchreyerBestattungenGmbHZurBurgruine12350430Marburg': 500844, 'BestattungshausLehmannGmbHBirkenweg13273560Rotenburg': 502062, 'NitschGrimmigBestattungenGmbHSophien1383040Wolfenbüttel': 327401, 'UnbescheidenBestattungeneKRichardLattorf7304530Hannover': 502033, 'BestattungshausPeterKrieseLautertal31677420Lauterecken': 328560, 'BehrensBestattungenGbRStöckener20a309260Seelze': 328107, 'BestattungshausKlugeAnderLutherkirche2301670Hannover': 329095, 'PietätGüntherSchellGmbHLorscher23604890Frankfurt': 328572, 'BestattungshausPertzelOchsenweg20249410FlensburgOTWeiche': 501984, 'UllmannBestattungenBerliner133277510Delmenhorst': 328433, 'BestattungsinstitutWundRGoldGmbHBrückenauer4363810Schlüchtern': 330411, 'BestattungenSahmFliederweg7572990Burbach': 502852, 'PietätWegmannGmbHBardroff12637390Aschaffenburg': 330582, 'BestattungshausWernerPeteroHGHermann140120510Berlin': 329006, 'HorstFritzBestattungenGbRBrechtweg8893400Leipheim': 329630, 'SchäfflerBestattungenKirchen14868420Türkheim': 328574, 'BestattungenFranzTerfurthNord106465620Voerde': 329426, 'BergerBestattungenHamburgAmOchsenzoll172224170Hamburg': 502164, 'LATOBestattungenFrankenbacher31740780Heilbronn': 501295, 'BestattungsinstitutWerzSohneKHaupt42728000Eningen': 502469, 'AueBestattungenGmbHGroßeSchulgasse1819391160Magdeburg': 330867, 'BestattungsinstitutBachmannBahn182A643900Erzhausen': 500326, 'BestattungshausStapperfenneWilhelm6595580LippstadtLipperode': 330982, 'BestattungshausWeisserGmbHMariazeller79787130Schramberg': 328596, 'BestattungenReckerEgbers16491340Wallenhorst': 329670, 'BestattungenSchwenkOlga26891500Laichingen': 327483, 'BestattungenSchlichtingGmbHMönchsmatten17777040Oberkirch': 330784, 'BestattungshausMüllerPartnerGbRDingelstädter8373080HeilbadHeiligenstadt': 502368, 'MüritzBestattungenDorft81172090Wredenhagen': 502434, 'BestattungsinstiutLuersenMindener175494190WagenfeldOTöhen': 502218, 'BestattungshausRogenzWald9A29430Weißwasser': 328617, 'BestattungsinstitutFußMöncheborn15351140Löhlbach': 500489, 'BestattungenHelmutMüllerFrankfurter8688633030Dreieich': 328649, 'OsterholzerBestattungsinstitutGEBEINGmbHWalliser140283250Bremen': 327189, 'BestattungsinstitutSchlitzeKMainzer64552620Heidesheim': 328629, 'BestattungenZapatkaWeiher9b575550Mudersbach': 327056, 'ClemensBeckerBestattungenWetzlarer1b357640Sinn': 500454, 'BestattungshausSchötteseKHaupt49515700WindeckDattenfeld': 327441, 'DanielBrehmGmbHHaupt96612310BadNauheim': 328676, 'BestattungenFröhningGmbHCoKGAufdenBrennen1583130Herdecke': 502176, 'BestattungskulturMEMORIAWest41421190Wuppertal': 326529, 'BeerdigungsinstitutBalzenGbRKirch102474950Rheinberg': 500780, 'BestattungenAnniGehrkeGelsenkirchener274453270Essen': 330359, 'MemoriaUGRaiffeisen3934880Schönthal': 502133, 'BestattungsinstitutSeverinWindgatt25587300Fröndenberg': 500368, 'MichalzikBestattungenTeichweg23a228690Schenefeld': 500287, 'AlnovitasBestattungenGmbHHauptbahnhof1e974240Schweinfurt': 330469, 'BestattungWolfoHGSüd79576320Eichen': 330125, 'MarkusKönigDasfamiliäreBestattungsinstitutPostweg2361000PetersbergMarbach': 328742, 'BeerdigungsinstitutFritzFreuerGmbHCoKGRosen42277490Delmenhorst': 501989, 'BestattungenLorenzenSohnTreene40248960Treia': 326305, 'BestattungenTrögeroHGFlocken2093850Lugau': 326161, 'BestattungenBerensWewer5331060Paderborn': 327675, 'BestattungsinstitutRohdeHaupt49274780Cuxhaven': 325756, 'GrubeBestattungenAlterPostweg128266700Uplengen': 330977, 'BestattungenLieserKGPaulin122124542920Trier': 328753, 'RhönerAbschiedBestattungsunternehmenGeisaer12b364190GeisaOTBorsch': 502045, 'BestattungshilfePassauFürstenzeller51941270NeuburgamInn': 326138, 'BestattungenHellmundErbsgasse4342250Baunatal': 328783, 'DankelmannGmbHCoKGZumSunderhügel2484880Emsbüren': 500452, 'BestattungsinstitutWilfriedNetzQuellen18566560BrohlLützing': 326273, 'mintenwalterBestattungenLessing65531130Bonn': 329070, 'BestattungshausHuberRaiffeisen13A777040Oberkirch,Baden': 328818, 'BestattungenLudgerZimmermannKarlMeyer44458840Gelsenkirchen': 327128, 'BestattungsinstitutMartinaGeorgeKirch1a342330Fuldatal': 330372, 'KroppBestattungenMittelweg44201490Hamburg': 501179, 'BeerdigungsbüroBeckGmbHFuhlsbüttler739223370Hamburg': 500732, 'BeerdigungsinstitutErwinJürsStiftungNiendorferMarktplatz8224590Hamburg': 327918, 'BestattungshausKrügerSchönZumRahn2295560Suderburg': 329375, 'BestattungsinstitutJungeMünz30171790Gnoien': 502428, 'KlaubertBestattungenGmbHKepler2213370Lüneburg': 325568, 'AdlerBestattungenSchleusenweg4293640LanglingenbeiCelle': 329038, 'HimmelslotsenBestattungskulturOHGTimmermannsat7180550Rostock': 328822, 'BestattungenBierbrauerStopp85308900Barsinghausen': 328940, 'BestattungshausHöligCrimmitschauer36f80580Zwickau': 330463, 'BestattungenMarcoThömSologenweg2a255850Lütjenwestedt': 327790, 'UfenBestattungenTiebenseer3257920Tiebensee': 501854, 'SternenreiseBestattungenHaupt78407640Langenfeld': 330041, 'GermaniaSchifffahrtsgesellschaftmbHRathaus4a267890Leer': 329545, 'ErkensBestattungenUGKlosengarten84503740ErftstadtLiblar': 501088, 'BestattungenWilhHinschKrütz9229550Hoisdorf': 328180, 'BestattungenBeutelspacherWikinger49763070Karlsbad': 329397, 'BestattungenFitschenNeue12274490Kutenholz': 330407, 'BestattungenSteffensAlteWache20214810Lauenburg': 500838, 'BestattungenGriemSachsenring3840245340Neumünster': 502563, 'BestattungsinstitutStabeneKHerberg10245890Nortorf': 502408, 'BestattungenScheufeleBacknanger19736350Rudersberg': 500337, 'LückemeyerBestattungenZumHilgenbrink22483360Sassenberg': 500084, 'BestattungsinstitutSonnenburgKoppelsberg1287900Schwanewede': 500948, 'BestattungenSchmittBartholomäusWeltzPlatz1a673460Speyer': 500122, 'BestattungenSpinolaScherpenberger69a474430Moers': 326636, 'BennetPLeverenzLohbrüggerLand36210310Hamburg': 329504, 'HochdahlerBestattungshausSchildsheider51406990Erkrath': 501004, 'HaselhorstBestattungenDahauser16a492010DissenamTeutoburgerWald': 329661, 'BestattungenHeinrichGeisemeierElisabeth16492010Dissen': 328212, 'BestattungenRumbergKattenjagd37584560Witten': 501797, 'BestattungsArtGmbHSunder32217260Oldendorf': 330436, 'FriedhofsgärtnerDortmundeGAmGottesacker52441430Dortmund': 327882, 'BestattungshausMeyerSalle6316060Warmsen': 328100, 'BestattungshausPietätPfeiferClemensPfauPlatz1993060Rochlitz': 329458, 'BestattungenScifoRothenburger258904310Nürnberg': 328699, 'BestattungsdienstLutzBierwischWunstorfer49304530Hannover': 330877, 'BestattungshausBruningRedecker38493260Melle': 329713, 'BeerdigungsinstitutBrunsAmEichkamp5315590HastebeiWunstorf': 326288, 'ElsholzBestattungeneKHofkamp20421030Wuppertal': 502455, 'BestattungenMiddelmannKirch23483410Altenberge': 327780, 'AxelBodeBestattungenInderMark29a322780Kirchlengern': 327651, 'MuserDienstleistungenHaupt32916230SachsenbeiAnsbach': 329705, 'BestattungenKösterRathaus15338130Oerlinghausen': 329660, 'MahaloBestattungenAmMarstall19301590Hannover': 330434, 'BestattungsunternehmenHeinzPapendelleKGerresheimerLand103406270Düsseldorf': 328922, 'auroraBestattungenSpitalackerasse5330130Bern': 328894, 'BESTATTUNGENQuastenGermania212214478000Krefeld': 329013, 'BestattungenHilleBahnhof150591990Bönen': 330569, 'BestattungenDunkerMühlenweg5587300Fröndenberg': 502134, 'BestattungshausHilmersStolleAmHamjebusch59266550Westerstede': 327277, 'EifelerBestattungshausSoriesCoTrierer56521560MonschauKonzen': 327671, 'BestattungshausGrässleAmZollstock15762280Karlsruhe': 502207, 'BeerdigungsinstitutBoddenBroicher153524770Alsdorf': 502141, 'BeerdigungsinstitutHornLindenOdentalerWeg6426570Solingen': 330891, 'MittendorfBestattungenNeue10309890Gehrden': 329550, 'BestattungenDischleidGmbHCoKGQuadenhof110406250Düsseldorf': 502037, 'BestattungshausMichelsImMaibüsch21567660Ulmen': 326116, 'BloemersBestattungenGmbHClemens8560680Koblenz': 327678, 'KalabaBestattungenKonradAdenauer2457310Waltrop': 329584, 'BestattungshausHackmannKirchfeld30452190Essen': 326236, 'PlanBindividuelleBestattungenObermünster17930470Regensburg': 501883, 'lebensnahBestattungenSeelowerasse5104390Berlin': 330619, 'SchulzMeyerBestattungenRobinienweg3385180Gifhorn': 325959, 'BestattungsinstitutHeinrichStroinkLüder73493560Diepholz': 502688, 'HAMMBestattungenAdolf110653070BadSchwalbach': 327815, 'BestattungenKohlbrennerSchaffhausers6797130BadSäckingen': 501683, 'BestattungshausMorselloCarlZeiss3710930WeilimSchönbuch': 502512, 'PrinzGmbHRobertBosch10353980Gießen': 501875, 'BestattungshausWahleRhein223551280IngelheimamRhein': 326193, 'BestattungshausOnnekenLeererLand39a266290Westgroßefehn': 327783, 'AicheleBestattungenBurg5737600Ostfildern': 329635, 'BestattungsinstitutLangBachbüglerWeg2931490Nittenau': 325814, 'BestattungHennigAmNeuenFriedhof12174890Greifswald': 502555, 'BestattungshausmitHerzFredersdorferChaussee90153700FredersdorfVogelsdorf': 325803, 'BestattungsunternehmenPinterGesmbHNelkengasse1385300Deutschlandsberg': 502454, 'GimballBestattungenInduie6259170Leck': 327869, 'EmderBestattungshausPoppingaOHGGroße86267210Emden': 329308, 'AbunterdieErdeFranken59131290Berlin': 327251, 'ManuelBormannWilligBestattungsinstitutHaupt16374310BadLauterbergimHarz': 327117, 'GrebeBestattungenHaupt43352160Biedenkopf': 502673, 'JohannJürgensBestattungenOsterende30268490Filsum': 500099, 'BestattungsinstitutKlausOhlemacherMarkt3656230Hahnstätten': 501548, 'BestattungshausDoberneckerAdorfer1282580Markneukirchen': 330567, 'LandwehrBestattungenGolzwarder85269190Brake': 501129, 'BestattungenMarquardsenMürwiker164249440Flensburg': 328070, 'PietätDirkAlbusKapellen20a636910Ranstadt': 327604, 'TrauerhilfeSchneiderBestattungeneKDornburger1677430Jena': 328096, 'BestattungshausLutherRosaLuxemburg346260Schmölln': 328057, 'BestattungshausWandlitzThälmann118163480Wandlitz': 328125, 'BestattungenBerndJanßenGmbHHaupt27263880Wilhelmshaven': 326080, 'MonnBestattungshilfeGmbHTrauben44a701760Stuttgart': 329044, 'BestattungsunternehmenWolfgangMeyleKarl1717320Tamm': 330624, 'FriederikeZachertBestattungsdienstKaiser10794100Badenweiler': 330818, 'PietätStefanRusslerSchrötergasse4653750OeichWinkel': 501299, 'BestattungsinstitutHeinzBrehlerOberweg4363640BadSalzschlirf': 328973, 'ZeißBestattungsinstitutErbacher28646580Fürth': 328094, 'EmmoraGmbHAgathen2a203570Hamburg': 502390, 'BestattungsInstitutDieterRaubingerKurze21707940Filderstadt': 501584, 'BestattungenLienemannGmbHDaimler8495040Lotte': 328229, 'AltendeiteringBestattungenSiemens1498350WietmarschenLohne': 326551, 'BestattungsinstitutMaaßNeustädter3173810Pößneck': 329164, 'StädtischeBestattungStraubingFriedhof62943150aubing': 330763, 'BestattungshausTappertNeuebeek43268020Moormerland': 500491, 'BestattungshausBremenNordAmGrohnerSchulhof16a287590Bremen': 328341, 'TischlereiMeyerBestattungenGewerbegebietTaunusblick563790Holzappel': 327507, 'BestattungshausKorteGmbHOranien1511030Köln': 327437, 'BestattungshausSchläferKarlsbrunner103663330Völklingen': 501493, 'BestattungenMartinGohmSchregenberg568000Feldkirch': 327983, 'BestattungsinstitutMurkenFergersberg15277210Ritterhude': 328969, 'BestattungenKempfHaupt22664530Gersheim': 330831, 'BestattungenKrielBahnhof5192730Neuhaus': 501363, 'BestattungshausKerstinHellmannDonner147453570Essen': 329181, 'FederMeyerBestattungsunternehmenAmObstgarten8915220Ansbach,Mittelfranken': 328342, 'BestattungsinstitutRichardHürtgenTheodorHeuss72524280Jülich': 502618, 'BestattungsinstitutRamckeRendsburger12257820Tellingstedt': 328716, 'BestattungenAllroggenPost28415160Grevenbroich': 502341, 'BestattungenRettenbergerQuierschiederWeg31a662800Sulzbach,Saar': 501605, 'BestattungshausStefanSchäferStennweiler33665780Schiffweiler': 326044, 'BestattungenHofmannBessunger122643470Griesheim': 501607, 'HöhnBestattungenUnterelldorf49961450Seßlach': 328990, 'BestattungsInstitutHaraldGeißlerKirch8638010Kleinostheim': 501844, 'HausdesAbschiedsSchmidGmbHRobertBosch6914130NeustadtanderAisch': 327596, 'BestattungenRieglerGmbHGreiendorferWeg11913150HöchstadtanderAisch': 328369, 'BestattungenTrogemannKirch8593990Olfen': 502538, 'BestattungsinstitutHeinrichBrandleKWaldsassener14956660Mitterteich': 330936, 'AlfonsRemmeleBestattungsinstitutHaupt65a673100Hettenleidelheim': 327504, 'ReichweinBestattungenInnereRegensburger3840340Landshut': 328972, 'MühlbauerBestattungeKWald9852290MarktIndersdorf': 326489, 'BestattungenGunhildTschenseRöntgen19384400Wolfsburg': 502049, 'ThomasGmbHMühlenallee4345600FritzlarZüschen': 327358, 'WagenknechtBestattungenHindenburg16428530Remscheid': 330020, 'BestattungenRuprechtWeiherasse22669570Eppenbrunn': 501201, 'BestattungenMaushammerGmbHFreisinger2840480Mainburg': 329441, 'BestattungsinstitutHeimkehrGmbHKirchleinsgrund3951000Selb': 327116, 'GröneKalbitzBestattungenoHGBusch20428950Remscheid': 500710, 'BestattungsinstitutStAnscharvon1866GmbHHavighorsterRedder51221150Hamburg': 500523, 'GlobalBestattungenGmbHSpandauerDamm131140500Berlin': 502655, 'AlfonsSchöbelPietätAmHauptbahnhof4634500Hanau': 325577, 'BestattungsInstitutGerhardZeitlerLudwig39952130Münchberg,Oberfranken': 501618, 'BestattungenBROICHSTUPPPromenaden5355414600Neuss': 330380, 'BestattungshausWeberGbRKarlMarxasse63168160Neuruppin': 327472, 'BestattungshausWittigZille8648080Wurzen': 501973, 'BestattungenMlickiRomanMlickiGbRAnderWipper165670BadFrankenhausenKyffhäuser': 327581, 'BestattungsinstitutMarionDahnkeWilhelmPieck32172130Malchow': 327584, 'BestattungenBaudischObereStadt12953260Kulmbach': 329551, 'BestattungsinstitutMänneruBiermeierGmbHKelheimwinzer62933090Kelheim': 502534, 'BestattungsinstitutAbschiedGmbHAnna16970720Würzburg': 502585, 'BestattungenBeerendonkAnnaberger174531750Bonn': 329533, 'BestattungsinstitutFriedrichRemmerCoppenbrüggerLand18318670Lauenau': 327227, 'WolframBestattungenCottbusGmbHWeinberg330500Cottbus': 500448, 'BestattungenWillemsSchanz17476230Kevelaer': 502790, 'TFBestattungshausFranzSpillerPlatz466790Hohenmölsen': 329130, 'BestattungenAdamczykGmbHSchul12933360Altmannstein': 330960, 'HamacherGmbHCoKGDürener122522490Eschweiler': 328481, 'BestattungenKarinSchmidtUnterderHardt13515880Nümbrecht': 501359, 'infinitasBestattungenundTrauerbegleitungFabrik19777460Schutterwald': 328483, 'BestattungenMierzwaGmbHSteinweg973810Pößneck': 328488, 'JSchmittBestattungenHaupt65533320Bornheim': 500426, 'BESTATTUNGSHAUSMedinaSchiller1261140Halle': 501375, 'BestattungenMiriamSchmitzHaupt58524990Baesweiler': 326588, 'RheinWaalBestattungenHoch12408780Ratingen': 326311, 'BestattungenKnöfelPost14b48210BrandisbeiWurzen': 329594, 'WillmannBestattungUnterentersbachersrtaße10777360ZellamHarmersbach': 329813, 'AbacusBestattungenKGAdolfSchmetzer24930550Regensburg': 326023, 'BestattungenIngridHehemannGmbHMindener377490860Osnabrück': 500836, 'BestattungshausKochFrauen18475740Goch': 328895, 'BestattungshausanderFinneGbRBadeplatz366470BadBibra': 500088, 'BestattungsdienstKissingKirch7864380Kissing': 500428, 'TrauerHilfeHänselerMaximilian71877190Mindelheim': 326262, 'BestattungenDuraAmNordbahnhof1850490Ingolstadt': 500167, 'BestattungsinstitutHLoosBahnhof97573340BadLaasphe': 330225, 'BestattungenMittlerHospital18a567430Mendig': 326335, 'SchillingBestattungenHolzschuher3915860Lichtenau': 329212, 'BestattungsinstitutOttoWiedermannWaidhauser7926480Vohenauß': 328515, 'BestattungenWeissMemminger64874390Kempten': 501676, 'ElsbethUlmerBestattungenBöhler8674540Haßloch': 329073, 'BestattungsinstitutHelmutSpandelAmHamannsgarten21956520Waldsassen': 328424, 'BestattungenStübingerKGMelkendorfer13953260Kulmbach': 329346, 'BestattungBenedictBussard2857570KarlsfeldbeiMünchen': 330452, 'BestattungsinstitutVogelUntereRing23905790Langenzenn': 326319, 'SauterBestattungenGoethe93674350NeustadtadWein': 500964, 'BestattungenBurghardtAhrensburger180220450Hamburg': 328997, 'SchanzerBestattungsdienstGmbHKopernikus1850570Ingolstadt': 500318, 'BeerdigungsinstitutErichKrausjunGmbHSchönbergweg27637390Aschaffenburg': 330038, 'BestattungsinstitutRolfBeuhneHaupt3116400Coswig': 327243, 'BestattungenKauschNord5243950Gelting': 329417, 'BeerdigungsinstitutErichStraußGmbHHaupt32255480Kellinghusen': 327846, 'BestattungshausGrimmenLange46185070Grimmen': 328559, 'BestattungshausGerdeseKSplittingrechts49268710Papenburg': 326415, 'BestattungenPetersRathaus34333970Rietberg': 327902, 'SilencioBestattungenStadtforst7561200Halle,Saale': 329745, 'PietätHeinrichCharwatHospital14653660Geisenheim': 330456, 'BestattungenDieterKindlerAlbertMertés12534980BadBreisig': 330393, 'BestattungenFreitagWesterbach56326090Hüllhorst': 330745, 'BestattungenDörningNeustadt64464460EmmerichElten': 502457, 'BestattungshausLeyAlteKölner4514910Overath': 329614, 'BestattungenKieferWeidberg24523880Nörvenich': 502554, 'BestattungenRappBalthasar22506700Köln': 328601, 'BestattungenSchweigerBismarck12583320Schwelm': 328610, 'HausderTrauerBestattungenBahnhof291445790CaopRauxel': 502864, 'BestattungenLangeWeing1479180Tönisvorst': 330980, 'BestattungenPaulRGötteHagener4582850Gevelsberg': 326528, 'BestattungenRobertHellmannHeinrichHaanen6413340Nettetal': 329435, 'BestattungenSchüttParade72421070Wuppertal': 326424, 'LanghalsGmbHImAltenBerge35428970Remscheid': 326597, 'BestattungsinstitutPetersJeversche38264340WangerlandOTHohenkirchen': 329722, 'BestattungenBrockschmidtGmbHWartburg30445790CaopRauxel': 326226, 'BestattungsinstitutHeinoToorenWieseder20264460Friedeburg': 330941, 'BestattungsdienstBeranWinderatterWeg8249750Ausacker': 502574, 'AnastasisBestattungenGmbHMathilden16585070Lüdenscheid': 329641, 'BestattungenGatzenGrosserSandbach23495650Bramsche': 500226, 'BestattungGötzeJahnGustavSchubert115580Großenhain': 330799, 'StädtischeBestattungsanstaltSalzburgGneiser14a50200Salzburg': 501349, 'SchmidtBestattungenGaistal58763320BadHerrenalb': 329624, 'BraunBestattungeneKHaupt122785490Spaichingen': 327256, 'LichtblickeBestattungenOHGTennenbacher50791060Freiburg': 326550, 'BestattungenNisioGmbHZiegelfeldasse1246000Olten': 330481, 'BestattungsundÜberführungsinstitutLiebscherJuliusLoßmann30904690Nürnberg': 329991, 'BestattungsunternehmenderStadtNeustadtGeorgLangbein1964650NeustadtbeiCoburg': 330176, 'RümmeleBestattungeneKSchönauer57796690ZellimWiesental': 327703, 'BestattungenWolframSchönleiterHeinrichHeineRing81184350alsund': 328752, 'RheinLahnBestattungeneKMittel3561120Lahnstein': 328662, 'BestattungenWiegandeKWiesenweg2986930Ilmenau': 330159, 'TischlereiBestattungenHellingBerg23386780ClausthalZellerfeld': 330607, 'FlorianMünterBestattungenLandsbergerAllee221130550Berlin': 326149, 'BeerdigungsinstitutKetzelKirchen3229460Trittau': 330843, 'KLausSchmidtBiberacherBestattungsdienstAstiallee91884000BiberachadRiß': 327374, 'RabertBestattungenGmbHArnheimweg1481610Münster': 327475, 'FISCHERBestattungshausBärenwiesen11722500Freudenstadt': 330931, 'ArendsBestattungenOHGWilsumer39498430Uelsen': 502718, 'GraueBestattungenGmbHCoKGO180470570Duisburg': 329041, 'LeonardSöhnchenHammerstein4141990Berlin': 329659, 'trauerwerkAnderBurg2276240Geestland': 502419, 'BestattungenGrotenburgHagwinkel3478770Willich': 327365, 'BestattungenChrappekGmbHEichelkamp3384400Wolfsburg': 328931, 'GunterGroßerBestattungsinstitutBadergasse527080Löbau': 502671, 'BrinkopBestattungenOstertor8311620BadSalzdetfurth': 327620, 'ArbogastBestattungenTrauerbegleitungKanalgasse9793790Müllheim': 326291, 'BestattungshausDüsselruheGmbHBinterim3402230Düsseldorf': 502342, 'BestattungshausGieseeKAmGemeindehaus5442250Dortmund': 330313, 'FischerBestattungsinstitutReichasse2275450Gera': 328856, 'PietätVolzIskeundSchmidtGmbHTrieb18603880Frankfurt': 502508, 'BestattungNuschelerLinien214101190Berlin': 502346, 'Bestattungsanstalt\"Pietät\"HofGmbHErneuter74950300Hof': 326474, 'BestattungsinstitutReichardTreskowallee66103180Berlin': 500110, 'CharonBestattungenAlteJakob133109690Berlin': 501986, 'CityBestattungenGreifswalder163104090Berlin': 501698, 'MahlerBestattungenDieffenbach7677109670Berlin': 328872, 'PeriklesBestattungGmbHAlserbach610900Wien': 329250, 'ESFBestattungenundTrauerhilfeGmbHAltFriedrichsfelde7a103150Berlin': 501650, 'BestattungenVIALDIEeKWester118281990Bremen': 326170, 'AydinInternationaleBestattungeneKOsterfeuerbergerRing48282190Bremen': 328889, 'BestattungshausStefanSchmitzGereon17523910Vettweiß': 330477, 'BestattungenSchwedenAufdenGeisten13404680Düsseldorf': 325769, 'BeerdigungsinstitutBockRodenbergerAllee1315420BadNenndorf': 329148, 'BestattungsinstitutDannertBahnhof14123050Berlin': 328903, 'BestattungshausKohlmannMühlen2192580Boizenburg': 326353, 'GroßmannBestattungsinstitutGmbHWelschneureuter11761490Karlsruhe': 330214, 'BestattungenPetersenNBULorenzenweg19247820Büdelsdorf': 328885, 'StolteBestattungenNBULorenzenweg19247820Büdelsdorf': 330824, 'BestattungshausJoerißenTüschenbroicher5418440Wegberg': 330209, 'BestattungshausPetraSchallereKSchul18555950Hargesheim': 327185, 'WestdeutscheBestattungsgesellschaftmbHBismarck148428590Remscheid': 326183, 'FuneraTrägerserviceGmbHBerliner49422750Wuppertal': 500091, 'ultimodoUGAmHauptbahnhof6531110Bonn': 500731, 'BosseBestattungenBerg14385180Gifhorn': 326538, 'RütingBestattungenGmbHSchmiede57237300Neustadt': 329534, 'TissenBestattungenSchenkendorf57324270Minden': 326364, 'BestattungshausOBORNIKHansSachs9330140BadDriburg': 502332, 'BestattungshausKevinHauptFrankfurter41636880Gedern': 328441, 'NeumannKlotzBestattungenStadtrand486135890Berlin': 325913, 'VoßBierBestattungenGmbHKohlgarten5388550Wernigerode': 502060, 'DGBestattungenGmbHiGRuhlsdorfer130145130Teltow': 328691, 'BestattungshausGawellekSchleswigerChaussee24b258130Husum': 502725, 'BestattungenPetervonEitzenOsterweg45258990Niebüll': 327104, 'LutherBestattungenLutherplatz361100Halle': 330399, 'BestattungenGössmannGmbHHaupt45594390Holzwickede': 330545, 'SchroerBestattungenDüsseldorfer18472390Duisburg': 501450, 'EberhardKunzeAnteaBestattungenGmbHChemnitzer3695690Oederan': 502452, 'SeebestattungAdriaObereHammer3832780Traunstein': 326649, 'HanseDiscountBestattungenGmbHFuhlsbüttler755223370Hamburg': 328061, 'HSDHanseatischesSargdepotFuhlsbüttler731223370Hamburg': 501646, 'SchröderBestattungenGmbHElisabeth35237010Eutin': 330832, 'BestattungsinstitutMenschundTierWilhem46425530Velbert': 501203, 'BestattungFerdinandDellemanneUMalser4865000Landeck': 328191, 'ConradSchormannBestattungenOberntorwall12b336020Bielefeld': 327949, 'WilhelmHeinerBestattungeneKGermanen102422770Wuppertal': 327825, 'BestattungenMertenWerwolf19426510Solingen': 501230, 'TischlereiHeinrichGropeGmbHDamm7318400HessischOldendorf': 500627, 'BestattungenWKnippNiederkasseler13a538420Troisdorf': 326087, 'KettererBestattungenHöfleberg1781360Schonach': 502021, 'BestattungenDorisLuebeKBlücher25463970Bocholt': 328261, 'BestattungenAbtHaupt31880740Meckenbeuren': 328307, 'Bestattungen„KARIN“WernereKfmÄußereReichenbacher2585290Plauen': 327793, 'VitanovaBestattungskulturReitmor22805380München': 328401, 'BestattungshausSalomonDorf2a173210Plöwen': 502510, 'BestattungenEngelhardtInduie23906160NeuhofanderZenn': 325603, 'SchliephakeBestattungNiedern41383640Schöningen': 328644, 'BestattungshausBläscheBleich13561300BadEms': 329656, 'BestattungshausKönigGmbHCoKGBeurhaus31441370Dortmund': 325521, 'AaronBestattungenGbRUstinadLabem991190Chemnitz': 326608, 'TriLeRuGmbHCoKGLangerWeg44395760Stendal': 500190, 'BestattungsinstitutKeilHaupt48668870SanktJulian': 326077, 'RuprechtTBackéBestattungenRing42669530Pirmasens': 328751, 'BeerdigungsinstitutLarsWeberGmbHPirmasenser49676550Kaiserslautern': 327743, 'BestattungsinstitutOttoKieferTrierer2544410KirfBeuren': 328576, 'AloisElsenBestattungeneKFuhrweg6545950Prüm': 327774, 'NorddeutscheBestattungsgesellschaftmbHHedigenring20259800Rantum,Sylt': 326499, 'TOHRWeltweiteÜberführungenGmbHArndt23A341230Kassel': 329389, 'BruchsalerSchreinermeisterKGKaiser105766460Bruchsal': 327773, 'BestattungenTorstenSchmidtZapelerWeg14190890Crivitz': 327995, 'BestattungenSaurenVenn49522240Stolberg': 325674, 'GerlingBestattungenSchiller48274720Cuxhaven': 327781, 'BestattungswesenderStadtSonnebergGustavKönig36965150Sonneberg': 327805, 'GrefeTischlermeisterundBestattungenGarten1295710Rosche': 501891, 'GRBestattungenGbRKirch6296400Schneverdingen': 327817, 'BeerdigungsinstitutGMeyerSpandauerDamm51140590Berlin': 328494, 'BestattungshausSeberichVietjeHildesheimer21381590Vechelde': 326591, 'BestattungshausHansenHaupt13239920Neukloster': 500469, 'BestattungenLauwigiRugenbarg39225490Hamburg': 326425, 'BestattungsinstitutLohmannFasoldeKAmtsweg1296900Schwarmstedt': 327732, 'TKGTierkrematoriumimGrünenthalGmbHGrünenthal2516470Gummersbach': 327842, 'JohnGiraldiBestattungenBahnhof49384650Brome': 325806, 'BeerdigungsinstitutIlligenNeu27472280Duisburg': 328402, 'BestattungenManfredManuelBreyerGbRBregenzer23881310Lindau': 501269, 'WallnerBestattungeneKFalkenbergsweg153211490Hamburg': 328873, 'BestattungshausDupskiSaarlouiser19158900Eisenhüttenstadt': 327782, 'BestattungsunternehmenBraunagelKonradAdenauer3a765710Gaggenau': 328525, 'BestattungshausRennéeKLange34a193950PlauamSee': 501504, 'BestattungenRudolfDietrichDresdener2546800Colditz': 327389, 'SchmidBestattungenGmbHCoKGPfeilhalde8735290SchwäbischGmünd': 501957, 'EsperaGmbHSturnengasse2667000Bludenz': 327503, 'AggenBestattungennannanWarburg': 329034, 'BurtenbacherBestattungsdienstGbRHaupt92893490Burtenbach': 328260, 'BestattungenPaulLochKotzinger8832780Traunstein': 500493, 'BestattungshausEngelUGPrediger1a171660Teterow': 328828, 'ChristianStreidtBestattungsinstitutGmbHEinsteinring13892570Illertissen': 501117, 'BestattungenSandersWiesen1486530Coesfeld': 328787, 'TaschBestattungenGmbHKarlGlöckner7635890Linsengericht': 328277, 'BestattungshausLutzSchlattmeierAhler127322570Bünde': 328320, 'BestattungLichtblickPost11830640Raubling': 329696, 'EichhornBestattungenSelzenweg3779710Kippenheim': 328066, 'BestattungenRosendahlGbRHauptkanalrechts98268710Papenburg': 328410, 'AndenmattenLambriggerSaasermauer539040Naters': 500410, 'BestattungshausBirkhölzerGrimme1599390Olsberg': 326035, 'BestattungJungGmbHInnsbruckerBundes4250200Salzburg': 500499, 'BestattungWolfGmbHOrtsried784010KalsdorfbGraz': 501530, 'AlphaBestattungenGmbHConradvHötzendorf15180100Graz': 501621, 'BestattungFeuersteinSturnengasse2667000Bludenz': 500480, 'LagrangeBestattungsGmbHRudolfReiterasse525400BadVöslau': 325828, 'BestattungSchoosleitnerIrlach5c53030Thalgau': 326548, 'EiterbichlerGmbHCoKGRedl1748710Zipf': 502302, 'TrauerHilfeBestattungReumillerGmbHKirch1669710Hard': 328706, 'BestattungSchweighoferDreimühlenweg36182500Vorau': 328442, 'BestattungGeigerGmbHKogler734430Sieghartskirchen': 502026, 'BeerdigungsinstitutJohannRoosenGmbHFriedrich16474750KampLintfort': 326330, 'BestattungenObermüllerSalz1142120NeumarktM': 327908, 'AmmannBestattungGmbHSplügenweg168300Rankweil': 502644, 'BestattungsinstitutGünthnereKLangwiesenweg53753230BadWildbad': 326666, 'KlausWagnerStephanLoewGbRAmMarkt1546340Bitburg': 329394, 'BestattungKadaeUSchmiedgasse3484300Leibnitz': 328864, 'BestattungRichardGrabenhoferOHGSemperit1425140Traiskirchen': 328053, 'BestattungRiedGmbHDonau2421000Korneuburg': 502297, 'BestattungWilhelmJosefDussmannGmbHGreifensteiner934230StAndräWördern': 328834, 'BestattungJWFuchsGesmbHStadtplatz534000Klosterneuburg': 328497, 'BestattungAAignerGesmbHRösselgraben133400WaidhofenYbbs': 327893, 'BestattungDEGabrielKGHauptplatz882250Pöllau': 328741, 'BestattungBiackGesmbHRudolf1034300Tulln': 328861, 'BestattungsinstitutWernerEngelkeDüsselburger11315470RehburgLoccum': 328902, 'BestattungenFrankStiefTannfeld48953490Thurnau': 327738, 'BestattungsinstitutBrennerGmbHAlteHeer8691680Wiesloch': 327140, 'PeterScholzBestattungenSchul8565840Rüscheid': 325844, 'BestattungenJosefFritzTeller51893310Burgau': 325779, 'GUGLERBestattungeneKSohl63671330Maxdorf': 328684, 'BestattungsInstitutPradlBahnhof12940780Freyung': 327953, 'BestattungenNeuweilerHardt6753340aubenhardt': 328880, 'BestattungsinstitutFranzJosefLanghorstKleineKirch5493770Vechta': 328527, 'BestattungshausLangeAhnsbecker41293550Beedenbostel': 328628, 'TischlereiundBestattungenGMüllerSchul12383680Grasleben': 327682, 'PietätRitterGmbHRodenbacher43637550Alzenau': 325572, 'BestattungshausSchifferHaupt77501260Bergheim': 328620, 'BestattungsinstitutSöldnerDonaugasse36944740Vilshofen': 501501, 'BestattungsinstitutBettinaVelkeFingerstein273180SaalfeldanderSaale': 330357, 'BestattungenVerlageSaerbecker30482680Greven': 327019, 'BestattungWurmeKHaupt93881610LindenbergimAllgäu': 328897, 'StädtischeBestattungFeldkirchenSchulhausgasse495600FeldkircheninKärnten': 328694, 'BestattungenDohmenBeethoven2524770Alsdorf': 328407, 'EberhardBestattungenKirch14735630Mögglingen': 328443, 'RolandIhmeBestattungshauseKBönnier33311670Bockenem': 328050, 'BestattungenHansNieseKZumMarktplatz11517090Marienheide': 501610, 'BestattungUnschwarzKGAnderLan3360200Innsbruck': 328709, 'ElkeAlthoffBestattungenDornberger521336190Bielefeld': 500597, 'BestattungenWielensGmbHMarkt7482490Dülmen': 327739, 'BestattungHelmutLechnerCoKegBahnhof161120Wattens': 328292, 'BestattungStuchlyKGFachinaasse1067120Thüringen': 328350, 'GünzburgerBestattungsdienstGmbHJahn3893120Günzburg': 328814, 'BestattungSeelenfriedenAntonBruckner4086050Kapfenberg': 326518, 'BestattungshausKarlFrentzenWinkelsFriedrichEbert9195412360Mönchengladbach': 327831, 'KleinBestattungenEngelmeßgasse2974370Haßfurt': 328375, 'BestattungsinstitutHeidemarieBauerGmbHWeissenburger59917100Gunzenhausen': 327741, 'BestattungshausFrankenheimGmbHCoKGMünster7577404760Düsseldorf': 327332, 'BeerdigungsInstitutSeemannSöhneKGDormien9225870Hamburg': 328006, 'BestattungenundTrauerhilfeMichaelisGmbHMünz19481430Münster': 328244, 'BestattungenHanriederGmbHKrankenhaus18a852210Dachau': 501240, 'BestattungshausWilfriedOdenthalRosmarin25414660Neuss': 500182, 'BestattungshausNiemeyerGmbHLingener128130485310Nordhorn': 502630, 'GBIGroßhamburgerBestattungsinstitutrVFuhlsbüttler735223370Hamburg': 501254, 'BestattungsinstitutGothaGmbHLangensalzaer89998670Gotha': 328667, 'LieblerBestattungenGmbHBaumhof47978280Marktheidenfeld': 325681, 'BestattungsinstitutPietätFreudensprungGmbHBaunacher10960520Bamberg': 327580, 'KLUTHBESTATTUNGENHaupt106108270Berlin': 326554, 'BestattungenKarlAlbertDenkGmbHCoKGKirchgasse2a854350Erding': 328068, 'BeerdigungsinstitutKrüttgenGmbHStein57a520800Aachen': 327688, 'BestattungsinstitutRGerstnerGmbHHohenzollern119751770Pforzheim': 327912, 'BestattungshausKarlBechterMannheimer187555430BadKreuznach': 328186, 'BestattungshausHarschSamuelSchröter4996280Buttstädt': 501961, 'RogaPietätBestattungenTrauerhilfeGmbHMühltor9986930Ilmenau': 328462, 'InstitutBischoffLüssumer101287790Bremen': 329237, 'GEBEINBestattungsinstitutBremenGmbHNord511282170Bremen': 328802, 'BestattungenKeuneckeGmbHCoKGCasparBaur36464830Wesel': 502579, 'EllerSchrotBestattungenUntereKordel7545160Wittlich': 328217, 'KuhlmannBestattungenBahrenfelderChaussee105227610Hamburg': 328223, 'BestattungsinstitutAntonSchmitzVonKetteler115513710Leverkusen': 500793, 'BestattungenSpohnGmbHSaarpfalzPark216664500Bexbach': 327588, 'MakiolBestattungshausGmbHWieland190590770Hamm': 330820, 'BestattungenSandleitnerKGBahnhofsplatz15877240Ottobeuren': 502104, 'BischoffBestattungshausGmbHCoKGPoggendörperWeg1a241490Kiel': 328418, 'MartensBestattungeneKWörth79241160Kiel': 328327, 'BestattungSchmidGmbHFrühling9830220Rosenheim': 327757, 'BestattungenRietmannAnderStadtkirche11484310Rheine': 327821, 'ErstesMagdeburgerBestattungshausOttovonGuericke56B391040Magdeburg': 327823, 'BestattungenJungFriedrich15563380Braubach': 328216, 'BestattungsinstitutNolteHagen5371540Northeim': 328427, 'BestattungshausWendlandGmbHHaupt85446510Herne': 502783, 'BestattungshausDeppeOelmühlen9336040Bielefeld': 329192, 'RamsaierBestattungenGmbHKatzenbach58705630Stuttgart': 327193, 'TrauerhilfeStierOHGGerwig10761310Karlsruhe': 328043, 'JörgGrandjeanBestattungeneKWisport7542950Trier': 328256, 'ScheibleBestattungeneKBlumen16891830Holzkirch': 327150, 'BestattungenKintrupGbRSchalückasse10333320Gütersloh': 328105, 'FriedrichBergBestattungenMathilden35249370Flensburg': 329464, 'BeerdigungsinstitutDubreuilGmbHHospital33666060SanktWendel': 328131, 'BestattungenWendeleKMönchsrother12915500Dinkelsbühl': 328881, 'KonertBestattungenHertener6456570Recklinghausen': 501222, 'WissmannBestattungenNetzeweg40336890Bielefeld': 501902, 'KarlKüsterBestattungenGmbHSedan28311340Hildesheim': 328876, 'BestattungenvanStiphoutNiederrheinallee127475060NeukirchenVluyn': 325656, 'BestattungenKosfeldGmbHWiescher3448050Bochum': 325927, 'BestattungenFriedeGmbHCoKGAdolfSchmetzer24930550Regensburg': 328476, 'BestattungshausPilartzeKKleineWitschgasse3506760Köln': 329720, 'BestattungshausPingelGmbHCoKGWald80498080Lingen': 328156, 'BestattungshausMärtinKGReichshof82582390Schwerte': 329093, 'BestattungsinstitutRichardEggersGmbHNiedersachsen2308530Langenhagen': 328162, 'BestattungshausHKleinAmBlümlingspfad13533590Rheinbach': 500885, 'BestattungshausMertensIttmeckerWeg24598720Meschede': 328594, 'ScheelKollBestattungenGmbHHorn9243400Eckernförde': 327664, 'BehrensBestattungenGmbHEkbert20381220Braunschweig': 328047, 'BestattungenKrügerGmbHLohbrüggerLand145a210310Hamburg': 327826, 'TrauerhilfeGöckWormserLand51673460Speyer': 328225, 'FriedrichCordesBestattungenNenndorfer84309520Ronnenberg': 325772, 'BestattungsinstitutRolfLangeMühlenbruch32194170Warin': 502303, 'SteinhauerBergerGmbHStadtkoppel8213370Lüneburg': 501202, 'BestattungsinstitutFriedrichWarnkeBahnhof11249600Glücksburg': 328177, 'SchulzGwaltneyBestattungenGbRKönigsteiner62659290FrankfurtamMain': 500522, 'BestattungsinstitutGünterFrieseKGrünerWinkel4249720Steinbergkirche': 326097, 'BraunBestattungenGmbHCoKGRing18d648070Dieburg': 501251, 'BestattungenAllmendingerStuifen13743850Pleidelsheim': 328356, 'BestattungshausKHBleckerGmbHGifhorner5385280Adenbüttel': 327653, 'DornBestattungenGmbHPfedelbacher3234746130Öhringen': 325609, 'BestattungsdienstUWEWERNERDresdner15993370HohensteinErnstthal': 327326, 'SchönseeBestattungskulturGmbHGroßerMoor4951190550Schwerin': 501561, \"BestattungsinstitutHovorkaOp'nEllerhoop6245580HenstedtUlzburg\": 500148, 'HarterBestattungenBahnhof5777610Schiltach': 330343, 'BestattungshausSARGMÜLLEROttoMüllereKGliesmaroder109381060Braunschweig': 328631, 'GeschwisterDeussenBestattungenoHGGeilenkirchener432521340Herzogenrath': 328049, 'SigridAhrensBestattungenGmbHKleineWesterholz38283090Bremen': 328715, 'BestattungenDemannKönig16a498320Freren': 328521, 'BestBestattungsundVorsorgedienstGmbHMerck13642830Darmstadt': 501275, 'KahrhofBestattungenGmbHCoKGMerck13642830Darmstadt': 328207, 'BestattungenRaueBahnhof46d168450Neustadt(Dosse)': 327309, 'TrothaerBestattungshausKGTrothaer1861180Halle': 328250, 'BestattungshausWölkereKBiermann34a321390Spenge': 328514, 'BestattungenWeltSohnSchullendamm56497160Meppen': 502199, 'BestattungsinstitutWolterGroßerEschenhorst14238790Mölln': 328693, 'RapidDataGmbHAnderTrave7a239230Selmsdorf': 327913, 'OerdingBestattungenSüdring25274040Zeven': 328171, 'BestattungshausHankemannGbRGrabbehof1482310Warendorf': 327704, 'BestattungshausMüllerderEinheit383400Schwarzenberg': 327890, 'BestattungshausFrickeHöftHarsefelder67216800Stade': 328065, 'BestattungsdienstWurmGmbHEugen37880450Friedrichshafen': 328311, 'BestattungsinstitutRudolfBollowMeisenweg2295490BadBevensen': 330923, 'CoburgerBestattungsinstitutKahlGmbHKetschendorfer39964500Coburg': 328503, 'BestattungsinstitutMeisezahlHermstedter38995100Apolda': 328846, 'BestattungsinstitutGomulskiScherlebecker341457010Herten': 500811, 'AntonBestattungenBischofswerdaer318440NeustadtinSachsen': 502746, 'BenteBestattungenGoethe2273740Visselhövede': 502079, 'EggerstedtBestattungsinstituteKFrieden44254210Pinneberg': 327827, 'BestattungshausSauerbierGmbHBrenkener13331420Büren': 328285, 'BeerdigungsinstitutClaßenHorbacher59520720Aachen': 327991, 'OllroggeKleinertBestattungenGmbHWentorfer24210290Hamburg': 326437, 'BestattungshausGebrWechlerGmbHRathaus11311340Hildesheim': 330361, 'NiklausBurklBestattungenGmbHMathilden2552460MainzKostheim': 501959, 'LUEGBestattungenBrenscheder15447990Bochum': 328308, 'BestattungsinstitutMayerBgmFFischer5964720Rödental': 328266, 'BestattungsdienstRolandSchlickWalpenreuther15952390Zell': 328738, 'BestattungsinstitutPietätBöhmKramnyBahnhof56b673460Speyer': 329096, 'BestattungsinstitutSteffenQueitschKlepziger363660Köthen': 325593, 'BestattungenIrmgardBodelleBahnhof24353900Gießen': 329118, 'LaibleBestattungenGmbHKurze1714090Schwaikheim': 327895, 'ErichSchrödterjuniorBestattungenBremer75105510Berlin': 328127, 'BestattungsDienstFriedeNeusässer15861560Augsburg': 326109, 'BestattungsDienstFriedeLeonrod9806340München': 326476, 'PietätHeinrichBrandesGmbHBreite17381000Braunschweig': 501747, 'BestattungsdienstGmbHPIETASMünchener2855600Ebersberg': 501366, 'ANTEABestattungenWaltherRathenau5867490Bitterfeld': 328181, 'BestattungsinstitutJohannesMöllerGmbHMöllner33214930Schwarzenbek': 327444, 'BestattungshausTapkenSöhneHaupt42262150Wiefelstede': 327370, 'BestattungshausGriegerMarktplatz43658240SchwalbachamTaunus': 328551, 'BestattungshausRiemppNürtinger79726220Nürtingen': 327928, 'RauschBestattungenHaupt17174590Koserow': 328732, 'HuthBestattungshausGmbHStommelner94502590Pulheim': 327510, 'BestattungshausMüllerGmbHWilhelmplatz6441490Dortmund': 500806, 'BestattungsinstitutDenkTrauerhilfeGmbHHohenlindener10d816770München': 328668, 'BestattungenTschierschkyGartenweg3350660Frankenberg,Eder': 500237, 'BussBestattungenGmbHCoKGHaupt325266390Wiesmoor': 327960, 'AbtmeyerBüchnerBestattungenSteuerwalder7311370Hildesheim': 500130, 'BestattungenPlaßmannKorbacher19336470Bielefeld': 330195, 'BestattungshausPatrzekeKWalbecker12383500Helmstedt': 329787, 'BeerdigungsinstitutdeSchutterGmbHSpital82676590Kaiserslautern': 330542, 'PaulHofmeisterGmbHBestattungsinstitutSchwab6707340Fellbach': 328611, 'BestattungshausChristianHallereKObereWeinsteige23705970Stuttgart': 328612, 'BestattungshausOldenburgBerliner46193480Perleberg': 502793, 'WilhelmStrateGmbHCoEhlenbrucher163165327910Lage': 500323, 'BestattungenSchmalkaldenGmbHEichelbach23a985740Schmalkalden': 328637, 'MartinWassinkBestattungenHolbein17267890Leer': 327392, 'BestattungenDuhmGmbHAlfredKärcher23713640Winnenden': 328071, 'BeerdigungsInstitutTielitzoHGFriedhof19282130Bremen': 328570, 'BestattungsunternehmenFrankChristiansenNorder1923257040Meldorf': 501976, 'HimmelsleiterBestattungenUnterdenEichen84d122050Berlin': 329709, 'BestattungsinstitutAntonStephan2904780Nürnberg': 502707, 'AhlbachBestattungenGmbHVenloer685508270Köln': 330378, 'BestattungenWelschHüberlingsweg49560750Koblenz': 327528, 'BestattungenGebhardBeatus130a560730Koblenz': 327715, 'TränknerBestattungenGmbHMaigasse11353900Gießen': 328148, 'BestattungsinstitutAlexanderKleinGmbHHaupt1121692140Eppelheim': 502442, 'BestattungsinstitutAlbrechtLübbeLeihhof2317890Hameln': 501132, 'BestattungenLenertAlterPostweg5462820Dorsten': 328934, 'BeerdigungsinstitutFeldhausKGAlterKirchplatz19427810Haan': 500387, 'BestattungshausGünterGeyerMeyenburgerChaussee12169090WittstockDosse': 327373, 'SeifertBestattungenHolgerCrafoord2723790Hechingen': 325864, 'EllermannBestattungenHafen108275760Bremerhaven': 325865, 'BestattungenGittereKHaupt13498240Emlichheim': 326635, 'BestattungswesenTimmKieler115254510Quickborn': 327866, 'NergeBestattungenVehlener84316830Obernkirchen': 502178, 'TorstenHeissBestattungenRathausplatz9418440Wegberg': 326480, 'SchellhaseBestattungenGmbHAhorn11144820Potsdam': 501663, 'BestattungsinstitutHechtGmbHPaulvonSchoenaich13238580Reinfeld': 325588, 'BestattungshausAugustStrunkGmbHCoKGElisabeth45241430Kiel': 501950, 'BraunsBestattungenHaupt133324790HilleOberlübbe': 325653, 'HennigsPeterBestattungenGmbHOstheimerWeg11648320Babenhausen': 325652, 'GebhardtBestattungGbREngel2a793310Teningen': 328079, 'PeterKrechelBestattungenGmbHLar145538440Troisdorf': 328119, 'LilianHoffmannBestattungenBahn6415150Grevenbroich': 328155, 'BestattungshausGleißnerSteinmannGbRErlenweg2962150Lichtenfels': 328219, 'GötzaBestattungeneKResserWeg1618456990Herten': 328326, 'BestattungsinstitutKlausThieleRaiffeisen13331750BadLippspringe': 327356, 'BestattungsdienstWeißMozerGmbHHerdweg18711310Unterjettingen': 501263, 'BestattungshausWebelEggertHelenen12318120BadPyrmont': 328480, 'MEMORISBestattungenGmbHHelmstedter159381020Braunschweig': 328760, 'SchürkampWeberBestattungeneKEinstein6163762750Ettlingen': 500137, 'BestattungenKlausBuchholzeKMartin7581350Hagen': 501668, 'BestattungshausHofenHoch25880450Friedrichshafen': 501929, 'PetersBestattungenZweiterPolderweg14267230Emden': 328530, 'MayingerBestattungenGmbHSchul10911710Greding': 328540, 'BeuelerBestattungshausGottfriedBüchelIIIKGKonradAdenauerPlatz18532250Bonn': 328688, 'BestattungenFickeisGrünewaldoHGGarten8655820Diez': 328750, 'BestattungshausWernerBillingGmbHGarten2617960Pirna': 325704, 'BestattungsinstitutStuckertGmbHUeberauer10643540Reinheim': 325809, 'PietätErnstBestattungenGbRFritzGontermann8655270Niedernhausen': 501069, 'SchmidtMauryOHGSpring27294710Gartow': 327311, 'BestattungshausHeerKöttingerWeg2931575370Wissen': 328806, 'BestattungsintitutRoseHaupt16823800Peißenberg': 327521, 'BestattungshausKruseWiesen17174190SeebadAhlbeck': 326662, 'BestattungshausSchönseeGmbHWeidenweg12963280Küps': 501985, 'BestattungshausDrangsalZweibrücker44768290Landau': 328842, 'arborBestattungenLincoln4647381120Braunschweig': 328801, 'BestattungsinstitutFinkAmAltenMarkt4716720MarbachamNeckar': 328705, 'BestattungshausIRaufGerhartHauptmannAllee68157320Eichwalde': 500256, 'BestattungenSonntagKirch20538790Euskirchen': 501310, 'BestattungsdienstFerdinandHuberGmbHObereHammer3832780Traunstein': 327892, 'BestattungenScheuvensGmbHGumbert141402290Düsseldorf': 328642, 'WennerBestattungenSalz15595050BadSassendorf': 502406, 'BestattungsinstitutWulffSohnGmbHSegebergerChaussee5658228500Norderstedt': 327937, 'BestattungshilfeRiedlGmbHSieghart15855600Ebersberg': 500476, 'BestattungsinstitutHansWeichselgärtnerCooHGGestüt2840280Landshut': 328448, 'BestattungenGölzRaibleGbRSchafberg16708060Kornwestheim': 328454, 'ZehnerBestattungenGmbHAmSteinernenBerg7986170Meiningen': 327724, 'BuschBestattungeneKMasch8316750Bückeburg': 502156, 'BestattungshausSchönfeldGmbHDorfasse25b93260Geringswalde,OTDittmannsdorf': 502680, 'BAmbergerBestattungenGmbHAltwasserweg17934260Roding': 501656, 'MurkBestattungenWald128651870Wiesbaden': 326153, 'BestattungenmitHerzSüder93249550Harrislee': 501080, 'BestattungenCorneliaPfisterBad22912200Schnaittach': 325972, 'BestattungenSchnellbächerHeidelberger5643950Brensbach': 501285, 'BestattungshausKohlmanneKfrRudolfTarnow73192300Hagenow': 330512, 'LeffersBestattungeneKHeidelberger29646250Bensheim': 326433, 'PetersdotterBestattungenKirchen6466242110Preetz': 327844, 'HansConradBestattungenGrave12460470Oberhausen': 328134, 'HLüttgauBestattungenGmbHKorn43386400Goslar': 328173, 'WieseBestattungenGmbHCoKGBaumschulenallee32306250Hannover': 328189, 'BestattungsinstitutHusmannHolausGmbHGarkenburg38305190Hannover': 328258, 'BestattungenSchnabelAnderLangenHecke8586440Iserlohn': 500245, 'WinklerBestattungshausGmbHPulsnitzer65a14540Radeberg': 328394, 'BestattungsinstitutNaundorfGmbHHeinrichZille884120Werdau': 500762, 'BestattungsinstitutBadeFlerrentwiete32228800Wedel': 328179, 'BestattungenKorbinianRiedlSee15836840Tegernsee': 328892, 'UtermarkBestattungenWitzworter6258400Friedrichstadt': 328346, 'BestattungshausKörnerGmbHGoldweg1296640Walsrode': 328569, 'BestattungsinstitutAmmermüllerZeller42940600Pocking': 328877, 'LorenzSpahrBestattungenGmbHKoblenzer4576100Altenkirchen': 325600, 'BestattungsinstitutStadlerGerike93393400Haldensleben': 327748, 'BestattungsunternehmenDieterHansenGmbHHaupt13239920Neukloster': 328194, 'BestattungsinstitutPietätEckhardUngerSchubert10637960KahlamMain': 328848, 'BestattungshilfePFGGmbHHütten86402150Düsseldorf': 501616, 'BestattungshausWilhelmKreuschGmbHHabsburgring52567270Mayen': 328434, 'BestattungsinstitutHauerGmbHWöhrvorstadt9924210Schwandorf': 328879, 'BestattungshausJürschkeGbRAmLuch44167670Leegebruch': 328882, 'BestattungenLohmannFriedhof33333300Gütersloh': 329395, 'SpoidaBestattungenGmbHCoKGSchiffsbrückenplatz4247680Rendsburg': 325855, 'AndreasKlicheBestattungenKleinflecken22245340Neumünster': 500262, 'BestattungshausKümpelAlteLohmarer8d537210Siegburg': 328640, 'TrauerhausEmelyArnoldBernhard33180570Rostock': 328505, 'BestattungsinstitutSchmidtCoGerichts34133470Berlin': 329174, 'ASVDeutschlandGmbHEilbekerWeg16220890Hamburg': 500016, 'OppermannBestattungenHordorferSraße118381040Braunschweig': 329317, 'BrosigBestattungenFilder31707710LeinfeldenEchterdingen': 326656, 'BergischesBestattungshausBreidenbrucher10b516740Wiehl': 501429, 'BestattungshausWattenbergSalzuflener116326020Vlotho': 501498, 'BestattungMarentGmbHGantschier8067800Schruns': 327324, 'BestattungenSchönebergSchwaigerner16750500Gemmingen': 501962, 'BestattungRedlichGmbHFriedhofgasse2822300Gänserndorf': 327799, 'BestattungDewangerGesmbHCoKGKaiserJosef730020Purkersdorf': 326185, 'BestattungenHohenseeMetznerHallstadter18960520Bamberg': 501079, 'BestattungEcklObergallaberg248500Timelkam': 329742, 'BestattungGroßschädlGmbHStuhlsdorfer1880630EggersdorfbeiGraz': 502320, 'BestattungSchreinerGmbHAnnengasse483500Fehring': 501787, 'BestattungsdienstBaarGmbHHeidenheimer26a890750Ulm': 500142, 'SchwietzkeBestattungenLiebig3404790Düsseldorf': 329792, 'BestattungshausSchickMelanchthon1101750150Bretten': 502720, 'HIMMLBESTATTUNGENeKKanzlei13954440Bayreuth': 500282, 'KommunaGmbHGrüntalerWeg9a46000Altenburg': 327863, 'WolffBestattungenBBILtdFeldtorweg3371200Bovenden': 500988, 'DralleBestattungenAltVinnhorst4304190Hannover': 500952, 'WarneckeBestattungenBreithaupt3306250Hannover': 501445, 'HoltBestattungsinstitutGmbHUntereStein10732300KirchheimunterTeck': 326264, 'BestattungenDirksKirchrott5a265240Hage': 330023, 'BestattungenWehmeierAmGroßenHolz10321070BadSalzuflen': 330702, 'StolzBestattungenGesmbHBundes1A88500Murau': 330368, 'BestattungWienGmbHSimmeringerHauptasse33911100Wien': 325967, 'BestattungenGunterSackWeiße5d42990Leipzig': 328305, 'BestattungFerdinandKnollHauptplatz1a43200Perg': 327945, 'BestattungenBeitzelGmbHJülicher213522490Eschweiler': 326261, 'BestattungsinstitutWellnereKMühlen26296140Soltau': 501878, 'PetschenigBestattungGmbHBrielgasse1969000Bregenz': 326408, 'BestattungenSülzenWellerstädterHaupt12910830Baiersdorf': 325804, 'BestattungTrefferSalzburger2763800StJohannTirol': 330202, 'ChristianPeterBestattungenGmbHHermann119120510Berlin': 330108, 'BestattungenLassAmGottesacker56441430Dortmund': 329894, 'BestattungAnlangerKGGrazer25a48200BadIschl': 325871, 'BestattungshausRuebenUerdinger640478000KrefeldBockum': 329606, 'BestattungshausHimmelblauGmbHSilcherplatz18740720Heilbronn': 327421, 'BestattungenSpickenbomJäger8288461490Oberhausen': 327617, 'BestattungHimmelblauGmbHKohlmarkt633a10100Wien': 502625, 'BestattungenZobelKampweg30265060Norden': 500556, 'BestattungshausFunkeFrößznitzer961930Petersberg': 330568, 'AltenkirchenerBestattungshausArbeiterLeuzbacherWeg1618576100Altenkirchen': 500910, 'BestattungshausSylviaPöschelKirch24162250Eberswalde': 325714, 'BestattungenKlausGmbHAbtOberleitner18876290Füssen': 502524, 'TrauerHausMüschenbornoHGKameke3506720Köln': 325738, 'BestattungshausPehmöllerGmbHRote6213350Lüneburg': 327147, 'SchaarschmidtBestattungenFuhlsbüttlerasse223223070Hamburg': 325536, 'BestattungsinstitutStumpfAmFriedhof9867200Nördlingen': 500521, 'BestattungsinstitutKaczurGmbHPaulshöhe1393970Kroppenstedt': 325854, 'BestattungenMarleneBartscheKCranger239458910Gelsenkirchen': 329676, 'AlbersBestattungenKnoop36210730Hamburg': 329403, 'BestattungenGerdThiemeObereSchmiedegasse1394560AnnabergBuchholz': 326689, 'ERGOGroupAGERGOPlatz1401980Düsseldorf': 325717, 'BestattungsinstitutSchubertRing29391670Niederndodeleben': 330046, 'BestattungenMarkusMüllerGmbHOldenburger10263400Zetel': 327759, 'BestattungSchachnerGmbHTorfwerk31289420Wörschach': 329112, 'BestattungUnterbergerObererMarkt232640Gresten': 500321, 'GarvensBestattungswesenGmbHGerhardt4301670Hannover': 330479, 'ZocherBestattungenArrenberger7421170Wuppertal': 329562, 'BestattungshausPietschGroßerFledderweg21490840Osnabrück': 325525, 'BestattungFritzWilfingerKGMichaeligasse882300Hartberg': 327787, 'BeerdigungsinstitutAbschiedsbrückeMartinSpreeGSteinweg59267210Emden': 329493, 'BöhmeckeBestattungenGmbHGüntherWagnerAllee45301770Hannover': 329182, 'KuhlerundKaufmannGmbHAltenberger6513990Burscheid': 329087, 'BestattungenAWLudwigAmBahnhof680560Zwickau': 502556, 'BestattungenBirkGmbHTrierer709520780Aachen': 501444, 'NimzBestattungenGmbHAnderAu6255540Wilster': 329241, 'BestattungshausBergstermannSchweerInderDodesheide16490880Osnabrück': 326604, 'BestattungsinstitutKarstenBeetzBerliner50149790Großbeeren': 329815, 'BestattungenDornerGeilsheim2917170Wassertrüdingen': 326244, 'HAHNBestattungenGmbHCoKGReißeck8121070Berlin': 502116, 'BestattungsinstitutCBodemannBrückental9997060Sondershausen': 326049, 'BestattungBaumanneKGewerbering6840720AuinderHallertau': 330577, 'BollmusBestattungenAmDolmen79247820Büdelsdorf': 329979, 'BestattungOswaldGmbHRotkreuzberg475400Güssing': 328980, 'BestattungshausUnterdenLindenUnterdenLinden35727620Reutlingen': 327797, 'BestattungStögererGesmbHAmSonnenhang482430Pinggau': 330298, 'BestattungshausHansUtzmannGmbHMarieCurie40910520Erlangen': 329636, 'AbendfriedeBestattungenGroßeDiesdorfer89391100Magdeburg': 327542, 'BestattungenLategahnHochofen12442630Dortmund': 329459, 'BestattungshausLoraRömer291471780Duisburg': 327802, 'DésiréeKühneTrauerhilfeBabstadter39749060BadRappenau': 330655, 'BestattungshilfeWuscherHirschhornerLandasse1694120Eberbach': 325908, 'BestattungshausFranzkowiakTheodorVoigt2242880Leipzig': 502358, 'BestattungsinstitutÖlmannFreiheitsplatz9386850Langelsheim': 502915, 'BestattungenLudwigBohrBurg61b544700BernkastelKues': 330742, 'BestattungenMeißelGmbHGrafZeppelin4910560Erlangen': 326475, 'DreboldBestattungenLüneburgerLand20213980Neetze': 330912, 'AmbrosiaBestattungenZwickauer23591160Chemnitz': 329099, 'BestattungDobretsbergerGmbHLand3540200Linz': 326231, 'HFBestatterinEssenGmbHHinselerHof9a452770Essen': 330341, 'BestattungsunternehmenMarianneSchmuckAmFriedhof4961140Hirschaid': 326081, 'BestattungsinstitutSchneiderWallgasse18363040Alsfeld': 500740, 'BestattungenFröhleTal10796640Wehr': 327204, 'BestattungenOffergeldPostasse1719524770Alsdorf': 330724, 'BestattungenBühmanneKBrau16315150Wunstorf': 329627, 'BestattungshausStraußQuer13445320Lünen': 325770, 'BestattungshausLocikseKEutiner104236890Pansdorf': 501071, 'BestattungenTrögerOHGBreite2193370HohensteinErnstthal': 500742, 'BestattungsdienstMarionTodteKNeundorfer12085230Plauen': 500185, 'BestattungsinstitutConcordiaKlösterle6735250SchwäbischGmünd': 326525, 'ThießBestattungenSaarbrückner865020Thale': 502523, 'BestattungshausBergesGmbHPaulGerhardt25537570SanktAugustin': 500340, 'BestattungshausAndreasSchülerGmbHInderRömerstadt10604390Frankfurt': 330778, 'EinklangBestattungenJuliusBauser18721860Empfingen': 330721, 'InaFitznerBestattungenElisabethRothweiler1781660Donaueschingen': 502723, '1WeinheimerBestattungsunternehmeneGBerg158694690Weinheim': 329019, 'BestattungenWilhelmKönigAltenbergerDom117514670BergischGladbach': 329300, 'MüllerBestattungeneKBornaische5242770Leipzig': 325948, 'BestattungenGlahnFrankfurter226511470Köln': 501119, 'BestattungshausBühnerGmbHHaupt147586750Hemer': 329557, 'BeerdigungsinstitutThomasSpannuthSternenburg52531150Bonn': 326397, 'BestattungshausWilkeKGPotsdamer78157110KönigsWusterhausen': 330823, 'BestattungenHaybachGmbHPost36651910Wiesbaden': 329559, 'BestattungshausWilhelmSchulteGmbHWersener67490900Osnabrück': 326336, 'BestattungsinstitutSchallerBerg17555950Roxheim': 329305, 'AppelTrauerHilfeGmbHWollhaus110740740Heilbronn': 325527, 'BestattungsinstitutWolfgangMännereKUnterhaunstädterWeg17850550Ingolstadt': 328524, 'BestattungshausBaumüllerAhornweg59910580Erlangen': 325797, 'ArsterBestattungsinstitutGEBEINGmbHArsterLand39282790Bremen': 330003, 'AchimerBestattungsinstitutGEBEINGmbHBremer25288320Achim': 326520, 'HuchtingerBestattungsinstitutGEBEINGmbHAlterDorfweg8a282590Bremen': 329422, 'HornerBestattungsinstitutGEBEINGmbHLeherHeer5660283590Bremen': 329184, 'WallerBestattungsinstitutGEBEINGmbHWallerHeer296282190Bremen': 330256, 'AbendfriedenBestattungenGmbHSchweriner23239700Wismar': 330531, 'SchäferBestattungenSchützen51149430Luckenwalde': 329396, 'BestattungenFriesErnstThälmann53148220Brück': 500249, 'BestattungenWeissenseeNeusach2697620Weissensee': 326115, 'GerdMüllerBestattungenTauroggener39105890Berlin': 500586, 'BestattungshausKarlHeinzSchneeSohnoHGBerg8147120Rathenow': 327497, 'BestattungBergmeisterGmbHBedaWeberGasse1499000Lienz': 502239, 'CohrsBestattungenVogtei30296830BadFallingbostel': 325507, 'AETASLebensundTrauerkulturGmbHCoKGBaldur39806380München': 325951, 'BestattungshausPeterHoppWolburg6236690Timmendorferand': 329889, 'BestattungsinstitutKutznerOstertorwall14317850Hameln': 330047, 'BestattungenFrankRichterAlteMagdeburger1565260Sangerhausen': 500152, 'BestattungenHeisterkampBebel173460490Oberhausen': 330646, 'GoedeckeBestattungenEilbergweg3229270Großhansdorf': 327873, 'MBBestattungenGmbHAdolfFriedrich1a172350Neuelitz': 501946, 'BestattungenSallanzTrautmannWilhelm4748890Sinsheim': 326684, 'BeerdigungsInstitutEberbachGbRFriedrichsdorferLand2694120Eberbach': 500068, 'BestattungenNiggebrüggeApfel27a336130Bielefeld': 330758, 'MirkensGmbHGrabenfeld4216140Buxtehude': 327877}\n"
     ]
    }
   ],
   "source": [
    "# Create a mapping from address to Steps ID\n",
    "address_to_id = dict(zip(df_salesforce['Fifth_Best_Match_Address'], df_steps['Steps ID']))\n",
    "\n",
    "# Only keep the Steps ID if the Match Score is 90% or higher\n",
    "df_salesforce['Steps_ID.1'] = df_salesforce.apply(\n",
    "    lambda row: address_to_id[row['Fifth_Best_Match_Address']] if row['Fifth_Match_Score'] >= 90 else row['Steps ID'],\n",
    "    axis=1\n",
    ")\n"
   ]
  },
  {
   "cell_type": "code",
   "execution_count": 45,
   "metadata": {},
   "outputs": [
    {
     "name": "stdout",
     "output_type": "stream",
     "text": [
      "DataFrame has been exported to C:\\Users\\Katha\\Documents\\Job application documents\\Data Analyst application\\Case Studies\\Rapid Data\\df_salesforce.xlsx\n"
     ]
    }
   ],
   "source": [
    "output_file = r'C:\\Users\\Katha\\Documents\\Job application documents\\Data Analyst application\\Case Studies\\Rapid Data\\df_salesforce.xlsx'\n",
    "\n",
    "# Export the DataFrame to an Excel file\n",
    "df_salesforce.to_excel(output_file, index=False, engine='openpyxl')\n",
    "\n",
    "print(f\"DataFrame has been exported to {output_file}\")"
   ]
  }
 ],
 "metadata": {
  "kernelspec": {
   "display_name": ".venv",
   "language": "python",
   "name": "python3"
  },
  "language_info": {
   "codemirror_mode": {
    "name": "ipython",
    "version": 3
   },
   "file_extension": ".py",
   "mimetype": "text/x-python",
   "name": "python",
   "nbconvert_exporter": "python",
   "pygments_lexer": "ipython3",
   "version": "3.11.5"
  }
 },
 "nbformat": 4,
 "nbformat_minor": 2
}
